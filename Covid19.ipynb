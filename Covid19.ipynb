{
  "nbformat": 4,
  "nbformat_minor": 0,
  "metadata": {
    "colab": {
      "name": "Covid19.ipynb",
      "provenance": []
    },
    "kernelspec": {
      "name": "python3",
      "display_name": "Python 3"
    }
  },
  "cells": [
    {
      "cell_type": "code",
      "metadata": {
        "id": "9_GsVzjHB_eF",
        "colab_type": "code",
        "colab": {}
      },
      "source": [
        "# importing the required libraries\n",
        "import pandas as pd\n",
        "\n",
        "# Visualisation libraries\n",
        "import matplotlib.pyplot as plt\n",
        "%matplotlib inline\n",
        "import seaborn as sns\n",
        "import plotly.express as px\n",
        "import plotly.graph_objects as go\n",
        "#import folium \n",
        "from folium import plugins\n",
        "\n",
        "# Manipulating the default plot size\n",
        "plt.rcParams['figure.figsize'] = 10, 12\n",
        "\n",
        "# Disable warnings \n",
        "import warnings\n",
        "warnings.filterwarnings('ignore')"
      ],
      "execution_count": 0,
      "outputs": []
    },
    {
      "cell_type": "markdown",
      "metadata": {
        "id": "9i65Dg8mYubb",
        "colab_type": "text"
      },
      "source": [
        "# Data Preprocessing and visulaising"
      ]
    },
    {
      "cell_type": "code",
      "metadata": {
        "id": "sJWoXQQbfvSk",
        "colab_type": "code",
        "colab": {
          "base_uri": "https://localhost:8080/",
          "height": 419
        },
        "outputId": "479a9153-24fe-4d00-aea2-4e8459640549"
      },
      "source": [
        "data = pd.read_csv(\"Cumlative/covid_19_india.csv\")\n",
        "data"
      ],
      "execution_count": 2,
      "outputs": [
        {
          "output_type": "execute_result",
          "data": {
            "text/html": [
              "<div>\n",
              "<style scoped>\n",
              "    .dataframe tbody tr th:only-of-type {\n",
              "        vertical-align: middle;\n",
              "    }\n",
              "\n",
              "    .dataframe tbody tr th {\n",
              "        vertical-align: top;\n",
              "    }\n",
              "\n",
              "    .dataframe thead th {\n",
              "        text-align: right;\n",
              "    }\n",
              "</style>\n",
              "<table border=\"1\" class=\"dataframe\">\n",
              "  <thead>\n",
              "    <tr style=\"text-align: right;\">\n",
              "      <th></th>\n",
              "      <th>Sno</th>\n",
              "      <th>Date</th>\n",
              "      <th>Time</th>\n",
              "      <th>State/UnionTerritory</th>\n",
              "      <th>ConfirmedIndianNational</th>\n",
              "      <th>ConfirmedForeignNational</th>\n",
              "      <th>Cured</th>\n",
              "      <th>Deaths</th>\n",
              "      <th>Confirmed</th>\n",
              "    </tr>\n",
              "  </thead>\n",
              "  <tbody>\n",
              "    <tr>\n",
              "      <th>0</th>\n",
              "      <td>1</td>\n",
              "      <td>30/01/20</td>\n",
              "      <td>6:00 PM</td>\n",
              "      <td>Kerala</td>\n",
              "      <td>1</td>\n",
              "      <td>0</td>\n",
              "      <td>0.0</td>\n",
              "      <td>0.0</td>\n",
              "      <td>1</td>\n",
              "    </tr>\n",
              "    <tr>\n",
              "      <th>1</th>\n",
              "      <td>2</td>\n",
              "      <td>31/01/20</td>\n",
              "      <td>6:00 PM</td>\n",
              "      <td>Kerala</td>\n",
              "      <td>1</td>\n",
              "      <td>0</td>\n",
              "      <td>0.0</td>\n",
              "      <td>0.0</td>\n",
              "      <td>1</td>\n",
              "    </tr>\n",
              "    <tr>\n",
              "      <th>2</th>\n",
              "      <td>3</td>\n",
              "      <td>01/02/20</td>\n",
              "      <td>6:00 PM</td>\n",
              "      <td>Kerala</td>\n",
              "      <td>2</td>\n",
              "      <td>0</td>\n",
              "      <td>0.0</td>\n",
              "      <td>0.0</td>\n",
              "      <td>2</td>\n",
              "    </tr>\n",
              "    <tr>\n",
              "      <th>3</th>\n",
              "      <td>4</td>\n",
              "      <td>02/02/20</td>\n",
              "      <td>6:00 PM</td>\n",
              "      <td>Kerala</td>\n",
              "      <td>3</td>\n",
              "      <td>0</td>\n",
              "      <td>0.0</td>\n",
              "      <td>0.0</td>\n",
              "      <td>3</td>\n",
              "    </tr>\n",
              "    <tr>\n",
              "      <th>4</th>\n",
              "      <td>5</td>\n",
              "      <td>03/02/20</td>\n",
              "      <td>6:00 PM</td>\n",
              "      <td>Kerala</td>\n",
              "      <td>3</td>\n",
              "      <td>0</td>\n",
              "      <td>0.0</td>\n",
              "      <td>0.0</td>\n",
              "      <td>3</td>\n",
              "    </tr>\n",
              "    <tr>\n",
              "      <th>...</th>\n",
              "      <td>...</td>\n",
              "      <td>...</td>\n",
              "      <td>...</td>\n",
              "      <td>...</td>\n",
              "      <td>...</td>\n",
              "      <td>...</td>\n",
              "      <td>...</td>\n",
              "      <td>...</td>\n",
              "      <td>...</td>\n",
              "    </tr>\n",
              "    <tr>\n",
              "      <th>2163</th>\n",
              "      <td>2164</td>\n",
              "      <td>21/05/20</td>\n",
              "      <td>8:00 AM</td>\n",
              "      <td>Tripura</td>\n",
              "      <td>-</td>\n",
              "      <td>-</td>\n",
              "      <td>133.0</td>\n",
              "      <td>0.0</td>\n",
              "      <td>173</td>\n",
              "    </tr>\n",
              "    <tr>\n",
              "      <th>2164</th>\n",
              "      <td>2165</td>\n",
              "      <td>21/05/20</td>\n",
              "      <td>8:00 AM</td>\n",
              "      <td>Uttarakhand</td>\n",
              "      <td>-</td>\n",
              "      <td>-</td>\n",
              "      <td>53.0</td>\n",
              "      <td>1.0</td>\n",
              "      <td>122</td>\n",
              "    </tr>\n",
              "    <tr>\n",
              "      <th>2165</th>\n",
              "      <td>2166</td>\n",
              "      <td>21/05/20</td>\n",
              "      <td>8:00 AM</td>\n",
              "      <td>Uttar Pradesh</td>\n",
              "      <td>-</td>\n",
              "      <td>-</td>\n",
              "      <td>3066.0</td>\n",
              "      <td>127.0</td>\n",
              "      <td>5175</td>\n",
              "    </tr>\n",
              "    <tr>\n",
              "      <th>2166</th>\n",
              "      <td>2167</td>\n",
              "      <td>21/05/20</td>\n",
              "      <td>8:00 AM</td>\n",
              "      <td>West Bengal</td>\n",
              "      <td>-</td>\n",
              "      <td>-</td>\n",
              "      <td>1136.0</td>\n",
              "      <td>253.0</td>\n",
              "      <td>3103</td>\n",
              "    </tr>\n",
              "    <tr>\n",
              "      <th>2167</th>\n",
              "      <td>2168</td>\n",
              "      <td>21/05/20</td>\n",
              "      <td>8:00 AM</td>\n",
              "      <td>Cases being reassigned to states</td>\n",
              "      <td>-</td>\n",
              "      <td>-</td>\n",
              "      <td>NaN</td>\n",
              "      <td>NaN</td>\n",
              "      <td>1403</td>\n",
              "    </tr>\n",
              "  </tbody>\n",
              "</table>\n",
              "<p>2168 rows × 9 columns</p>\n",
              "</div>"
            ],
            "text/plain": [
              "       Sno      Date     Time  ...   Cured Deaths Confirmed\n",
              "0        1  30/01/20  6:00 PM  ...     0.0    0.0         1\n",
              "1        2  31/01/20  6:00 PM  ...     0.0    0.0         1\n",
              "2        3  01/02/20  6:00 PM  ...     0.0    0.0         2\n",
              "3        4  02/02/20  6:00 PM  ...     0.0    0.0         3\n",
              "4        5  03/02/20  6:00 PM  ...     0.0    0.0         3\n",
              "...    ...       ...      ...  ...     ...    ...       ...\n",
              "2163  2164  21/05/20  8:00 AM  ...   133.0    0.0       173\n",
              "2164  2165  21/05/20  8:00 AM  ...    53.0    1.0       122\n",
              "2165  2166  21/05/20  8:00 AM  ...  3066.0  127.0      5175\n",
              "2166  2167  21/05/20  8:00 AM  ...  1136.0  253.0      3103\n",
              "2167  2168  21/05/20  8:00 AM  ...     NaN    NaN      1403\n",
              "\n",
              "[2168 rows x 9 columns]"
            ]
          },
          "metadata": {
            "tags": []
          },
          "execution_count": 2
        }
      ]
    },
    {
      "cell_type": "code",
      "metadata": {
        "id": "vkcfMyJ2fvVI",
        "colab_type": "code",
        "colab": {
          "base_uri": "https://localhost:8080/",
          "height": 419
        },
        "outputId": "c699830e-7e11-424e-c0bf-d0cbc1e9cff3"
      },
      "source": [
        "data1 = data.copy()\n",
        "data1 = data1.drop(['Time','ConfirmedIndianNational','ConfirmedForeignNational','Sno'], axis=1)\n",
        "data1 = data1.fillna(0)\n",
        "data1"
      ],
      "execution_count": 3,
      "outputs": [
        {
          "output_type": "execute_result",
          "data": {
            "text/html": [
              "<div>\n",
              "<style scoped>\n",
              "    .dataframe tbody tr th:only-of-type {\n",
              "        vertical-align: middle;\n",
              "    }\n",
              "\n",
              "    .dataframe tbody tr th {\n",
              "        vertical-align: top;\n",
              "    }\n",
              "\n",
              "    .dataframe thead th {\n",
              "        text-align: right;\n",
              "    }\n",
              "</style>\n",
              "<table border=\"1\" class=\"dataframe\">\n",
              "  <thead>\n",
              "    <tr style=\"text-align: right;\">\n",
              "      <th></th>\n",
              "      <th>Date</th>\n",
              "      <th>State/UnionTerritory</th>\n",
              "      <th>Cured</th>\n",
              "      <th>Deaths</th>\n",
              "      <th>Confirmed</th>\n",
              "    </tr>\n",
              "  </thead>\n",
              "  <tbody>\n",
              "    <tr>\n",
              "      <th>0</th>\n",
              "      <td>30/01/20</td>\n",
              "      <td>Kerala</td>\n",
              "      <td>0.0</td>\n",
              "      <td>0.0</td>\n",
              "      <td>1</td>\n",
              "    </tr>\n",
              "    <tr>\n",
              "      <th>1</th>\n",
              "      <td>31/01/20</td>\n",
              "      <td>Kerala</td>\n",
              "      <td>0.0</td>\n",
              "      <td>0.0</td>\n",
              "      <td>1</td>\n",
              "    </tr>\n",
              "    <tr>\n",
              "      <th>2</th>\n",
              "      <td>01/02/20</td>\n",
              "      <td>Kerala</td>\n",
              "      <td>0.0</td>\n",
              "      <td>0.0</td>\n",
              "      <td>2</td>\n",
              "    </tr>\n",
              "    <tr>\n",
              "      <th>3</th>\n",
              "      <td>02/02/20</td>\n",
              "      <td>Kerala</td>\n",
              "      <td>0.0</td>\n",
              "      <td>0.0</td>\n",
              "      <td>3</td>\n",
              "    </tr>\n",
              "    <tr>\n",
              "      <th>4</th>\n",
              "      <td>03/02/20</td>\n",
              "      <td>Kerala</td>\n",
              "      <td>0.0</td>\n",
              "      <td>0.0</td>\n",
              "      <td>3</td>\n",
              "    </tr>\n",
              "    <tr>\n",
              "      <th>...</th>\n",
              "      <td>...</td>\n",
              "      <td>...</td>\n",
              "      <td>...</td>\n",
              "      <td>...</td>\n",
              "      <td>...</td>\n",
              "    </tr>\n",
              "    <tr>\n",
              "      <th>2163</th>\n",
              "      <td>21/05/20</td>\n",
              "      <td>Tripura</td>\n",
              "      <td>133.0</td>\n",
              "      <td>0.0</td>\n",
              "      <td>173</td>\n",
              "    </tr>\n",
              "    <tr>\n",
              "      <th>2164</th>\n",
              "      <td>21/05/20</td>\n",
              "      <td>Uttarakhand</td>\n",
              "      <td>53.0</td>\n",
              "      <td>1.0</td>\n",
              "      <td>122</td>\n",
              "    </tr>\n",
              "    <tr>\n",
              "      <th>2165</th>\n",
              "      <td>21/05/20</td>\n",
              "      <td>Uttar Pradesh</td>\n",
              "      <td>3066.0</td>\n",
              "      <td>127.0</td>\n",
              "      <td>5175</td>\n",
              "    </tr>\n",
              "    <tr>\n",
              "      <th>2166</th>\n",
              "      <td>21/05/20</td>\n",
              "      <td>West Bengal</td>\n",
              "      <td>1136.0</td>\n",
              "      <td>253.0</td>\n",
              "      <td>3103</td>\n",
              "    </tr>\n",
              "    <tr>\n",
              "      <th>2167</th>\n",
              "      <td>21/05/20</td>\n",
              "      <td>Cases being reassigned to states</td>\n",
              "      <td>0.0</td>\n",
              "      <td>0.0</td>\n",
              "      <td>1403</td>\n",
              "    </tr>\n",
              "  </tbody>\n",
              "</table>\n",
              "<p>2168 rows × 5 columns</p>\n",
              "</div>"
            ],
            "text/plain": [
              "          Date              State/UnionTerritory   Cured  Deaths  Confirmed\n",
              "0     30/01/20                            Kerala     0.0     0.0          1\n",
              "1     31/01/20                            Kerala     0.0     0.0          1\n",
              "2     01/02/20                            Kerala     0.0     0.0          2\n",
              "3     02/02/20                            Kerala     0.0     0.0          3\n",
              "4     03/02/20                            Kerala     0.0     0.0          3\n",
              "...        ...                               ...     ...     ...        ...\n",
              "2163  21/05/20                           Tripura   133.0     0.0        173\n",
              "2164  21/05/20                       Uttarakhand    53.0     1.0        122\n",
              "2165  21/05/20                     Uttar Pradesh  3066.0   127.0       5175\n",
              "2166  21/05/20                       West Bengal  1136.0   253.0       3103\n",
              "2167  21/05/20  Cases being reassigned to states     0.0     0.0       1403\n",
              "\n",
              "[2168 rows x 5 columns]"
            ]
          },
          "metadata": {
            "tags": []
          },
          "execution_count": 3
        }
      ]
    },
    {
      "cell_type": "code",
      "metadata": {
        "id": "tpae-8LofvZb",
        "colab_type": "code",
        "colab": {
          "base_uri": "https://localhost:8080/",
          "height": 204
        },
        "outputId": "49d8c36d-f0ca-453d-ceae-b3eed962897e"
      },
      "source": [
        "#Changing date format to year/month/date\n",
        "\n",
        "\n",
        "data1['Date'] = pd.to_datetime(data1['Date'], format = '%d/%m/%y')\n",
        "data1['Date'] = data1['Date'].dt.strftime('%y/%m/%d')\n",
        "data1.tail()"
      ],
      "execution_count": 4,
      "outputs": [
        {
          "output_type": "execute_result",
          "data": {
            "text/html": [
              "<div>\n",
              "<style scoped>\n",
              "    .dataframe tbody tr th:only-of-type {\n",
              "        vertical-align: middle;\n",
              "    }\n",
              "\n",
              "    .dataframe tbody tr th {\n",
              "        vertical-align: top;\n",
              "    }\n",
              "\n",
              "    .dataframe thead th {\n",
              "        text-align: right;\n",
              "    }\n",
              "</style>\n",
              "<table border=\"1\" class=\"dataframe\">\n",
              "  <thead>\n",
              "    <tr style=\"text-align: right;\">\n",
              "      <th></th>\n",
              "      <th>Date</th>\n",
              "      <th>State/UnionTerritory</th>\n",
              "      <th>Cured</th>\n",
              "      <th>Deaths</th>\n",
              "      <th>Confirmed</th>\n",
              "    </tr>\n",
              "  </thead>\n",
              "  <tbody>\n",
              "    <tr>\n",
              "      <th>2163</th>\n",
              "      <td>20/05/21</td>\n",
              "      <td>Tripura</td>\n",
              "      <td>133.0</td>\n",
              "      <td>0.0</td>\n",
              "      <td>173</td>\n",
              "    </tr>\n",
              "    <tr>\n",
              "      <th>2164</th>\n",
              "      <td>20/05/21</td>\n",
              "      <td>Uttarakhand</td>\n",
              "      <td>53.0</td>\n",
              "      <td>1.0</td>\n",
              "      <td>122</td>\n",
              "    </tr>\n",
              "    <tr>\n",
              "      <th>2165</th>\n",
              "      <td>20/05/21</td>\n",
              "      <td>Uttar Pradesh</td>\n",
              "      <td>3066.0</td>\n",
              "      <td>127.0</td>\n",
              "      <td>5175</td>\n",
              "    </tr>\n",
              "    <tr>\n",
              "      <th>2166</th>\n",
              "      <td>20/05/21</td>\n",
              "      <td>West Bengal</td>\n",
              "      <td>1136.0</td>\n",
              "      <td>253.0</td>\n",
              "      <td>3103</td>\n",
              "    </tr>\n",
              "    <tr>\n",
              "      <th>2167</th>\n",
              "      <td>20/05/21</td>\n",
              "      <td>Cases being reassigned to states</td>\n",
              "      <td>0.0</td>\n",
              "      <td>0.0</td>\n",
              "      <td>1403</td>\n",
              "    </tr>\n",
              "  </tbody>\n",
              "</table>\n",
              "</div>"
            ],
            "text/plain": [
              "          Date              State/UnionTerritory   Cured  Deaths  Confirmed\n",
              "2163  20/05/21                           Tripura   133.0     0.0        173\n",
              "2164  20/05/21                       Uttarakhand    53.0     1.0        122\n",
              "2165  20/05/21                     Uttar Pradesh  3066.0   127.0       5175\n",
              "2166  20/05/21                       West Bengal  1136.0   253.0       3103\n",
              "2167  20/05/21  Cases being reassigned to states     0.0     0.0       1403"
            ]
          },
          "metadata": {
            "tags": []
          },
          "execution_count": 4
        }
      ]
    },
    {
      "cell_type": "code",
      "metadata": {
        "id": "1SbYOrsiYz7i",
        "colab_type": "code",
        "colab": {
          "base_uri": "https://localhost:8080/",
          "height": 450
        },
        "outputId": "c29f1761-44e7-4623-ee2e-8d191c812cf5"
      },
      "source": [
        "#data1.drop(data1.tail(1).index, inplace = True)\n",
        "data1 = data1.groupby(['Date'])[['Confirmed','Cured','Deaths']].sum()\n",
        "data1"
      ],
      "execution_count": 5,
      "outputs": [
        {
          "output_type": "execute_result",
          "data": {
            "text/html": [
              "<div>\n",
              "<style scoped>\n",
              "    .dataframe tbody tr th:only-of-type {\n",
              "        vertical-align: middle;\n",
              "    }\n",
              "\n",
              "    .dataframe tbody tr th {\n",
              "        vertical-align: top;\n",
              "    }\n",
              "\n",
              "    .dataframe thead th {\n",
              "        text-align: right;\n",
              "    }\n",
              "</style>\n",
              "<table border=\"1\" class=\"dataframe\">\n",
              "  <thead>\n",
              "    <tr style=\"text-align: right;\">\n",
              "      <th></th>\n",
              "      <th>Confirmed</th>\n",
              "      <th>Cured</th>\n",
              "      <th>Deaths</th>\n",
              "    </tr>\n",
              "    <tr>\n",
              "      <th>Date</th>\n",
              "      <th></th>\n",
              "      <th></th>\n",
              "      <th></th>\n",
              "    </tr>\n",
              "  </thead>\n",
              "  <tbody>\n",
              "    <tr>\n",
              "      <th>20/01/30</th>\n",
              "      <td>1</td>\n",
              "      <td>0.0</td>\n",
              "      <td>0.0</td>\n",
              "    </tr>\n",
              "    <tr>\n",
              "      <th>20/01/31</th>\n",
              "      <td>1</td>\n",
              "      <td>0.0</td>\n",
              "      <td>0.0</td>\n",
              "    </tr>\n",
              "    <tr>\n",
              "      <th>20/02/01</th>\n",
              "      <td>2</td>\n",
              "      <td>0.0</td>\n",
              "      <td>0.0</td>\n",
              "    </tr>\n",
              "    <tr>\n",
              "      <th>20/02/02</th>\n",
              "      <td>3</td>\n",
              "      <td>0.0</td>\n",
              "      <td>0.0</td>\n",
              "    </tr>\n",
              "    <tr>\n",
              "      <th>20/02/03</th>\n",
              "      <td>3</td>\n",
              "      <td>0.0</td>\n",
              "      <td>0.0</td>\n",
              "    </tr>\n",
              "    <tr>\n",
              "      <th>...</th>\n",
              "      <td>...</td>\n",
              "      <td>...</td>\n",
              "      <td>...</td>\n",
              "    </tr>\n",
              "    <tr>\n",
              "      <th>20/05/17</th>\n",
              "      <td>90637</td>\n",
              "      <td>34109.0</td>\n",
              "      <td>2872.0</td>\n",
              "    </tr>\n",
              "    <tr>\n",
              "      <th>20/05/18</th>\n",
              "      <td>95759</td>\n",
              "      <td>36824.0</td>\n",
              "      <td>3029.0</td>\n",
              "    </tr>\n",
              "    <tr>\n",
              "      <th>20/05/19</th>\n",
              "      <td>100325</td>\n",
              "      <td>39174.0</td>\n",
              "      <td>3163.0</td>\n",
              "    </tr>\n",
              "    <tr>\n",
              "      <th>20/05/20</th>\n",
              "      <td>106750</td>\n",
              "      <td>42298.0</td>\n",
              "      <td>3303.0</td>\n",
              "    </tr>\n",
              "    <tr>\n",
              "      <th>20/05/21</th>\n",
              "      <td>112359</td>\n",
              "      <td>45300.0</td>\n",
              "      <td>3435.0</td>\n",
              "    </tr>\n",
              "  </tbody>\n",
              "</table>\n",
              "<p>113 rows × 3 columns</p>\n",
              "</div>"
            ],
            "text/plain": [
              "          Confirmed    Cured  Deaths\n",
              "Date                                \n",
              "20/01/30          1      0.0     0.0\n",
              "20/01/31          1      0.0     0.0\n",
              "20/02/01          2      0.0     0.0\n",
              "20/02/02          3      0.0     0.0\n",
              "20/02/03          3      0.0     0.0\n",
              "...             ...      ...     ...\n",
              "20/05/17      90637  34109.0  2872.0\n",
              "20/05/18      95759  36824.0  3029.0\n",
              "20/05/19     100325  39174.0  3163.0\n",
              "20/05/20     106750  42298.0  3303.0\n",
              "20/05/21     112359  45300.0  3435.0\n",
              "\n",
              "[113 rows x 3 columns]"
            ]
          },
          "metadata": {
            "tags": []
          },
          "execution_count": 5
        }
      ]
    },
    {
      "cell_type": "code",
      "metadata": {
        "id": "y3Ce5i-TfDUA",
        "colab_type": "code",
        "colab": {
          "base_uri": "https://localhost:8080/",
          "height": 204
        },
        "outputId": "3c648d43-b6b6-4fa9-86ce-5a8951f818aa"
      },
      "source": [
        "confirmed = data1.groupby('Date').sum()['Confirmed'].reset_index()\n",
        "deaths = data1.groupby('Date').sum()['Deaths'].reset_index()\n",
        "recovered = data1.groupby('Date').sum()['Cured'].reset_index()\n",
        "confirmed.tail()"
      ],
      "execution_count": 6,
      "outputs": [
        {
          "output_type": "execute_result",
          "data": {
            "text/html": [
              "<div>\n",
              "<style scoped>\n",
              "    .dataframe tbody tr th:only-of-type {\n",
              "        vertical-align: middle;\n",
              "    }\n",
              "\n",
              "    .dataframe tbody tr th {\n",
              "        vertical-align: top;\n",
              "    }\n",
              "\n",
              "    .dataframe thead th {\n",
              "        text-align: right;\n",
              "    }\n",
              "</style>\n",
              "<table border=\"1\" class=\"dataframe\">\n",
              "  <thead>\n",
              "    <tr style=\"text-align: right;\">\n",
              "      <th></th>\n",
              "      <th>Date</th>\n",
              "      <th>Confirmed</th>\n",
              "    </tr>\n",
              "  </thead>\n",
              "  <tbody>\n",
              "    <tr>\n",
              "      <th>108</th>\n",
              "      <td>20/05/17</td>\n",
              "      <td>90637</td>\n",
              "    </tr>\n",
              "    <tr>\n",
              "      <th>109</th>\n",
              "      <td>20/05/18</td>\n",
              "      <td>95759</td>\n",
              "    </tr>\n",
              "    <tr>\n",
              "      <th>110</th>\n",
              "      <td>20/05/19</td>\n",
              "      <td>100325</td>\n",
              "    </tr>\n",
              "    <tr>\n",
              "      <th>111</th>\n",
              "      <td>20/05/20</td>\n",
              "      <td>106750</td>\n",
              "    </tr>\n",
              "    <tr>\n",
              "      <th>112</th>\n",
              "      <td>20/05/21</td>\n",
              "      <td>112359</td>\n",
              "    </tr>\n",
              "  </tbody>\n",
              "</table>\n",
              "</div>"
            ],
            "text/plain": [
              "         Date  Confirmed\n",
              "108  20/05/17      90637\n",
              "109  20/05/18      95759\n",
              "110  20/05/19     100325\n",
              "111  20/05/20     106750\n",
              "112  20/05/21     112359"
            ]
          },
          "metadata": {
            "tags": []
          },
          "execution_count": 6
        }
      ]
    },
    {
      "cell_type": "code",
      "metadata": {
        "id": "JDFo1BqkfUG3",
        "colab_type": "code",
        "colab": {
          "base_uri": "https://localhost:8080/",
          "height": 537
        },
        "outputId": "97602c99-d14b-4230-9ade-a15746954483"
      },
      "source": [
        "fig = go.Figure()\n",
        "#Plotting datewise confirmed cases\n",
        "fig.add_trace(go.Scatter(x=confirmed['Date'], y=confirmed['Confirmed'], mode='lines+markers', name='Confirmed',line=dict(color='blue', width=2)))\n",
        "fig.add_trace(go.Scatter(x=deaths['Date'], y=deaths['Deaths'], mode='lines+markers', name='Deaths', line=dict(color='Red', width=2)))\n",
        "fig.add_trace(go.Scatter(x=recovered['Date'], y=recovered['Cured'], mode='lines+markers', name='Recovered', line=dict(color='Green', width=2)))\n",
        "fig.update_layout(title='India NCOVID-19 Cases', xaxis_tickfont_size=14,yaxis=dict(title='Number of Cases'))\n",
        "\n",
        "fig.update_layout(\n",
        "    autosize=False,\n",
        "    width=1500,\n",
        "    height=500,\n",
        "    margin=dict(\n",
        "        l=0,\n",
        "        r=0,\n",
        "        b=0,\n",
        "        t=0,\n",
        "        pad=0\n",
        "    ),\n",
        "    paper_bgcolor=\"LightSteelBlue\",\n",
        ")\n",
        "fig.show()"
      ],
      "execution_count": 7,
      "outputs": [
        {
          "output_type": "display_data",
          "data": {
            "text/html": [
              "<html>\n",
              "<head><meta charset=\"utf-8\" /></head>\n",
              "<body>\n",
              "    <div>\n",
              "            <script src=\"https://cdnjs.cloudflare.com/ajax/libs/mathjax/2.7.5/MathJax.js?config=TeX-AMS-MML_SVG\"></script><script type=\"text/javascript\">if (window.MathJax) {MathJax.Hub.Config({SVG: {font: \"STIX-Web\"}});}</script>\n",
              "                <script type=\"text/javascript\">window.PlotlyConfig = {MathJaxConfig: 'local'};</script>\n",
              "        <script src=\"https://cdn.plot.ly/plotly-latest.min.js\"></script>    \n",
              "            <div id=\"8a93861f-c7c8-48cd-b2ef-03cdcdf2fd10\" class=\"plotly-graph-div\" style=\"height:500px; width:1500px;\"></div>\n",
              "            <script type=\"text/javascript\">\n",
              "                \n",
              "                    window.PLOTLYENV=window.PLOTLYENV || {};\n",
              "                    \n",
              "                if (document.getElementById(\"8a93861f-c7c8-48cd-b2ef-03cdcdf2fd10\")) {\n",
              "                    Plotly.newPlot(\n",
              "                        '8a93861f-c7c8-48cd-b2ef-03cdcdf2fd10',\n",
              "                        [{\"line\": {\"color\": \"blue\", \"width\": 2}, \"mode\": \"lines+markers\", \"name\": \"Confirmed\", \"type\": \"scatter\", \"x\": [\"20/01/30\", \"20/01/31\", \"20/02/01\", \"20/02/02\", \"20/02/03\", \"20/02/04\", \"20/02/05\", \"20/02/06\", \"20/02/07\", \"20/02/08\", \"20/02/09\", \"20/02/10\", \"20/02/11\", \"20/02/12\", \"20/02/13\", \"20/02/14\", \"20/02/15\", \"20/02/16\", \"20/02/17\", \"20/02/18\", \"20/02/19\", \"20/02/20\", \"20/02/21\", \"20/02/22\", \"20/02/23\", \"20/02/24\", \"20/02/25\", \"20/02/26\", \"20/02/27\", \"20/02/28\", \"20/02/29\", \"20/03/01\", \"20/03/02\", \"20/03/03\", \"20/03/04\", \"20/03/05\", \"20/03/06\", \"20/03/07\", \"20/03/08\", \"20/03/09\", \"20/03/10\", \"20/03/11\", \"20/03/12\", \"20/03/13\", \"20/03/14\", \"20/03/15\", \"20/03/16\", \"20/03/17\", \"20/03/18\", \"20/03/19\", \"20/03/20\", \"20/03/21\", \"20/03/22\", \"20/03/23\", \"20/03/24\", \"20/03/25\", \"20/03/26\", \"20/03/27\", \"20/03/28\", \"20/03/29\", \"20/03/30\", \"20/03/31\", \"20/04/01\", \"20/04/02\", \"20/04/03\", \"20/04/04\", \"20/04/05\", \"20/04/06\", \"20/04/07\", \"20/04/08\", \"20/04/09\", \"20/04/10\", \"20/04/11\", \"20/04/12\", \"20/04/13\", \"20/04/14\", \"20/04/15\", \"20/04/16\", \"20/04/17\", \"20/04/18\", \"20/04/19\", \"20/04/20\", \"20/04/21\", \"20/04/22\", \"20/04/23\", \"20/04/24\", \"20/04/25\", \"20/04/26\", \"20/04/27\", \"20/04/28\", \"20/04/29\", \"20/04/30\", \"20/05/01\", \"20/05/02\", \"20/05/03\", \"20/05/04\", \"20/05/05\", \"20/05/06\", \"20/05/07\", \"20/05/08\", \"20/05/09\", \"20/05/10\", \"20/05/11\", \"20/05/12\", \"20/05/13\", \"20/05/14\", \"20/05/15\", \"20/05/16\", \"20/05/17\", \"20/05/18\", \"20/05/19\", \"20/05/20\", \"20/05/21\"], \"y\": [1, 1, 2, 3, 3, 3, 3, 3, 3, 3, 3, 3, 3, 3, 3, 3, 3, 3, 3, 3, 3, 3, 3, 3, 3, 3, 3, 3, 3, 3, 3, 3, 5, 6, 28, 30, 31, 34, 39, 46, 58, 60, 74, 81, 84, 110, 114, 137, 151, 173, 223, 283, 360, 433, 519, 606, 694, 724, 909, 1024, 1251, 1397, 1834, 2069, 2547, 3072, 3577, 4281, 4789, 5274, 5865, 6761, 7529, 8447, 9352, 10815, 11933, 12759, 13835, 14792, 16116, 17656, 18985, 20471, 21700, 23452, 24893, 26605, 28160, 29834, 31709, 33330, 34972, 37157, 40124, 42836, 46711, 49391, 52952, 56342, 59662, 62939, 67152, 70756, 74281, 78003, 81970, 85710, 90637, 95759, 100325, 106750, 112359]}, {\"line\": {\"color\": \"Red\", \"width\": 2}, \"mode\": \"lines+markers\", \"name\": \"Deaths\", \"type\": \"scatter\", \"x\": [\"20/01/30\", \"20/01/31\", \"20/02/01\", \"20/02/02\", \"20/02/03\", \"20/02/04\", \"20/02/05\", \"20/02/06\", \"20/02/07\", \"20/02/08\", \"20/02/09\", \"20/02/10\", \"20/02/11\", \"20/02/12\", \"20/02/13\", \"20/02/14\", \"20/02/15\", \"20/02/16\", \"20/02/17\", \"20/02/18\", \"20/02/19\", \"20/02/20\", \"20/02/21\", \"20/02/22\", \"20/02/23\", \"20/02/24\", \"20/02/25\", \"20/02/26\", \"20/02/27\", \"20/02/28\", \"20/02/29\", \"20/03/01\", \"20/03/02\", \"20/03/03\", \"20/03/04\", \"20/03/05\", \"20/03/06\", \"20/03/07\", \"20/03/08\", \"20/03/09\", \"20/03/10\", \"20/03/11\", \"20/03/12\", \"20/03/13\", \"20/03/14\", \"20/03/15\", \"20/03/16\", \"20/03/17\", \"20/03/18\", \"20/03/19\", \"20/03/20\", \"20/03/21\", \"20/03/22\", \"20/03/23\", \"20/03/24\", \"20/03/25\", \"20/03/26\", \"20/03/27\", \"20/03/28\", \"20/03/29\", \"20/03/30\", \"20/03/31\", \"20/04/01\", \"20/04/02\", \"20/04/03\", \"20/04/04\", \"20/04/05\", \"20/04/06\", \"20/04/07\", \"20/04/08\", \"20/04/09\", \"20/04/10\", \"20/04/11\", \"20/04/12\", \"20/04/13\", \"20/04/14\", \"20/04/15\", \"20/04/16\", \"20/04/17\", \"20/04/18\", \"20/04/19\", \"20/04/20\", \"20/04/21\", \"20/04/22\", \"20/04/23\", \"20/04/24\", \"20/04/25\", \"20/04/26\", \"20/04/27\", \"20/04/28\", \"20/04/29\", \"20/04/30\", \"20/05/01\", \"20/05/02\", \"20/05/03\", \"20/05/04\", \"20/05/05\", \"20/05/06\", \"20/05/07\", \"20/05/08\", \"20/05/09\", \"20/05/10\", \"20/05/11\", \"20/05/12\", \"20/05/13\", \"20/05/14\", \"20/05/15\", \"20/05/16\", \"20/05/17\", \"20/05/18\", \"20/05/19\", \"20/05/20\", \"20/05/21\"], \"y\": [0.0, 0.0, 0.0, 0.0, 0.0, 0.0, 0.0, 0.0, 0.0, 0.0, 0.0, 0.0, 0.0, 0.0, 0.0, 0.0, 0.0, 0.0, 0.0, 0.0, 0.0, 0.0, 0.0, 0.0, 0.0, 0.0, 0.0, 0.0, 0.0, 0.0, 0.0, 0.0, 0.0, 0.0, 0.0, 0.0, 0.0, 0.0, 0.0, 0.0, 0.0, 0.0, 0.0, 1.0, 2.0, 2.0, 2.0, 3.0, 3.0, 4.0, 4.0, 4.0, 7.0, 7.0, 9.0, 10.0, 15.0, 17.0, 19.0, 27.0, 31.0, 35.0, 41.0, 53.0, 62.0, 75.0, 83.0, 111.0, 124.0, 149.0, 169.0, 206.0, 242.0, 273.0, 324.0, 353.0, 392.0, 420.0, 452.0, 488.0, 519.0, 559.0, 603.0, 652.0, 686.0, 723.0, 779.0, 826.0, 886.0, 937.0, 1008.0, 1075.0, 1152.0, 1218.0, 1306.0, 1389.0, 1583.0, 1694.0, 1783.0, 1886.0, 1981.0, 2109.0, 2206.0, 2293.0, 2415.0, 2549.0, 2649.0, 2752.0, 2872.0, 3029.0, 3163.0, 3303.0, 3435.0]}, {\"line\": {\"color\": \"Green\", \"width\": 2}, \"mode\": \"lines+markers\", \"name\": \"Recovered\", \"type\": \"scatter\", \"x\": [\"20/01/30\", \"20/01/31\", \"20/02/01\", \"20/02/02\", \"20/02/03\", \"20/02/04\", \"20/02/05\", \"20/02/06\", \"20/02/07\", \"20/02/08\", \"20/02/09\", \"20/02/10\", \"20/02/11\", \"20/02/12\", \"20/02/13\", \"20/02/14\", \"20/02/15\", \"20/02/16\", \"20/02/17\", \"20/02/18\", \"20/02/19\", \"20/02/20\", \"20/02/21\", \"20/02/22\", \"20/02/23\", \"20/02/24\", \"20/02/25\", \"20/02/26\", \"20/02/27\", \"20/02/28\", \"20/02/29\", \"20/03/01\", \"20/03/02\", \"20/03/03\", \"20/03/04\", \"20/03/05\", \"20/03/06\", \"20/03/07\", \"20/03/08\", \"20/03/09\", \"20/03/10\", \"20/03/11\", \"20/03/12\", \"20/03/13\", \"20/03/14\", \"20/03/15\", \"20/03/16\", \"20/03/17\", \"20/03/18\", \"20/03/19\", \"20/03/20\", \"20/03/21\", \"20/03/22\", \"20/03/23\", \"20/03/24\", \"20/03/25\", \"20/03/26\", \"20/03/27\", \"20/03/28\", \"20/03/29\", \"20/03/30\", \"20/03/31\", \"20/04/01\", \"20/04/02\", \"20/04/03\", \"20/04/04\", \"20/04/05\", \"20/04/06\", \"20/04/07\", \"20/04/08\", \"20/04/09\", \"20/04/10\", \"20/04/11\", \"20/04/12\", \"20/04/13\", \"20/04/14\", \"20/04/15\", \"20/04/16\", \"20/04/17\", \"20/04/18\", \"20/04/19\", \"20/04/20\", \"20/04/21\", \"20/04/22\", \"20/04/23\", \"20/04/24\", \"20/04/25\", \"20/04/26\", \"20/04/27\", \"20/04/28\", \"20/04/29\", \"20/04/30\", \"20/05/01\", \"20/05/02\", \"20/05/03\", \"20/05/04\", \"20/05/05\", \"20/05/06\", \"20/05/07\", \"20/05/08\", \"20/05/09\", \"20/05/10\", \"20/05/11\", \"20/05/12\", \"20/05/13\", \"20/05/14\", \"20/05/15\", \"20/05/16\", \"20/05/17\", \"20/05/18\", \"20/05/19\", \"20/05/20\", \"20/05/21\"], \"y\": [0.0, 0.0, 0.0, 0.0, 0.0, 0.0, 0.0, 0.0, 0.0, 0.0, 0.0, 0.0, 0.0, 0.0, 0.0, 0.0, 0.0, 0.0, 0.0, 0.0, 0.0, 0.0, 0.0, 0.0, 0.0, 0.0, 0.0, 0.0, 0.0, 0.0, 0.0, 0.0, 0.0, 3.0, 3.0, 3.0, 3.0, 3.0, 3.0, 3.0, 3.0, 3.0, 3.0, 3.0, 10.0, 13.0, 13.0, 14.0, 14.0, 20.0, 23.0, 23.0, 24.0, 24.0, 40.0, 43.0, 45.0, 67.0, 80.0, 96.0, 102.0, 124.0, 144.0, 156.0, 163.0, 213.0, 275.0, 319.0, 353.0, 411.0, 478.0, 516.0, 653.0, 765.0, 980.0, 1190.0, 1344.0, 1515.0, 1767.0, 2015.0, 2302.0, 2842.0, 3260.0, 3960.0, 4325.0, 4814.0, 5210.0, 5914.0, 6362.0, 7027.0, 7797.0, 8373.0, 9065.0, 9951.0, 10887.0, 11762.0, 13161.0, 14183.0, 15267.0, 16540.0, 17847.0, 19358.0, 20917.0, 22455.0, 24386.0, 26235.0, 27920.0, 30153.0, 34109.0, 36824.0, 39174.0, 42298.0, 45300.0]}],\n",
              "                        {\"autosize\": false, \"height\": 500, \"margin\": {\"b\": 0, \"l\": 0, \"pad\": 0, \"r\": 0, \"t\": 0}, \"paper_bgcolor\": \"LightSteelBlue\", \"template\": {\"data\": {\"bar\": [{\"error_x\": {\"color\": \"#2a3f5f\"}, \"error_y\": {\"color\": \"#2a3f5f\"}, \"marker\": {\"line\": {\"color\": \"#E5ECF6\", \"width\": 0.5}}, \"type\": \"bar\"}], \"barpolar\": [{\"marker\": {\"line\": {\"color\": \"#E5ECF6\", \"width\": 0.5}}, \"type\": \"barpolar\"}], \"carpet\": [{\"aaxis\": {\"endlinecolor\": \"#2a3f5f\", \"gridcolor\": \"white\", \"linecolor\": \"white\", \"minorgridcolor\": \"white\", \"startlinecolor\": \"#2a3f5f\"}, \"baxis\": {\"endlinecolor\": \"#2a3f5f\", \"gridcolor\": \"white\", \"linecolor\": \"white\", \"minorgridcolor\": \"white\", \"startlinecolor\": \"#2a3f5f\"}, \"type\": \"carpet\"}], \"choropleth\": [{\"colorbar\": {\"outlinewidth\": 0, \"ticks\": \"\"}, \"type\": \"choropleth\"}], \"contour\": [{\"colorbar\": {\"outlinewidth\": 0, \"ticks\": \"\"}, \"colorscale\": [[0.0, \"#0d0887\"], [0.1111111111111111, \"#46039f\"], [0.2222222222222222, \"#7201a8\"], [0.3333333333333333, \"#9c179e\"], [0.4444444444444444, \"#bd3786\"], [0.5555555555555556, \"#d8576b\"], [0.6666666666666666, \"#ed7953\"], [0.7777777777777778, \"#fb9f3a\"], [0.8888888888888888, \"#fdca26\"], [1.0, \"#f0f921\"]], \"type\": \"contour\"}], \"contourcarpet\": [{\"colorbar\": {\"outlinewidth\": 0, \"ticks\": \"\"}, \"type\": \"contourcarpet\"}], \"heatmap\": [{\"colorbar\": {\"outlinewidth\": 0, \"ticks\": \"\"}, \"colorscale\": [[0.0, \"#0d0887\"], [0.1111111111111111, \"#46039f\"], [0.2222222222222222, \"#7201a8\"], [0.3333333333333333, \"#9c179e\"], [0.4444444444444444, \"#bd3786\"], [0.5555555555555556, \"#d8576b\"], [0.6666666666666666, \"#ed7953\"], [0.7777777777777778, \"#fb9f3a\"], [0.8888888888888888, \"#fdca26\"], [1.0, \"#f0f921\"]], \"type\": \"heatmap\"}], \"heatmapgl\": [{\"colorbar\": {\"outlinewidth\": 0, \"ticks\": \"\"}, \"colorscale\": [[0.0, \"#0d0887\"], [0.1111111111111111, \"#46039f\"], [0.2222222222222222, \"#7201a8\"], [0.3333333333333333, \"#9c179e\"], [0.4444444444444444, \"#bd3786\"], [0.5555555555555556, \"#d8576b\"], [0.6666666666666666, \"#ed7953\"], [0.7777777777777778, \"#fb9f3a\"], [0.8888888888888888, \"#fdca26\"], [1.0, \"#f0f921\"]], \"type\": \"heatmapgl\"}], \"histogram\": [{\"marker\": {\"colorbar\": {\"outlinewidth\": 0, \"ticks\": \"\"}}, \"type\": \"histogram\"}], \"histogram2d\": [{\"colorbar\": {\"outlinewidth\": 0, \"ticks\": \"\"}, \"colorscale\": [[0.0, \"#0d0887\"], [0.1111111111111111, \"#46039f\"], [0.2222222222222222, \"#7201a8\"], [0.3333333333333333, \"#9c179e\"], [0.4444444444444444, \"#bd3786\"], [0.5555555555555556, \"#d8576b\"], [0.6666666666666666, \"#ed7953\"], [0.7777777777777778, \"#fb9f3a\"], [0.8888888888888888, \"#fdca26\"], [1.0, \"#f0f921\"]], \"type\": \"histogram2d\"}], \"histogram2dcontour\": [{\"colorbar\": {\"outlinewidth\": 0, \"ticks\": \"\"}, \"colorscale\": [[0.0, \"#0d0887\"], [0.1111111111111111, \"#46039f\"], [0.2222222222222222, \"#7201a8\"], [0.3333333333333333, \"#9c179e\"], [0.4444444444444444, \"#bd3786\"], [0.5555555555555556, \"#d8576b\"], [0.6666666666666666, \"#ed7953\"], [0.7777777777777778, \"#fb9f3a\"], [0.8888888888888888, \"#fdca26\"], [1.0, \"#f0f921\"]], \"type\": \"histogram2dcontour\"}], \"mesh3d\": [{\"colorbar\": {\"outlinewidth\": 0, \"ticks\": \"\"}, \"type\": \"mesh3d\"}], \"parcoords\": [{\"line\": {\"colorbar\": {\"outlinewidth\": 0, \"ticks\": \"\"}}, \"type\": \"parcoords\"}], \"pie\": [{\"automargin\": true, \"type\": \"pie\"}], \"scatter\": [{\"marker\": {\"colorbar\": {\"outlinewidth\": 0, \"ticks\": \"\"}}, \"type\": \"scatter\"}], \"scatter3d\": [{\"line\": {\"colorbar\": {\"outlinewidth\": 0, \"ticks\": \"\"}}, \"marker\": {\"colorbar\": {\"outlinewidth\": 0, \"ticks\": \"\"}}, \"type\": \"scatter3d\"}], \"scattercarpet\": [{\"marker\": {\"colorbar\": {\"outlinewidth\": 0, \"ticks\": \"\"}}, \"type\": \"scattercarpet\"}], \"scattergeo\": [{\"marker\": {\"colorbar\": {\"outlinewidth\": 0, \"ticks\": \"\"}}, \"type\": \"scattergeo\"}], \"scattergl\": [{\"marker\": {\"colorbar\": {\"outlinewidth\": 0, \"ticks\": \"\"}}, \"type\": \"scattergl\"}], \"scattermapbox\": [{\"marker\": {\"colorbar\": {\"outlinewidth\": 0, \"ticks\": \"\"}}, \"type\": \"scattermapbox\"}], \"scatterpolar\": [{\"marker\": {\"colorbar\": {\"outlinewidth\": 0, \"ticks\": \"\"}}, \"type\": \"scatterpolar\"}], \"scatterpolargl\": [{\"marker\": {\"colorbar\": {\"outlinewidth\": 0, \"ticks\": \"\"}}, \"type\": \"scatterpolargl\"}], \"scatterternary\": [{\"marker\": {\"colorbar\": {\"outlinewidth\": 0, \"ticks\": \"\"}}, \"type\": \"scatterternary\"}], \"surface\": [{\"colorbar\": {\"outlinewidth\": 0, \"ticks\": \"\"}, \"colorscale\": [[0.0, \"#0d0887\"], [0.1111111111111111, \"#46039f\"], [0.2222222222222222, \"#7201a8\"], [0.3333333333333333, \"#9c179e\"], [0.4444444444444444, \"#bd3786\"], [0.5555555555555556, \"#d8576b\"], [0.6666666666666666, \"#ed7953\"], [0.7777777777777778, \"#fb9f3a\"], [0.8888888888888888, \"#fdca26\"], [1.0, \"#f0f921\"]], \"type\": \"surface\"}], \"table\": [{\"cells\": {\"fill\": {\"color\": \"#EBF0F8\"}, \"line\": {\"color\": \"white\"}}, \"header\": {\"fill\": {\"color\": \"#C8D4E3\"}, \"line\": {\"color\": \"white\"}}, \"type\": \"table\"}]}, \"layout\": {\"annotationdefaults\": {\"arrowcolor\": \"#2a3f5f\", \"arrowhead\": 0, \"arrowwidth\": 1}, \"coloraxis\": {\"colorbar\": {\"outlinewidth\": 0, \"ticks\": \"\"}}, \"colorscale\": {\"diverging\": [[0, \"#8e0152\"], [0.1, \"#c51b7d\"], [0.2, \"#de77ae\"], [0.3, \"#f1b6da\"], [0.4, \"#fde0ef\"], [0.5, \"#f7f7f7\"], [0.6, \"#e6f5d0\"], [0.7, \"#b8e186\"], [0.8, \"#7fbc41\"], [0.9, \"#4d9221\"], [1, \"#276419\"]], \"sequential\": [[0.0, \"#0d0887\"], [0.1111111111111111, \"#46039f\"], [0.2222222222222222, \"#7201a8\"], [0.3333333333333333, \"#9c179e\"], [0.4444444444444444, \"#bd3786\"], [0.5555555555555556, \"#d8576b\"], [0.6666666666666666, \"#ed7953\"], [0.7777777777777778, \"#fb9f3a\"], [0.8888888888888888, \"#fdca26\"], [1.0, \"#f0f921\"]], \"sequentialminus\": [[0.0, \"#0d0887\"], [0.1111111111111111, \"#46039f\"], [0.2222222222222222, \"#7201a8\"], [0.3333333333333333, \"#9c179e\"], [0.4444444444444444, \"#bd3786\"], [0.5555555555555556, \"#d8576b\"], [0.6666666666666666, \"#ed7953\"], [0.7777777777777778, \"#fb9f3a\"], [0.8888888888888888, \"#fdca26\"], [1.0, \"#f0f921\"]]}, \"colorway\": [\"#636efa\", \"#EF553B\", \"#00cc96\", \"#ab63fa\", \"#FFA15A\", \"#19d3f3\", \"#FF6692\", \"#B6E880\", \"#FF97FF\", \"#FECB52\"], \"font\": {\"color\": \"#2a3f5f\"}, \"geo\": {\"bgcolor\": \"white\", \"lakecolor\": \"white\", \"landcolor\": \"#E5ECF6\", \"showlakes\": true, \"showland\": true, \"subunitcolor\": \"white\"}, \"hoverlabel\": {\"align\": \"left\"}, \"hovermode\": \"closest\", \"mapbox\": {\"style\": \"light\"}, \"paper_bgcolor\": \"white\", \"plot_bgcolor\": \"#E5ECF6\", \"polar\": {\"angularaxis\": {\"gridcolor\": \"white\", \"linecolor\": \"white\", \"ticks\": \"\"}, \"bgcolor\": \"#E5ECF6\", \"radialaxis\": {\"gridcolor\": \"white\", \"linecolor\": \"white\", \"ticks\": \"\"}}, \"scene\": {\"xaxis\": {\"backgroundcolor\": \"#E5ECF6\", \"gridcolor\": \"white\", \"gridwidth\": 2, \"linecolor\": \"white\", \"showbackground\": true, \"ticks\": \"\", \"zerolinecolor\": \"white\"}, \"yaxis\": {\"backgroundcolor\": \"#E5ECF6\", \"gridcolor\": \"white\", \"gridwidth\": 2, \"linecolor\": \"white\", \"showbackground\": true, \"ticks\": \"\", \"zerolinecolor\": \"white\"}, \"zaxis\": {\"backgroundcolor\": \"#E5ECF6\", \"gridcolor\": \"white\", \"gridwidth\": 2, \"linecolor\": \"white\", \"showbackground\": true, \"ticks\": \"\", \"zerolinecolor\": \"white\"}}, \"shapedefaults\": {\"line\": {\"color\": \"#2a3f5f\"}}, \"ternary\": {\"aaxis\": {\"gridcolor\": \"white\", \"linecolor\": \"white\", \"ticks\": \"\"}, \"baxis\": {\"gridcolor\": \"white\", \"linecolor\": \"white\", \"ticks\": \"\"}, \"bgcolor\": \"#E5ECF6\", \"caxis\": {\"gridcolor\": \"white\", \"linecolor\": \"white\", \"ticks\": \"\"}}, \"title\": {\"x\": 0.05}, \"xaxis\": {\"automargin\": true, \"gridcolor\": \"white\", \"linecolor\": \"white\", \"ticks\": \"\", \"title\": {\"standoff\": 15}, \"zerolinecolor\": \"white\", \"zerolinewidth\": 2}, \"yaxis\": {\"automargin\": true, \"gridcolor\": \"white\", \"linecolor\": \"white\", \"ticks\": \"\", \"title\": {\"standoff\": 15}, \"zerolinecolor\": \"white\", \"zerolinewidth\": 2}}}, \"title\": {\"text\": \"India NCOVID-19 Cases\"}, \"width\": 1500, \"xaxis\": {\"tickfont\": {\"size\": 14}}, \"yaxis\": {\"title\": {\"text\": \"Number of Cases\"}}},\n",
              "                        {\"responsive\": true}\n",
              "                    ).then(function(){\n",
              "                            \n",
              "var gd = document.getElementById('8a93861f-c7c8-48cd-b2ef-03cdcdf2fd10');\n",
              "var x = new MutationObserver(function (mutations, observer) {{\n",
              "        var display = window.getComputedStyle(gd).display;\n",
              "        if (!display || display === 'none') {{\n",
              "            console.log([gd, 'removed!']);\n",
              "            Plotly.purge(gd);\n",
              "            observer.disconnect();\n",
              "        }}\n",
              "}});\n",
              "\n",
              "// Listen for the removal of the full notebook cells\n",
              "var notebookContainer = gd.closest('#notebook-container');\n",
              "if (notebookContainer) {{\n",
              "    x.observe(notebookContainer, {childList: true});\n",
              "}}\n",
              "\n",
              "// Listen for the clearing of the current output cell\n",
              "var outputEl = gd.closest('.output');\n",
              "if (outputEl) {{\n",
              "    x.observe(outputEl, {childList: true});\n",
              "}}\n",
              "\n",
              "                        })\n",
              "                };\n",
              "                \n",
              "            </script>\n",
              "        </div>\n",
              "</body>\n",
              "</html>"
            ]
          },
          "metadata": {
            "tags": []
          }
        }
      ]
    },
    {
      "cell_type": "markdown",
      "metadata": {
        "id": "fo79cXAngNRd",
        "colab_type": "text"
      },
      "source": [
        "#Forecasting of Confirmed Cases in Country\n",
        "\n",
        "## (1) Using Prophet"
      ]
    },
    {
      "cell_type": "code",
      "metadata": {
        "id": "Be9YoQ-0fUPS",
        "colab_type": "code",
        "colab": {}
      },
      "source": [
        "from fbprophet import Prophet"
      ],
      "execution_count": 0,
      "outputs": []
    },
    {
      "cell_type": "code",
      "metadata": {
        "id": "0AT8y3hLgsPK",
        "colab_type": "code",
        "colab": {}
      },
      "source": [
        "confirmed = data1.groupby('Date').sum()['Confirmed'].reset_index()\n",
        "deaths = data1.groupby('Date').sum()['Deaths'].reset_index()"
      ],
      "execution_count": 0,
      "outputs": []
    },
    {
      "cell_type": "code",
      "metadata": {
        "id": "w6YhXCftgxlH",
        "colab_type": "code",
        "colab": {
          "base_uri": "https://localhost:8080/",
          "height": 204
        },
        "outputId": "33d48603-5bff-4464-c614-267c7812d073"
      },
      "source": [
        "confirmed.columns = ['ds','y']\n",
        "confirmed['ds'] = pd.to_datetime(confirmed['ds'], format = '%y/%m/%d')\n",
        "confirmed.tail()"
      ],
      "execution_count": 10,
      "outputs": [
        {
          "output_type": "execute_result",
          "data": {
            "text/html": [
              "<div>\n",
              "<style scoped>\n",
              "    .dataframe tbody tr th:only-of-type {\n",
              "        vertical-align: middle;\n",
              "    }\n",
              "\n",
              "    .dataframe tbody tr th {\n",
              "        vertical-align: top;\n",
              "    }\n",
              "\n",
              "    .dataframe thead th {\n",
              "        text-align: right;\n",
              "    }\n",
              "</style>\n",
              "<table border=\"1\" class=\"dataframe\">\n",
              "  <thead>\n",
              "    <tr style=\"text-align: right;\">\n",
              "      <th></th>\n",
              "      <th>ds</th>\n",
              "      <th>y</th>\n",
              "    </tr>\n",
              "  </thead>\n",
              "  <tbody>\n",
              "    <tr>\n",
              "      <th>108</th>\n",
              "      <td>2020-05-17</td>\n",
              "      <td>90637</td>\n",
              "    </tr>\n",
              "    <tr>\n",
              "      <th>109</th>\n",
              "      <td>2020-05-18</td>\n",
              "      <td>95759</td>\n",
              "    </tr>\n",
              "    <tr>\n",
              "      <th>110</th>\n",
              "      <td>2020-05-19</td>\n",
              "      <td>100325</td>\n",
              "    </tr>\n",
              "    <tr>\n",
              "      <th>111</th>\n",
              "      <td>2020-05-20</td>\n",
              "      <td>106750</td>\n",
              "    </tr>\n",
              "    <tr>\n",
              "      <th>112</th>\n",
              "      <td>2020-05-21</td>\n",
              "      <td>112359</td>\n",
              "    </tr>\n",
              "  </tbody>\n",
              "</table>\n",
              "</div>"
            ],
            "text/plain": [
              "            ds       y\n",
              "108 2020-05-17   90637\n",
              "109 2020-05-18   95759\n",
              "110 2020-05-19  100325\n",
              "111 2020-05-20  106750\n",
              "112 2020-05-21  112359"
            ]
          },
          "metadata": {
            "tags": []
          },
          "execution_count": 10
        }
      ]
    },
    {
      "cell_type": "code",
      "metadata": {
        "id": "bHA18-awgxnp",
        "colab_type": "code",
        "colab": {
          "base_uri": "https://localhost:8080/",
          "height": 255
        },
        "outputId": "4d50aa3c-0234-4521-cab4-e20431ce397f"
      },
      "source": [
        "m = Prophet(interval_width=1.0)\n",
        "m.fit(confirmed)\n",
        "future = m.make_future_dataframe(periods=7)\n",
        "future.tail()"
      ],
      "execution_count": 11,
      "outputs": [
        {
          "output_type": "stream",
          "text": [
            "INFO:numexpr.utils:NumExpr defaulting to 2 threads.\n",
            "INFO:fbprophet:Disabling yearly seasonality. Run prophet with yearly_seasonality=True to override this.\n",
            "INFO:fbprophet:Disabling daily seasonality. Run prophet with daily_seasonality=True to override this.\n"
          ],
          "name": "stderr"
        },
        {
          "output_type": "execute_result",
          "data": {
            "text/html": [
              "<div>\n",
              "<style scoped>\n",
              "    .dataframe tbody tr th:only-of-type {\n",
              "        vertical-align: middle;\n",
              "    }\n",
              "\n",
              "    .dataframe tbody tr th {\n",
              "        vertical-align: top;\n",
              "    }\n",
              "\n",
              "    .dataframe thead th {\n",
              "        text-align: right;\n",
              "    }\n",
              "</style>\n",
              "<table border=\"1\" class=\"dataframe\">\n",
              "  <thead>\n",
              "    <tr style=\"text-align: right;\">\n",
              "      <th></th>\n",
              "      <th>ds</th>\n",
              "    </tr>\n",
              "  </thead>\n",
              "  <tbody>\n",
              "    <tr>\n",
              "      <th>115</th>\n",
              "      <td>2020-05-24</td>\n",
              "    </tr>\n",
              "    <tr>\n",
              "      <th>116</th>\n",
              "      <td>2020-05-25</td>\n",
              "    </tr>\n",
              "    <tr>\n",
              "      <th>117</th>\n",
              "      <td>2020-05-26</td>\n",
              "    </tr>\n",
              "    <tr>\n",
              "      <th>118</th>\n",
              "      <td>2020-05-27</td>\n",
              "    </tr>\n",
              "    <tr>\n",
              "      <th>119</th>\n",
              "      <td>2020-05-28</td>\n",
              "    </tr>\n",
              "  </tbody>\n",
              "</table>\n",
              "</div>"
            ],
            "text/plain": [
              "            ds\n",
              "115 2020-05-24\n",
              "116 2020-05-25\n",
              "117 2020-05-26\n",
              "118 2020-05-27\n",
              "119 2020-05-28"
            ]
          },
          "metadata": {
            "tags": []
          },
          "execution_count": 11
        }
      ]
    },
    {
      "cell_type": "code",
      "metadata": {
        "id": "DWzQuu9OgxqW",
        "colab_type": "code",
        "colab": {}
      },
      "source": [
        "#predicting the future with date, and upper and lower limit of y value\n",
        "forecast = m.predict(future)\n"
      ],
      "execution_count": 0,
      "outputs": []
    },
    {
      "cell_type": "code",
      "metadata": {
        "id": "klU8hxQ1gxsf",
        "colab_type": "code",
        "colab": {
          "base_uri": "https://localhost:8080/",
          "height": 419
        },
        "outputId": "788f4293-17a3-4585-e36f-68d9c42b2968"
      },
      "source": [
        "forecast[['ds', 'yhat', 'yhat_lower', 'yhat_upper']]"
      ],
      "execution_count": 13,
      "outputs": [
        {
          "output_type": "execute_result",
          "data": {
            "text/html": [
              "<div>\n",
              "<style scoped>\n",
              "    .dataframe tbody tr th:only-of-type {\n",
              "        vertical-align: middle;\n",
              "    }\n",
              "\n",
              "    .dataframe tbody tr th {\n",
              "        vertical-align: top;\n",
              "    }\n",
              "\n",
              "    .dataframe thead th {\n",
              "        text-align: right;\n",
              "    }\n",
              "</style>\n",
              "<table border=\"1\" class=\"dataframe\">\n",
              "  <thead>\n",
              "    <tr style=\"text-align: right;\">\n",
              "      <th></th>\n",
              "      <th>ds</th>\n",
              "      <th>yhat</th>\n",
              "      <th>yhat_lower</th>\n",
              "      <th>yhat_upper</th>\n",
              "    </tr>\n",
              "  </thead>\n",
              "  <tbody>\n",
              "    <tr>\n",
              "      <th>0</th>\n",
              "      <td>2020-01-30</td>\n",
              "      <td>174.235250</td>\n",
              "      <td>-5039.169303</td>\n",
              "      <td>5076.613553</td>\n",
              "    </tr>\n",
              "    <tr>\n",
              "      <th>1</th>\n",
              "      <td>2020-01-31</td>\n",
              "      <td>-364.575258</td>\n",
              "      <td>-5570.599479</td>\n",
              "      <td>5977.026147</td>\n",
              "    </tr>\n",
              "    <tr>\n",
              "      <th>2</th>\n",
              "      <td>2020-02-01</td>\n",
              "      <td>-414.345431</td>\n",
              "      <td>-5729.996798</td>\n",
              "      <td>5645.846942</td>\n",
              "    </tr>\n",
              "    <tr>\n",
              "      <th>3</th>\n",
              "      <td>2020-02-02</td>\n",
              "      <td>-297.489481</td>\n",
              "      <td>-6118.084706</td>\n",
              "      <td>5402.789846</td>\n",
              "    </tr>\n",
              "    <tr>\n",
              "      <th>4</th>\n",
              "      <td>2020-02-03</td>\n",
              "      <td>-105.008021</td>\n",
              "      <td>-4880.955429</td>\n",
              "      <td>5620.623766</td>\n",
              "    </tr>\n",
              "    <tr>\n",
              "      <th>...</th>\n",
              "      <td>...</td>\n",
              "      <td>...</td>\n",
              "      <td>...</td>\n",
              "      <td>...</td>\n",
              "    </tr>\n",
              "    <tr>\n",
              "      <th>115</th>\n",
              "      <td>2020-05-24</td>\n",
              "      <td>113564.870551</td>\n",
              "      <td>108360.266024</td>\n",
              "      <td>119268.251374</td>\n",
              "    </tr>\n",
              "    <tr>\n",
              "      <th>116</th>\n",
              "      <td>2020-05-25</td>\n",
              "      <td>117135.912197</td>\n",
              "      <td>111775.770829</td>\n",
              "      <td>122810.037716</td>\n",
              "    </tr>\n",
              "    <tr>\n",
              "      <th>117</th>\n",
              "      <td>2020-05-26</td>\n",
              "      <td>120718.737010</td>\n",
              "      <td>115181.352384</td>\n",
              "      <td>126511.932838</td>\n",
              "    </tr>\n",
              "    <tr>\n",
              "      <th>118</th>\n",
              "      <td>2020-05-27</td>\n",
              "      <td>124180.092778</td>\n",
              "      <td>117704.224153</td>\n",
              "      <td>131369.464101</td>\n",
              "    </tr>\n",
              "    <tr>\n",
              "      <th>119</th>\n",
              "      <td>2020-05-28</td>\n",
              "      <td>127591.064685</td>\n",
              "      <td>119898.591595</td>\n",
              "      <td>132856.317845</td>\n",
              "    </tr>\n",
              "  </tbody>\n",
              "</table>\n",
              "<p>120 rows × 4 columns</p>\n",
              "</div>"
            ],
            "text/plain": [
              "            ds           yhat     yhat_lower     yhat_upper\n",
              "0   2020-01-30     174.235250   -5039.169303    5076.613553\n",
              "1   2020-01-31    -364.575258   -5570.599479    5977.026147\n",
              "2   2020-02-01    -414.345431   -5729.996798    5645.846942\n",
              "3   2020-02-02    -297.489481   -6118.084706    5402.789846\n",
              "4   2020-02-03    -105.008021   -4880.955429    5620.623766\n",
              "..         ...            ...            ...            ...\n",
              "115 2020-05-24  113564.870551  108360.266024  119268.251374\n",
              "116 2020-05-25  117135.912197  111775.770829  122810.037716\n",
              "117 2020-05-26  120718.737010  115181.352384  126511.932838\n",
              "118 2020-05-27  124180.092778  117704.224153  131369.464101\n",
              "119 2020-05-28  127591.064685  119898.591595  132856.317845\n",
              "\n",
              "[120 rows x 4 columns]"
            ]
          },
          "metadata": {
            "tags": []
          },
          "execution_count": 13
        }
      ]
    },
    {
      "cell_type": "code",
      "metadata": {
        "id": "YHKmsVCimZsh",
        "colab_type": "code",
        "colab": {}
      },
      "source": [
        "#Extracting data for present date\n",
        "prophet_con = forecast[['ds','yhat','yhat_lower','yhat_upper']].iloc[114]"
      ],
      "execution_count": 0,
      "outputs": []
    },
    {
      "cell_type": "code",
      "metadata": {
        "id": "xqPZ91AJq6JS",
        "colab_type": "code",
        "colab": {}
      },
      "source": [
        ""
      ],
      "execution_count": 0,
      "outputs": []
    },
    {
      "cell_type": "code",
      "metadata": {
        "id": "UuHg72HahDi3",
        "colab_type": "code",
        "colab": {
          "base_uri": "https://localhost:8080/",
          "height": 441
        },
        "outputId": "db6cc030-d3cf-4d6d-c37b-7db10ac60fae"
      },
      "source": [
        "confirmed_forecast_plot = m.plot(forecast)"
      ],
      "execution_count": 15,
      "outputs": [
        {
          "output_type": "display_data",
          "data": {
            "image/png": "[encoded data removed]",
            "text/plain": [
              "<Figure size 720x432 with 1 Axes>"
            ]
          },
          "metadata": {
            "tags": []
          }
        }
      ]
    },
    {
      "cell_type": "code",
      "metadata": {
        "id": "L3sXZXPhhDqP",
        "colab_type": "code",
        "colab": {
          "base_uri": "https://localhost:8080/",
          "height": 445
        },
        "outputId": "04be9e03-f390-4d10-cbe3-bb6430e24ac9"
      },
      "source": [
        "confirmed_forecast_plot =m.plot_components(forecast)"
      ],
      "execution_count": 16,
      "outputs": [
        {
          "output_type": "display_data",
          "data": {
            "image/png": "[encoded data removed]",
            "text/plain": [
              "<Figure size 648x432 with 2 Axes>"
            ]
          },
          "metadata": {
            "tags": []
          }
        }
      ]
    },
    {
      "cell_type": "markdown",
      "metadata": {
        "id": "4Ex0tswhhW71",
        "colab_type": "text"
      },
      "source": [
        "## (2) Using SARIMAX"
      ]
    },
    {
      "cell_type": "code",
      "metadata": {
        "id": "vSz7zpNyhDtL",
        "colab_type": "code",
        "colab": {}
      },
      "source": [
        "#pip uninstall statsmodels"
      ],
      "execution_count": 0,
      "outputs": []
    },
    {
      "cell_type": "code",
      "metadata": {
        "id": "XpraoG70hDwE",
        "colab_type": "code",
        "colab": {}
      },
      "source": [
        "#pip install numpy scipy patsy pandas"
      ],
      "execution_count": 0,
      "outputs": []
    },
    {
      "cell_type": "code",
      "metadata": {
        "id": "OufBHERdhDzJ",
        "colab_type": "code",
        "colab": {}
      },
      "source": [
        "#pip install statsmodels"
      ],
      "execution_count": 0,
      "outputs": []
    },
    {
      "cell_type": "code",
      "metadata": {
        "id": "EtGPGzKyhD2B",
        "colab_type": "code",
        "colab": {}
      },
      "source": [
        "#pip install pmdarima"
      ],
      "execution_count": 0,
      "outputs": []
    },
    {
      "cell_type": "code",
      "metadata": {
        "id": "8Nz8A7wAhD4z",
        "colab_type": "code",
        "colab": {}
      },
      "source": [
        "from statsmodels.tsa.statespace.sarimax import SARIMAX\n",
        "from statsmodels.graphics.tsaplots import plot_acf,plot_pacf \n",
        "from statsmodels.tsa.seasonal import seasonal_decompose \n",
        "from pmdarima import auto_arima "
      ],
      "execution_count": 0,
      "outputs": []
    },
    {
      "cell_type": "code",
      "metadata": {
        "id": "5lHYQ3rgh__P",
        "colab_type": "code",
        "colab": {
          "base_uri": "https://localhost:8080/",
          "height": 235
        },
        "outputId": "920e18f1-2845-4027-bdd1-c1e247efb493"
      },
      "source": [
        "confirmed = confirmed.set_index(\"ds\")\n",
        "confirmed.head()"
      ],
      "execution_count": 22,
      "outputs": [
        {
          "output_type": "execute_result",
          "data": {
            "text/html": [
              "<div>\n",
              "<style scoped>\n",
              "    .dataframe tbody tr th:only-of-type {\n",
              "        vertical-align: middle;\n",
              "    }\n",
              "\n",
              "    .dataframe tbody tr th {\n",
              "        vertical-align: top;\n",
              "    }\n",
              "\n",
              "    .dataframe thead th {\n",
              "        text-align: right;\n",
              "    }\n",
              "</style>\n",
              "<table border=\"1\" class=\"dataframe\">\n",
              "  <thead>\n",
              "    <tr style=\"text-align: right;\">\n",
              "      <th></th>\n",
              "      <th>y</th>\n",
              "    </tr>\n",
              "    <tr>\n",
              "      <th>ds</th>\n",
              "      <th></th>\n",
              "    </tr>\n",
              "  </thead>\n",
              "  <tbody>\n",
              "    <tr>\n",
              "      <th>2020-01-30</th>\n",
              "      <td>1</td>\n",
              "    </tr>\n",
              "    <tr>\n",
              "      <th>2020-01-31</th>\n",
              "      <td>1</td>\n",
              "    </tr>\n",
              "    <tr>\n",
              "      <th>2020-02-01</th>\n",
              "      <td>2</td>\n",
              "    </tr>\n",
              "    <tr>\n",
              "      <th>2020-02-02</th>\n",
              "      <td>3</td>\n",
              "    </tr>\n",
              "    <tr>\n",
              "      <th>2020-02-03</th>\n",
              "      <td>3</td>\n",
              "    </tr>\n",
              "  </tbody>\n",
              "</table>\n",
              "</div>"
            ],
            "text/plain": [
              "            y\n",
              "ds           \n",
              "2020-01-30  1\n",
              "2020-01-31  1\n",
              "2020-02-01  2\n",
              "2020-02-02  3\n",
              "2020-02-03  3"
            ]
          },
          "metadata": {
            "tags": []
          },
          "execution_count": 22
        }
      ]
    },
    {
      "cell_type": "code",
      "metadata": {
        "id": "gIJRC12EiAB9",
        "colab_type": "code",
        "colab": {
          "base_uri": "https://localhost:8080/",
          "height": 361
        },
        "outputId": "ab3f42a1-39a3-4338-e40e-f74333d409e5"
      },
      "source": [
        "#Basic Data Plot\n",
        "#confirmed.index.freq = 'MS'\n",
        "ax = confirmed['y'].plot(figsize = (16,5), title = \"Confirmed Cases\")\n",
        "ax.set(xlabel='Dates', ylabel='No of cases');"
      ],
      "execution_count": 23,
      "outputs": [
        {
          "output_type": "display_data",
          "data": {
            "image/png": "[encoded data removed]",
            "text/plain": [
              "<Figure size 1152x360 with 1 Axes>"
            ]
          },
          "metadata": {
            "tags": [],
            "needs_background": "light"
          }
        }
      ]
    },
    {
      "cell_type": "code",
      "metadata": {
        "id": "Mn2SdKnXiAFF",
        "colab_type": "code",
        "colab": {
          "base_uri": "https://localhost:8080/",
          "height": 459
        },
        "outputId": "787eb44a-8df2-47c1-cede-2906dbf81a46"
      },
      "source": [
        "#Using grid search for finding order and seasonal order in SARIMAX\n",
        "\n",
        "%time\n",
        "model = auto_arima(confirmed, trace=True, error_action='ignore', suppress_warnings=True)\n",
        "model.fit(confirmed)"
      ],
      "execution_count": 24,
      "outputs": [
        {
          "output_type": "stream",
          "text": [
            "CPU times: user 2 µs, sys: 1 µs, total: 3 µs\n",
            "Wall time: 5.48 µs\n",
            "Performing stepwise search to minimize aic\n",
            "Fit ARIMA(2,2,2)x(0,0,0,0) [intercept=True]; AIC=1570.924, BIC=1587.181, Time=0.420 seconds\n",
            "Fit ARIMA(0,2,0)x(0,0,0,0) [intercept=True]; AIC=1618.859, BIC=1624.278, Time=0.023 seconds\n",
            "Fit ARIMA(1,2,0)x(0,0,0,0) [intercept=True]; AIC=1581.091, BIC=1589.219, Time=0.035 seconds\n",
            "Fit ARIMA(0,2,1)x(0,0,0,0) [intercept=True]; AIC=1589.877, BIC=1598.005, Time=0.112 seconds\n",
            "Fit ARIMA(0,2,0)x(0,0,0,0) [intercept=False]; AIC=1619.161, BIC=1621.871, Time=0.012 seconds\n",
            "Fit ARIMA(1,2,2)x(0,0,0,0) [intercept=True]; AIC=1577.122, BIC=1590.670, Time=0.295 seconds\n",
            "Fit ARIMA(2,2,1)x(0,0,0,0) [intercept=True]; AIC=1583.135, BIC=1596.682, Time=0.342 seconds\n",
            "Fit ARIMA(3,2,2)x(0,0,0,0) [intercept=True]; AIC=1569.549, BIC=1588.515, Time=0.594 seconds\n",
            "Fit ARIMA(3,2,1)x(0,0,0,0) [intercept=True]; AIC=1575.325, BIC=1591.582, Time=0.556 seconds\n",
            "Fit ARIMA(4,2,2)x(0,0,0,0) [intercept=True]; AIC=1568.193, BIC=1589.869, Time=0.670 seconds\n",
            "Fit ARIMA(4,2,1)x(0,0,0,0) [intercept=True]; AIC=1575.905, BIC=1594.871, Time=0.510 seconds\n",
            "Fit ARIMA(5,2,2)x(0,0,0,0) [intercept=True]; AIC=1569.996, BIC=1594.382, Time=0.951 seconds\n",
            "Fit ARIMA(4,2,3)x(0,0,0,0) [intercept=True]; AIC=1568.083, BIC=1592.469, Time=0.732 seconds\n",
            "Fit ARIMA(3,2,3)x(0,0,0,0) [intercept=True]; AIC=1573.247, BIC=1594.923, Time=0.691 seconds\n",
            "Fit ARIMA(5,2,3)x(0,0,0,0) [intercept=True]; AIC=1570.117, BIC=1597.213, Time=0.840 seconds\n",
            "Fit ARIMA(4,2,4)x(0,0,0,0) [intercept=True]; AIC=1572.040, BIC=1599.135, Time=0.839 seconds\n",
            "Fit ARIMA(3,2,4)x(0,0,0,0) [intercept=True]; AIC=1571.376, BIC=1595.762, Time=0.754 seconds\n",
            "Fit ARIMA(5,2,4)x(0,0,0,0) [intercept=True]; AIC=1572.690, BIC=1602.495, Time=0.894 seconds\n",
            "Total fit time: 9.299 seconds\n"
          ],
          "name": "stdout"
        },
        {
          "output_type": "execute_result",
          "data": {
            "text/plain": [
              "ARIMA(maxiter=50, method='lbfgs', order=(4, 2, 3), out_of_sample_size=0,\n",
              "      scoring='mse', scoring_args=None, seasonal_order=(0, 0, 0, 0),\n",
              "      start_params=None, suppress_warnings=True, trend=None,\n",
              "      with_intercept=True)"
            ]
          },
          "metadata": {
            "tags": []
          },
          "execution_count": 24
        }
      ]
    },
    {
      "cell_type": "code",
      "metadata": {
        "id": "qwks2fQ_iKwM",
        "colab_type": "code",
        "colab": {
          "base_uri": "https://localhost:8080/",
          "height": 34
        },
        "outputId": "3c13df17-bedd-4ea7-db08-a01094674ba1"
      },
      "source": [
        "'''#order and seasonsal order from graph\n",
        "arima_model = SARIMAX(confirmed['y'], order = (5,1,0), seasonal_order = (1,1,0,2))\n",
        "arima_result = arima_model.fit()\n",
        "arima_result.summary()'''"
      ],
      "execution_count": 25,
      "outputs": [
        {
          "output_type": "execute_result",
          "data": {
            "text/plain": [
              "\"#order and seasonsal order from graph\\narima_model = SARIMAX(confirmed['y'], order = (5,1,0), seasonal_order = (1,1,0,2))\\narima_result = arima_model.fit()\\narima_result.summary()\""
            ]
          },
          "metadata": {
            "tags": []
          },
          "execution_count": 25
        }
      ]
    },
    {
      "cell_type": "code",
      "metadata": {
        "id": "pFYHCwhFiKzV",
        "colab_type": "code",
        "colab": {
          "base_uri": "https://localhost:8080/",
          "height": 528
        },
        "outputId": "12f0c051-e84f-4f63-a0ef-a44058954e67"
      },
      "source": [
        "#order and seasonsal order from AIC\n",
        "arima_model = SARIMAX(confirmed['y'], order = (4,2,3), seasonal_order = (0,0,0,7))\n",
        "arima_result = arima_model.fit()\n",
        "arima_result.summary()"
      ],
      "execution_count": 26,
      "outputs": [
        {
          "output_type": "execute_result",
          "data": {
            "text/html": [
              "<table class=\"simpletable\">\n",
              "<caption>SARIMAX Results</caption>\n",
              "<tr>\n",
              "  <th>Dep. Variable:</th>           <td>y</td>        <th>  No. Observations:  </th>    <td>113</td>  \n",
              "</tr>\n",
              "<tr>\n",
              "  <th>Model:</th>           <td>SARIMAX(4, 2, 3)</td> <th>  Log Likelihood     </th> <td>-774.735</td>\n",
              "</tr>\n",
              "<tr>\n",
              "  <th>Date:</th>            <td>Sat, 23 May 2020</td> <th>  AIC                </th> <td>1565.470</td>\n",
              "</tr>\n",
              "<tr>\n",
              "  <th>Time:</th>                <td>18:58:37</td>     <th>  BIC                </th> <td>1587.146</td>\n",
              "</tr>\n",
              "<tr>\n",
              "  <th>Sample:</th>             <td>01-30-2020</td>    <th>  HQIC               </th> <td>1574.263</td>\n",
              "</tr>\n",
              "<tr>\n",
              "  <th></th>                   <td>- 05-21-2020</td>   <th>                     </th>     <td> </td>   \n",
              "</tr>\n",
              "<tr>\n",
              "  <th>Covariance Type:</th>        <td>opg</td>       <th>                     </th>     <td> </td>   \n",
              "</tr>\n",
              "</table>\n",
              "<table class=\"simpletable\">\n",
              "<tr>\n",
              "     <td></td>       <th>coef</th>     <th>std err</th>      <th>z</th>      <th>P>|z|</th>  <th>[0.025</th>    <th>0.975]</th>  \n",
              "</tr>\n",
              "<tr>\n",
              "  <th>ar.L1</th>  <td>   -0.4619</td> <td>    0.231</td> <td>   -2.003</td> <td> 0.045</td> <td>   -0.914</td> <td>   -0.010</td>\n",
              "</tr>\n",
              "<tr>\n",
              "  <th>ar.L2</th>  <td>   -0.0165</td> <td>    0.142</td> <td>   -0.116</td> <td> 0.907</td> <td>   -0.295</td> <td>    0.262</td>\n",
              "</tr>\n",
              "<tr>\n",
              "  <th>ar.L3</th>  <td>    0.9340</td> <td>    0.103</td> <td>    9.080</td> <td> 0.000</td> <td>    0.732</td> <td>    1.136</td>\n",
              "</tr>\n",
              "<tr>\n",
              "  <th>ar.L4</th>  <td>    0.5151</td> <td>    0.175</td> <td>    2.942</td> <td> 0.003</td> <td>    0.172</td> <td>    0.858</td>\n",
              "</tr>\n",
              "<tr>\n",
              "  <th>ma.L1</th>  <td>   -0.1756</td> <td>    0.272</td> <td>   -0.647</td> <td> 0.518</td> <td>   -0.708</td> <td>    0.357</td>\n",
              "</tr>\n",
              "<tr>\n",
              "  <th>ma.L2</th>  <td>    0.1525</td> <td>    0.210</td> <td>    0.725</td> <td> 0.468</td> <td>   -0.260</td> <td>    0.565</td>\n",
              "</tr>\n",
              "<tr>\n",
              "  <th>ma.L3</th>  <td>   -0.7416</td> <td>    0.169</td> <td>   -4.387</td> <td> 0.000</td> <td>   -1.073</td> <td>   -0.410</td>\n",
              "</tr>\n",
              "<tr>\n",
              "  <th>sigma2</th> <td> 7.699e+04</td> <td> 8242.884</td> <td>    9.340</td> <td> 0.000</td> <td> 6.08e+04</td> <td> 9.31e+04</td>\n",
              "</tr>\n",
              "</table>\n",
              "<table class=\"simpletable\">\n",
              "<tr>\n",
              "  <th>Ljung-Box (Q):</th>           <td>43.29</td>  <th>  Jarque-Bera (JB):  </th> <td>148.03</td>\n",
              "</tr>\n",
              "<tr>\n",
              "  <th>Prob(Q):</th>                 <td>0.33</td>   <th>  Prob(JB):          </th>  <td>0.00</td> \n",
              "</tr>\n",
              "<tr>\n",
              "  <th>Heteroskedasticity (H):</th> <td>8871.45</td> <th>  Skew:              </th>  <td>1.18</td> \n",
              "</tr>\n",
              "<tr>\n",
              "  <th>Prob(H) (two-sided):</th>     <td>0.00</td>   <th>  Kurtosis:          </th>  <td>8.14</td> \n",
              "</tr>\n",
              "</table><br/><br/>Warnings:<br/>[1] Covariance matrix calculated using the outer product of gradients (complex-step)."
            ],
            "text/plain": [
              "<class 'statsmodels.iolib.summary.Summary'>\n",
              "\"\"\"\n",
              "                               SARIMAX Results                                \n",
              "==============================================================================\n",
              "Dep. Variable:                      y   No. Observations:                  113\n",
              "Model:               SARIMAX(4, 2, 3)   Log Likelihood                -774.735\n",
              "Date:                Sat, 23 May 2020   AIC                           1565.470\n",
              "Time:                        18:58:37   BIC                           1587.146\n",
              "Sample:                    01-30-2020   HQIC                          1574.263\n",
              "                         - 05-21-2020                                         \n",
              "Covariance Type:                  opg                                         \n",
              "==============================================================================\n",
              "                 coef    std err          z      P>|z|      [0.025      0.975]\n",
              "------------------------------------------------------------------------------\n",
              "ar.L1         -0.4619      0.231     -2.003      0.045      -0.914      -0.010\n",
              "ar.L2         -0.0165      0.142     -0.116      0.907      -0.295       0.262\n",
              "ar.L3          0.9340      0.103      9.080      0.000       0.732       1.136\n",
              "ar.L4          0.5151      0.175      2.942      0.003       0.172       0.858\n",
              "ma.L1         -0.1756      0.272     -0.647      0.518      -0.708       0.357\n",
              "ma.L2          0.1525      0.210      0.725      0.468      -0.260       0.565\n",
              "ma.L3         -0.7416      0.169     -4.387      0.000      -1.073      -0.410\n",
              "sigma2      7.699e+04   8242.884      9.340      0.000    6.08e+04    9.31e+04\n",
              "===================================================================================\n",
              "Ljung-Box (Q):                       43.29   Jarque-Bera (JB):               148.03\n",
              "Prob(Q):                              0.33   Prob(JB):                         0.00\n",
              "Heteroskedasticity (H):            8871.45   Skew:                             1.18\n",
              "Prob(H) (two-sided):                  0.00   Kurtosis:                         8.14\n",
              "===================================================================================\n",
              "\n",
              "Warnings:\n",
              "[1] Covariance matrix calculated using the outer product of gradients (complex-step).\n",
              "\"\"\""
            ]
          },
          "metadata": {
            "tags": []
          },
          "execution_count": 26
        }
      ]
    },
    {
      "cell_type": "code",
      "metadata": {
        "id": "IYau7tYtibF1",
        "colab_type": "code",
        "colab": {
          "base_uri": "https://localhost:8080/",
          "height": 170
        },
        "outputId": "5303c547-5c60-499a-f5f3-79b55558f755"
      },
      "source": [
        "#Prediction\n",
        "arima_pred = arima_result.predict(start = len(confirmed), end = len(confirmed)+7, typ=\"levels\").rename(\"ARIMA Predictions\")\n",
        "arima_pred"
      ],
      "execution_count": 27,
      "outputs": [
        {
          "output_type": "execute_result",
          "data": {
            "text/plain": [
              "2020-05-22    118247.517457\n",
              "2020-05-23    124818.055085\n",
              "2020-05-24    131230.159428\n",
              "2020-05-25    137544.946174\n",
              "2020-05-26    144688.299085\n",
              "2020-05-27    151653.850974\n",
              "2020-05-28    158515.317096\n",
              "2020-05-29    166151.581914\n",
              "Freq: D, Name: ARIMA Predictions, dtype: float64"
            ]
          },
          "metadata": {
            "tags": []
          },
          "execution_count": 27
        }
      ]
    },
    {
      "cell_type": "code",
      "metadata": {
        "id": "OVxUiqde4cn2",
        "colab_type": "code",
        "colab": {
          "base_uri": "https://localhost:8080/",
          "height": 170
        },
        "outputId": "d83eb342-1052-4520-df90-733d56c08432"
      },
      "source": [
        "arima_pred = arima_pred.astype(int)\n",
        "arima_pred"
      ],
      "execution_count": 28,
      "outputs": [
        {
          "output_type": "execute_result",
          "data": {
            "text/plain": [
              "2020-05-22    118247\n",
              "2020-05-23    124818\n",
              "2020-05-24    131230\n",
              "2020-05-25    137544\n",
              "2020-05-26    144688\n",
              "2020-05-27    151653\n",
              "2020-05-28    158515\n",
              "2020-05-29    166151\n",
              "Freq: D, Name: ARIMA Predictions, dtype: int64"
            ]
          },
          "metadata": {
            "tags": []
          },
          "execution_count": 28
        }
      ]
    },
    {
      "cell_type": "code",
      "metadata": {
        "id": "zb5RG0XNmuPr",
        "colab_type": "code",
        "colab": {}
      },
      "source": [
        "#Extracting data based on present date\n",
        "\n",
        "sarimax_con = arima_pred.iloc[1]"
      ],
      "execution_count": 0,
      "outputs": []
    },
    {
      "cell_type": "code",
      "metadata": {
        "id": "mJzwEdtDiAH5",
        "colab_type": "code",
        "colab": {
          "base_uri": "https://localhost:8080/",
          "height": 289
        },
        "outputId": "65465c79-2b6b-4f70-8549-258a73b25713"
      },
      "source": [
        "#test_data['y'].plot(figsize = (16,5), legend=True)\n",
        "arima_pred.plot(legend = True);"
      ],
      "execution_count": 30,
      "outputs": [
        {
          "output_type": "display_data",
          "data": {
            "image/png": "[encoded data removed]",
            "text/plain": [
              "<Figure size 432x288 with 1 Axes>"
            ]
          },
          "metadata": {
            "tags": [],
            "needs_background": "light"
          }
        }
      ]
    },
    {
      "cell_type": "markdown",
      "metadata": {
        "id": "hn8gKEFvi3H3",
        "colab_type": "text"
      },
      "source": [
        "#Forecasting of recovered cases\n",
        "## (1) using Prophet"
      ]
    },
    {
      "cell_type": "code",
      "metadata": {
        "id": "48RKtWiMiAKw",
        "colab_type": "code",
        "colab": {
          "base_uri": "https://localhost:8080/",
          "height": 204
        },
        "outputId": "55211e5a-d375-4821-d069-5389e136fb80"
      },
      "source": [
        "recovered = data1.groupby('Date').sum()['Cured'].reset_index()\n",
        "recovered.columns = ['ds','y']\n",
        "recovered['ds'] = pd.to_datetime(recovered['ds'], format = '%y/%m/%d')\n",
        "recovered.tail()"
      ],
      "execution_count": 31,
      "outputs": [
        {
          "output_type": "execute_result",
          "data": {
            "text/html": [
              "<div>\n",
              "<style scoped>\n",
              "    .dataframe tbody tr th:only-of-type {\n",
              "        vertical-align: middle;\n",
              "    }\n",
              "\n",
              "    .dataframe tbody tr th {\n",
              "        vertical-align: top;\n",
              "    }\n",
              "\n",
              "    .dataframe thead th {\n",
              "        text-align: right;\n",
              "    }\n",
              "</style>\n",
              "<table border=\"1\" class=\"dataframe\">\n",
              "  <thead>\n",
              "    <tr style=\"text-align: right;\">\n",
              "      <th></th>\n",
              "      <th>ds</th>\n",
              "      <th>y</th>\n",
              "    </tr>\n",
              "  </thead>\n",
              "  <tbody>\n",
              "    <tr>\n",
              "      <th>108</th>\n",
              "      <td>2020-05-17</td>\n",
              "      <td>34109.0</td>\n",
              "    </tr>\n",
              "    <tr>\n",
              "      <th>109</th>\n",
              "      <td>2020-05-18</td>\n",
              "      <td>36824.0</td>\n",
              "    </tr>\n",
              "    <tr>\n",
              "      <th>110</th>\n",
              "      <td>2020-05-19</td>\n",
              "      <td>39174.0</td>\n",
              "    </tr>\n",
              "    <tr>\n",
              "      <th>111</th>\n",
              "      <td>2020-05-20</td>\n",
              "      <td>42298.0</td>\n",
              "    </tr>\n",
              "    <tr>\n",
              "      <th>112</th>\n",
              "      <td>2020-05-21</td>\n",
              "      <td>45300.0</td>\n",
              "    </tr>\n",
              "  </tbody>\n",
              "</table>\n",
              "</div>"
            ],
            "text/plain": [
              "            ds        y\n",
              "108 2020-05-17  34109.0\n",
              "109 2020-05-18  36824.0\n",
              "110 2020-05-19  39174.0\n",
              "111 2020-05-20  42298.0\n",
              "112 2020-05-21  45300.0"
            ]
          },
          "metadata": {
            "tags": []
          },
          "execution_count": 31
        }
      ]
    },
    {
      "cell_type": "code",
      "metadata": {
        "id": "ARzyW7zViAOH",
        "colab_type": "code",
        "colab": {
          "base_uri": "https://localhost:8080/",
          "height": 238
        },
        "outputId": "ffcb2256-dbb4-4e5c-db96-5a795a8062dd"
      },
      "source": [
        "m = Prophet(interval_width=0.95)\n",
        "m.fit(recovered)\n",
        "future = m.make_future_dataframe(periods=7)\n",
        "future.tail()"
      ],
      "execution_count": 32,
      "outputs": [
        {
          "output_type": "stream",
          "text": [
            "INFO:fbprophet:Disabling yearly seasonality. Run prophet with yearly_seasonality=True to override this.\n",
            "INFO:fbprophet:Disabling daily seasonality. Run prophet with daily_seasonality=True to override this.\n"
          ],
          "name": "stderr"
        },
        {
          "output_type": "execute_result",
          "data": {
            "text/html": [
              "<div>\n",
              "<style scoped>\n",
              "    .dataframe tbody tr th:only-of-type {\n",
              "        vertical-align: middle;\n",
              "    }\n",
              "\n",
              "    .dataframe tbody tr th {\n",
              "        vertical-align: top;\n",
              "    }\n",
              "\n",
              "    .dataframe thead th {\n",
              "        text-align: right;\n",
              "    }\n",
              "</style>\n",
              "<table border=\"1\" class=\"dataframe\">\n",
              "  <thead>\n",
              "    <tr style=\"text-align: right;\">\n",
              "      <th></th>\n",
              "      <th>ds</th>\n",
              "    </tr>\n",
              "  </thead>\n",
              "  <tbody>\n",
              "    <tr>\n",
              "      <th>115</th>\n",
              "      <td>2020-05-24</td>\n",
              "    </tr>\n",
              "    <tr>\n",
              "      <th>116</th>\n",
              "      <td>2020-05-25</td>\n",
              "    </tr>\n",
              "    <tr>\n",
              "      <th>117</th>\n",
              "      <td>2020-05-26</td>\n",
              "    </tr>\n",
              "    <tr>\n",
              "      <th>118</th>\n",
              "      <td>2020-05-27</td>\n",
              "    </tr>\n",
              "    <tr>\n",
              "      <th>119</th>\n",
              "      <td>2020-05-28</td>\n",
              "    </tr>\n",
              "  </tbody>\n",
              "</table>\n",
              "</div>"
            ],
            "text/plain": [
              "            ds\n",
              "115 2020-05-24\n",
              "116 2020-05-25\n",
              "117 2020-05-26\n",
              "118 2020-05-27\n",
              "119 2020-05-28"
            ]
          },
          "metadata": {
            "tags": []
          },
          "execution_count": 32
        }
      ]
    },
    {
      "cell_type": "code",
      "metadata": {
        "id": "t5oU5LLnjQAT",
        "colab_type": "code",
        "colab": {
          "base_uri": "https://localhost:8080/",
          "height": 419
        },
        "outputId": "c2935a71-fc69-4b77-e63f-60bd7850ff5f"
      },
      "source": [
        "forecast = m.predict(future)\n",
        "forecast[['ds', 'yhat', 'yhat_lower', 'yhat_upper']]"
      ],
      "execution_count": 33,
      "outputs": [
        {
          "output_type": "execute_result",
          "data": {
            "text/html": [
              "<div>\n",
              "<style scoped>\n",
              "    .dataframe tbody tr th:only-of-type {\n",
              "        vertical-align: middle;\n",
              "    }\n",
              "\n",
              "    .dataframe tbody tr th {\n",
              "        vertical-align: top;\n",
              "    }\n",
              "\n",
              "    .dataframe thead th {\n",
              "        text-align: right;\n",
              "    }\n",
              "</style>\n",
              "<table border=\"1\" class=\"dataframe\">\n",
              "  <thead>\n",
              "    <tr style=\"text-align: right;\">\n",
              "      <th></th>\n",
              "      <th>ds</th>\n",
              "      <th>yhat</th>\n",
              "      <th>yhat_lower</th>\n",
              "      <th>yhat_upper</th>\n",
              "    </tr>\n",
              "  </thead>\n",
              "  <tbody>\n",
              "    <tr>\n",
              "      <th>0</th>\n",
              "      <td>2020-01-30</td>\n",
              "      <td>115.591904</td>\n",
              "      <td>-2457.654642</td>\n",
              "      <td>3098.922996</td>\n",
              "    </tr>\n",
              "    <tr>\n",
              "      <th>1</th>\n",
              "      <td>2020-01-31</td>\n",
              "      <td>-352.869508</td>\n",
              "      <td>-3243.767800</td>\n",
              "      <td>2456.268217</td>\n",
              "    </tr>\n",
              "    <tr>\n",
              "      <th>2</th>\n",
              "      <td>2020-02-01</td>\n",
              "      <td>-342.801619</td>\n",
              "      <td>-3105.116621</td>\n",
              "      <td>2465.611548</td>\n",
              "    </tr>\n",
              "    <tr>\n",
              "      <th>3</th>\n",
              "      <td>2020-02-02</td>\n",
              "      <td>-188.297214</td>\n",
              "      <td>-2992.028853</td>\n",
              "      <td>2632.308162</td>\n",
              "    </tr>\n",
              "    <tr>\n",
              "      <th>4</th>\n",
              "      <td>2020-02-03</td>\n",
              "      <td>-107.917304</td>\n",
              "      <td>-2863.026110</td>\n",
              "      <td>2665.399489</td>\n",
              "    </tr>\n",
              "    <tr>\n",
              "      <th>...</th>\n",
              "      <td>...</td>\n",
              "      <td>...</td>\n",
              "      <td>...</td>\n",
              "      <td>...</td>\n",
              "    </tr>\n",
              "    <tr>\n",
              "      <th>115</th>\n",
              "      <td>2020-05-24</td>\n",
              "      <td>42008.209285</td>\n",
              "      <td>39230.198891</td>\n",
              "      <td>44401.845128</td>\n",
              "    </tr>\n",
              "    <tr>\n",
              "      <th>116</th>\n",
              "      <td>2020-05-25</td>\n",
              "      <td>43491.440567</td>\n",
              "      <td>40842.214350</td>\n",
              "      <td>46132.422249</td>\n",
              "    </tr>\n",
              "    <tr>\n",
              "      <th>117</th>\n",
              "      <td>2020-05-26</td>\n",
              "      <td>44990.572013</td>\n",
              "      <td>42176.766171</td>\n",
              "      <td>47871.681951</td>\n",
              "    </tr>\n",
              "    <tr>\n",
              "      <th>118</th>\n",
              "      <td>2020-05-27</td>\n",
              "      <td>46497.817617</td>\n",
              "      <td>43607.445459</td>\n",
              "      <td>49278.059990</td>\n",
              "    </tr>\n",
              "    <tr>\n",
              "      <th>119</th>\n",
              "      <td>2020-05-28</td>\n",
              "      <td>47953.657012</td>\n",
              "      <td>45073.276755</td>\n",
              "      <td>50697.262770</td>\n",
              "    </tr>\n",
              "  </tbody>\n",
              "</table>\n",
              "<p>120 rows × 4 columns</p>\n",
              "</div>"
            ],
            "text/plain": [
              "            ds          yhat    yhat_lower    yhat_upper\n",
              "0   2020-01-30    115.591904  -2457.654642   3098.922996\n",
              "1   2020-01-31   -352.869508  -3243.767800   2456.268217\n",
              "2   2020-02-01   -342.801619  -3105.116621   2465.611548\n",
              "3   2020-02-02   -188.297214  -2992.028853   2632.308162\n",
              "4   2020-02-03   -107.917304  -2863.026110   2665.399489\n",
              "..         ...           ...           ...           ...\n",
              "115 2020-05-24  42008.209285  39230.198891  44401.845128\n",
              "116 2020-05-25  43491.440567  40842.214350  46132.422249\n",
              "117 2020-05-26  44990.572013  42176.766171  47871.681951\n",
              "118 2020-05-27  46497.817617  43607.445459  49278.059990\n",
              "119 2020-05-28  47953.657012  45073.276755  50697.262770\n",
              "\n",
              "[120 rows x 4 columns]"
            ]
          },
          "metadata": {
            "tags": []
          },
          "execution_count": 33
        }
      ]
    },
    {
      "cell_type": "code",
      "metadata": {
        "id": "zAaRDHjinBBW",
        "colab_type": "code",
        "colab": {}
      },
      "source": [
        "# Exarcting data based on present date\n",
        "\n",
        "prophet_rec = forecast[['ds','yhat','yhat_lower','yhat_upper']].iloc[114]"
      ],
      "execution_count": 0,
      "outputs": []
    },
    {
      "cell_type": "code",
      "metadata": {
        "id": "Ox_rc5ydja93",
        "colab_type": "code",
        "colab": {
          "base_uri": "https://localhost:8080/",
          "height": 441
        },
        "outputId": "0ae6005f-cfa5-44cd-ad3e-9b507439c5a9"
      },
      "source": [
        "recovered_forecast_plot = m.plot(forecast)"
      ],
      "execution_count": 35,
      "outputs": [
        {
          "output_type": "display_data",
          "data": {
            "image/png": "[encoded data removed]",
            "text/plain": [
              "<Figure size 720x432 with 1 Axes>"
            ]
          },
          "metadata": {
            "tags": []
          }
        }
      ]
    },
    {
      "cell_type": "code",
      "metadata": {
        "id": "_2oiIu4zjbBK",
        "colab_type": "code",
        "colab": {
          "base_uri": "https://localhost:8080/",
          "height": 441
        },
        "outputId": "e2fb8c99-2361-4f67-d316-e5728458311e"
      },
      "source": [
        "recovered_forecast_plot = m.plot_components(forecast)"
      ],
      "execution_count": 36,
      "outputs": [
        {
          "output_type": "display_data",
          "data": {
            "image/png": "[encoded data removed]",
            "text/plain": [
              "<Figure size 648x432 with 2 Axes>"
            ]
          },
          "metadata": {
            "tags": []
          }
        }
      ]
    },
    {
      "cell_type": "markdown",
      "metadata": {
        "id": "bmQTXbOSjkHu",
        "colab_type": "text"
      },
      "source": [
        "## Using SARIMAX for recorvery forecast"
      ]
    },
    {
      "cell_type": "code",
      "metadata": {
        "id": "5X8bFlaPjfRe",
        "colab_type": "code",
        "colab": {
          "base_uri": "https://localhost:8080/",
          "height": 235
        },
        "outputId": "0383a79c-d26e-4fc7-e1f9-299f76066a68"
      },
      "source": [
        "recovered = recovered.set_index(\"ds\")\n",
        "recovered.head()"
      ],
      "execution_count": 37,
      "outputs": [
        {
          "output_type": "execute_result",
          "data": {
            "text/html": [
              "<div>\n",
              "<style scoped>\n",
              "    .dataframe tbody tr th:only-of-type {\n",
              "        vertical-align: middle;\n",
              "    }\n",
              "\n",
              "    .dataframe tbody tr th {\n",
              "        vertical-align: top;\n",
              "    }\n",
              "\n",
              "    .dataframe thead th {\n",
              "        text-align: right;\n",
              "    }\n",
              "</style>\n",
              "<table border=\"1\" class=\"dataframe\">\n",
              "  <thead>\n",
              "    <tr style=\"text-align: right;\">\n",
              "      <th></th>\n",
              "      <th>y</th>\n",
              "    </tr>\n",
              "    <tr>\n",
              "      <th>ds</th>\n",
              "      <th></th>\n",
              "    </tr>\n",
              "  </thead>\n",
              "  <tbody>\n",
              "    <tr>\n",
              "      <th>2020-01-30</th>\n",
              "      <td>0.0</td>\n",
              "    </tr>\n",
              "    <tr>\n",
              "      <th>2020-01-31</th>\n",
              "      <td>0.0</td>\n",
              "    </tr>\n",
              "    <tr>\n",
              "      <th>2020-02-01</th>\n",
              "      <td>0.0</td>\n",
              "    </tr>\n",
              "    <tr>\n",
              "      <th>2020-02-02</th>\n",
              "      <td>0.0</td>\n",
              "    </tr>\n",
              "    <tr>\n",
              "      <th>2020-02-03</th>\n",
              "      <td>0.0</td>\n",
              "    </tr>\n",
              "  </tbody>\n",
              "</table>\n",
              "</div>"
            ],
            "text/plain": [
              "              y\n",
              "ds             \n",
              "2020-01-30  0.0\n",
              "2020-01-31  0.0\n",
              "2020-02-01  0.0\n",
              "2020-02-02  0.0\n",
              "2020-02-03  0.0"
            ]
          },
          "metadata": {
            "tags": []
          },
          "execution_count": 37
        }
      ]
    },
    {
      "cell_type": "code",
      "metadata": {
        "id": "Tum6Z2jIjfT9",
        "colab_type": "code",
        "colab": {
          "base_uri": "https://localhost:8080/",
          "height": 425
        },
        "outputId": "f6fddea6-0b8e-4a8d-db8e-13e587cebb70"
      },
      "source": [
        "#Using grid search for finding order and seasonal order in SARIMAX\n",
        "\n",
        "%time\n",
        "model = auto_arima(recovered, trace=True, error_action='ignore', suppress_warnings=True)\n",
        "model.fit(recovered)"
      ],
      "execution_count": 38,
      "outputs": [
        {
          "output_type": "stream",
          "text": [
            "CPU times: user 2 µs, sys: 1e+03 ns, total: 3 µs\n",
            "Wall time: 7.87 µs\n",
            "Performing stepwise search to minimize aic\n",
            "Fit ARIMA(2,2,2)x(0,0,0,0) [intercept=True]; AIC=1506.946, BIC=1523.204, Time=0.506 seconds\n",
            "Fit ARIMA(0,2,0)x(0,0,0,0) [intercept=True]; AIC=1542.728, BIC=1548.147, Time=0.015 seconds\n",
            "Fit ARIMA(1,2,0)x(0,0,0,0) [intercept=True]; AIC=1535.730, BIC=1543.859, Time=0.072 seconds\n",
            "Fit ARIMA(0,2,1)x(0,0,0,0) [intercept=True]; AIC=1523.049, BIC=1531.178, Time=0.109 seconds\n",
            "Fit ARIMA(0,2,0)x(0,0,0,0) [intercept=False]; AIC=1542.043, BIC=1544.753, Time=0.014 seconds\n",
            "Fit ARIMA(1,2,2)x(0,0,0,0) [intercept=True]; AIC=1520.382, BIC=1533.930, Time=0.261 seconds\n",
            "Near non-invertible roots for order (1, 2, 2)(0, 0, 0, 0); setting score to inf (at least one inverse root too close to the border of the unit circle: 1.000)\n",
            "Fit ARIMA(2,2,1)x(0,0,0,0) [intercept=True]; AIC=1510.439, BIC=1523.987, Time=0.252 seconds\n",
            "Fit ARIMA(3,2,2)x(0,0,0,0) [intercept=True]; AIC=1508.977, BIC=1527.944, Time=0.531 seconds\n",
            "Near non-invertible roots for order (3, 2, 2)(0, 0, 0, 0); setting score to inf (at least one inverse root too close to the border of the unit circle: 0.995)\n",
            "Fit ARIMA(2,2,3)x(0,0,0,0) [intercept=True]; AIC=1509.633, BIC=1528.600, Time=0.666 seconds\n",
            "Fit ARIMA(1,2,1)x(0,0,0,0) [intercept=True]; AIC=1524.856, BIC=1535.694, Time=0.180 seconds\n",
            "Fit ARIMA(1,2,3)x(0,0,0,0) [intercept=True]; AIC=1504.517, BIC=1520.774, Time=0.541 seconds\n",
            "Near non-invertible roots for order (1, 2, 3)(0, 0, 0, 0); setting score to inf (at least one inverse root too close to the border of the unit circle: 0.999)\n",
            "Fit ARIMA(3,2,1)x(0,0,0,0) [intercept=True]; AIC=1510.788, BIC=1527.045, Time=0.511 seconds\n",
            "Fit ARIMA(3,2,3)x(0,0,0,0) [intercept=True]; AIC=1513.279, BIC=1534.956, Time=0.642 seconds\n",
            "Total fit time: 4.317 seconds\n"
          ],
          "name": "stdout"
        },
        {
          "output_type": "execute_result",
          "data": {
            "text/plain": [
              "ARIMA(maxiter=50, method='lbfgs', order=(1, 2, 3), out_of_sample_size=0,\n",
              "      scoring='mse', scoring_args=None, seasonal_order=(0, 0, 0, 0),\n",
              "      start_params=None, suppress_warnings=True, trend=None,\n",
              "      with_intercept=True)"
            ]
          },
          "metadata": {
            "tags": []
          },
          "execution_count": 38
        }
      ]
    },
    {
      "cell_type": "code",
      "metadata": {
        "id": "Np1IyIc5jr0V",
        "colab_type": "code",
        "colab": {
          "base_uri": "https://localhost:8080/",
          "height": 465
        },
        "outputId": "581826a0-baae-48d2-f586-30153ae54cdb"
      },
      "source": [
        "#order and seasonsal order from AIC\n",
        "arima_model = SARIMAX(recovered['y'], order = (1,2,3), seasonal_order = (0,0,0,0))\n",
        "arima_result = arima_model.fit()\n",
        "arima_result.summary()"
      ],
      "execution_count": 39,
      "outputs": [
        {
          "output_type": "execute_result",
          "data": {
            "text/html": [
              "<table class=\"simpletable\">\n",
              "<caption>SARIMAX Results</caption>\n",
              "<tr>\n",
              "  <th>Dep. Variable:</th>           <td>y</td>        <th>  No. Observations:  </th>    <td>113</td>  \n",
              "</tr>\n",
              "<tr>\n",
              "  <th>Model:</th>           <td>SARIMAX(1, 2, 3)</td> <th>  Log Likelihood     </th> <td>-746.855</td>\n",
              "</tr>\n",
              "<tr>\n",
              "  <th>Date:</th>            <td>Sat, 23 May 2020</td> <th>  AIC                </th> <td>1503.710</td>\n",
              "</tr>\n",
              "<tr>\n",
              "  <th>Time:</th>                <td>18:58:46</td>     <th>  BIC                </th> <td>1517.258</td>\n",
              "</tr>\n",
              "<tr>\n",
              "  <th>Sample:</th>             <td>01-30-2020</td>    <th>  HQIC               </th> <td>1509.206</td>\n",
              "</tr>\n",
              "<tr>\n",
              "  <th></th>                   <td>- 05-21-2020</td>   <th>                     </th>     <td> </td>   \n",
              "</tr>\n",
              "<tr>\n",
              "  <th>Covariance Type:</th>        <td>opg</td>       <th>                     </th>     <td> </td>   \n",
              "</tr>\n",
              "</table>\n",
              "<table class=\"simpletable\">\n",
              "<tr>\n",
              "     <td></td>       <th>coef</th>     <th>std err</th>      <th>z</th>      <th>P>|z|</th>  <th>[0.025</th>    <th>0.975]</th>  \n",
              "</tr>\n",
              "<tr>\n",
              "  <th>ar.L1</th>  <td>    0.4486</td> <td>    0.108</td> <td>    4.148</td> <td> 0.000</td> <td>    0.237</td> <td>    0.661</td>\n",
              "</tr>\n",
              "<tr>\n",
              "  <th>ma.L1</th>  <td>   -1.0431</td> <td>    6.308</td> <td>   -0.165</td> <td> 0.869</td> <td>  -13.406</td> <td>   11.320</td>\n",
              "</tr>\n",
              "<tr>\n",
              "  <th>ma.L2</th>  <td>    0.0299</td> <td>    3.993</td> <td>    0.007</td> <td> 0.994</td> <td>   -7.795</td> <td>    7.855</td>\n",
              "</tr>\n",
              "<tr>\n",
              "  <th>ma.L3</th>  <td>    0.5928</td> <td>    4.547</td> <td>    0.130</td> <td> 0.896</td> <td>   -8.319</td> <td>    9.504</td>\n",
              "</tr>\n",
              "<tr>\n",
              "  <th>sigma2</th> <td> 3.841e+04</td> <td> 2.97e+05</td> <td>    0.129</td> <td> 0.897</td> <td>-5.44e+05</td> <td> 6.21e+05</td>\n",
              "</tr>\n",
              "</table>\n",
              "<table class=\"simpletable\">\n",
              "<tr>\n",
              "  <th>Ljung-Box (Q):</th>            <td>20.24</td>   <th>  Jarque-Bera (JB):  </th> <td>5830.18</td>\n",
              "</tr>\n",
              "<tr>\n",
              "  <th>Prob(Q):</th>                  <td>1.00</td>    <th>  Prob(JB):          </th>  <td>0.00</td>  \n",
              "</tr>\n",
              "<tr>\n",
              "  <th>Heteroskedasticity (H):</th> <td>290680.78</td> <th>  Skew:              </th>  <td>4.43</td>  \n",
              "</tr>\n",
              "<tr>\n",
              "  <th>Prob(H) (two-sided):</th>      <td>0.00</td>    <th>  Kurtosis:          </th>  <td>37.38</td> \n",
              "</tr>\n",
              "</table><br/><br/>Warnings:<br/>[1] Covariance matrix calculated using the outer product of gradients (complex-step)."
            ],
            "text/plain": [
              "<class 'statsmodels.iolib.summary.Summary'>\n",
              "\"\"\"\n",
              "                               SARIMAX Results                                \n",
              "==============================================================================\n",
              "Dep. Variable:                      y   No. Observations:                  113\n",
              "Model:               SARIMAX(1, 2, 3)   Log Likelihood                -746.855\n",
              "Date:                Sat, 23 May 2020   AIC                           1503.710\n",
              "Time:                        18:58:46   BIC                           1517.258\n",
              "Sample:                    01-30-2020   HQIC                          1509.206\n",
              "                         - 05-21-2020                                         \n",
              "Covariance Type:                  opg                                         \n",
              "==============================================================================\n",
              "                 coef    std err          z      P>|z|      [0.025      0.975]\n",
              "------------------------------------------------------------------------------\n",
              "ar.L1          0.4486      0.108      4.148      0.000       0.237       0.661\n",
              "ma.L1         -1.0431      6.308     -0.165      0.869     -13.406      11.320\n",
              "ma.L2          0.0299      3.993      0.007      0.994      -7.795       7.855\n",
              "ma.L3          0.5928      4.547      0.130      0.896      -8.319       9.504\n",
              "sigma2      3.841e+04   2.97e+05      0.129      0.897   -5.44e+05    6.21e+05\n",
              "===================================================================================\n",
              "Ljung-Box (Q):                       20.24   Jarque-Bera (JB):              5830.18\n",
              "Prob(Q):                              1.00   Prob(JB):                         0.00\n",
              "Heteroskedasticity (H):          290680.78   Skew:                             4.43\n",
              "Prob(H) (two-sided):                  0.00   Kurtosis:                        37.38\n",
              "===================================================================================\n",
              "\n",
              "Warnings:\n",
              "[1] Covariance matrix calculated using the outer product of gradients (complex-step).\n",
              "\"\"\""
            ]
          },
          "metadata": {
            "tags": []
          },
          "execution_count": 39
        }
      ]
    },
    {
      "cell_type": "code",
      "metadata": {
        "id": "QRwGvClDjr3c",
        "colab_type": "code",
        "colab": {
          "base_uri": "https://localhost:8080/",
          "height": 170
        },
        "outputId": "f0e07947-3a7a-431b-fcc8-008aac3965e7"
      },
      "source": [
        "#Prediction\n",
        "arima_pred = arima_result.predict(start = len(recovered), end = len(recovered)+7, typ=\"levels\").rename(\"ARIMA Predictions\")\n",
        "arima_pred"
      ],
      "execution_count": 40,
      "outputs": [
        {
          "output_type": "execute_result",
          "data": {
            "text/plain": [
              "2020-05-22    48637.532806\n",
              "2020-05-23    52022.534835\n",
              "2020-05-24    55148.441665\n",
              "2020-05-25    58158.117270\n",
              "2020-05-26    61115.651047\n",
              "2020-05-27    64049.793774\n",
              "2020-05-28    66973.443176\n",
              "2020-05-29    69892.385227\n",
              "Freq: D, Name: ARIMA Predictions, dtype: float64"
            ]
          },
          "metadata": {
            "tags": []
          },
          "execution_count": 40
        }
      ]
    },
    {
      "cell_type": "code",
      "metadata": {
        "id": "df72usIp4uiq",
        "colab_type": "code",
        "colab": {
          "base_uri": "https://localhost:8080/",
          "height": 170
        },
        "outputId": "18242559-4495-495d-b937-73f815c00016"
      },
      "source": [
        "arima_pred = arima_pred.astype(int)\n",
        "arima_pred"
      ],
      "execution_count": 41,
      "outputs": [
        {
          "output_type": "execute_result",
          "data": {
            "text/plain": [
              "2020-05-22    48637\n",
              "2020-05-23    52022\n",
              "2020-05-24    55148\n",
              "2020-05-25    58158\n",
              "2020-05-26    61115\n",
              "2020-05-27    64049\n",
              "2020-05-28    66973\n",
              "2020-05-29    69892\n",
              "Freq: D, Name: ARIMA Predictions, dtype: int64"
            ]
          },
          "metadata": {
            "tags": []
          },
          "execution_count": 41
        }
      ]
    },
    {
      "cell_type": "code",
      "metadata": {
        "id": "QzhkgGHhnawK",
        "colab_type": "code",
        "colab": {}
      },
      "source": [
        "#Exctracting data baed on present date data\n",
        "\n",
        "sarimax_rec = arima_pred.iloc[1]"
      ],
      "execution_count": 0,
      "outputs": []
    },
    {
      "cell_type": "markdown",
      "metadata": {
        "id": "KAfqgqhskFjY",
        "colab_type": "text"
      },
      "source": [
        "#Analysing State Wise Cases"
      ]
    },
    {
      "cell_type": "code",
      "metadata": {
        "id": "7mCiL-7cClyP",
        "colab_type": "code",
        "colab": {}
      },
      "source": [
        "india_data = pd.read_csv(\"Daily/23-05-2020.csv\")"
      ],
      "execution_count": 0,
      "outputs": []
    },
    {
      "cell_type": "code",
      "metadata": {
        "id": "xKxq3WBmCl0r",
        "colab_type": "code",
        "outputId": "cca226c8-08f0-440a-dca2-9a33f52f5712",
        "colab": {
          "base_uri": "https://localhost:8080/",
          "height": 204
        }
      },
      "source": [
        "df_india = india_data.copy()\n",
        "df_india.drop(['S. No.'],axis=1,inplace=True)\n",
        "df_india.head()"
      ],
      "execution_count": 44,
      "outputs": [
        {
          "output_type": "execute_result",
          "data": {
            "text/html": [
              "<div>\n",
              "<style scoped>\n",
              "    .dataframe tbody tr th:only-of-type {\n",
              "        vertical-align: middle;\n",
              "    }\n",
              "\n",
              "    .dataframe tbody tr th {\n",
              "        vertical-align: top;\n",
              "    }\n",
              "\n",
              "    .dataframe thead th {\n",
              "        text-align: right;\n",
              "    }\n",
              "</style>\n",
              "<table border=\"1\" class=\"dataframe\">\n",
              "  <thead>\n",
              "    <tr style=\"text-align: right;\">\n",
              "      <th></th>\n",
              "      <th>Name of State / UT</th>\n",
              "      <th>Total Confirmed cases*</th>\n",
              "      <th>Cured/Discharged/Migrated</th>\n",
              "      <th>Deaths**</th>\n",
              "    </tr>\n",
              "  </thead>\n",
              "  <tbody>\n",
              "    <tr>\n",
              "      <th>0</th>\n",
              "      <td>Andaman and Nicobar Islands</td>\n",
              "      <td>33.0</td>\n",
              "      <td>33.0</td>\n",
              "      <td>0</td>\n",
              "    </tr>\n",
              "    <tr>\n",
              "      <th>1</th>\n",
              "      <td>Andhra Pradesh</td>\n",
              "      <td>2709.0</td>\n",
              "      <td>1763.0</td>\n",
              "      <td>55</td>\n",
              "    </tr>\n",
              "    <tr>\n",
              "      <th>2</th>\n",
              "      <td>Arunachal Pradesh</td>\n",
              "      <td>1.0</td>\n",
              "      <td>1.0</td>\n",
              "      <td>0</td>\n",
              "    </tr>\n",
              "    <tr>\n",
              "      <th>3</th>\n",
              "      <td>Assam</td>\n",
              "      <td>259.0</td>\n",
              "      <td>54.0</td>\n",
              "      <td>4</td>\n",
              "    </tr>\n",
              "    <tr>\n",
              "      <th>4</th>\n",
              "      <td>Bihar</td>\n",
              "      <td>2177.0</td>\n",
              "      <td>629.0</td>\n",
              "      <td>11</td>\n",
              "    </tr>\n",
              "  </tbody>\n",
              "</table>\n",
              "</div>"
            ],
            "text/plain": [
              "            Name of State / UT  ...  Deaths**\n",
              "0  Andaman and Nicobar Islands  ...         0\n",
              "1               Andhra Pradesh  ...        55\n",
              "2            Arunachal Pradesh  ...         0\n",
              "3                        Assam  ...         4\n",
              "4                        Bihar  ...        11\n",
              "\n",
              "[5 rows x 4 columns]"
            ]
          },
          "metadata": {
            "tags": []
          },
          "execution_count": 44
        }
      ]
    },
    {
      "cell_type": "code",
      "metadata": {
        "id": "s1w84M32a-HK",
        "colab_type": "code",
        "colab": {}
      },
      "source": [
        "df_india.drop(df_india.tail(4).index,inplace=True)"
      ],
      "execution_count": 0,
      "outputs": []
    },
    {
      "cell_type": "code",
      "metadata": {
        "id": "sqo-LJpgdLaO",
        "colab_type": "code",
        "outputId": "01d58729-a61a-42c4-c13d-f41e5e2d9fe2",
        "colab": {
          "base_uri": "https://localhost:8080/",
          "height": 204
        }
      },
      "source": [
        "df_india.tail()"
      ],
      "execution_count": 46,
      "outputs": [
        {
          "output_type": "execute_result",
          "data": {
            "text/html": [
              "<div>\n",
              "<style scoped>\n",
              "    .dataframe tbody tr th:only-of-type {\n",
              "        vertical-align: middle;\n",
              "    }\n",
              "\n",
              "    .dataframe tbody tr th {\n",
              "        vertical-align: top;\n",
              "    }\n",
              "\n",
              "    .dataframe thead th {\n",
              "        text-align: right;\n",
              "    }\n",
              "</style>\n",
              "<table border=\"1\" class=\"dataframe\">\n",
              "  <thead>\n",
              "    <tr style=\"text-align: right;\">\n",
              "      <th></th>\n",
              "      <th>Name of State / UT</th>\n",
              "      <th>Total Confirmed cases*</th>\n",
              "      <th>Cured/Discharged/Migrated</th>\n",
              "      <th>Deaths**</th>\n",
              "    </tr>\n",
              "  </thead>\n",
              "  <tbody>\n",
              "    <tr>\n",
              "      <th>30</th>\n",
              "      <td>Uttarakhand</td>\n",
              "      <td>153.0</td>\n",
              "      <td>56.0</td>\n",
              "      <td>1</td>\n",
              "    </tr>\n",
              "    <tr>\n",
              "      <th>31</th>\n",
              "      <td>Uttar Pradesh</td>\n",
              "      <td>5735.0</td>\n",
              "      <td>3238.0</td>\n",
              "      <td>152</td>\n",
              "    </tr>\n",
              "    <tr>\n",
              "      <th>32</th>\n",
              "      <td>West Bengal</td>\n",
              "      <td>3332.0</td>\n",
              "      <td>1221.0</td>\n",
              "      <td>265</td>\n",
              "    </tr>\n",
              "    <tr>\n",
              "      <th>33</th>\n",
              "      <td>Cases being reassigned to states</td>\n",
              "      <td>1899.0</td>\n",
              "      <td>NaN</td>\n",
              "      <td>NaN</td>\n",
              "    </tr>\n",
              "    <tr>\n",
              "      <th>34</th>\n",
              "      <td>Total#</td>\n",
              "      <td>125101.0</td>\n",
              "      <td>51784.0</td>\n",
              "      <td>3720</td>\n",
              "    </tr>\n",
              "  </tbody>\n",
              "</table>\n",
              "</div>"
            ],
            "text/plain": [
              "                  Name of State / UT  ...  Deaths**\n",
              "30                       Uttarakhand  ...         1\n",
              "31                     Uttar Pradesh  ...       152\n",
              "32                       West Bengal  ...       265\n",
              "33  Cases being reassigned to states  ...       NaN\n",
              "34                            Total#  ...      3720\n",
              "\n",
              "[5 rows x 4 columns]"
            ]
          },
          "metadata": {
            "tags": []
          },
          "execution_count": 46
        }
      ]
    },
    {
      "cell_type": "code",
      "metadata": {
        "id": "7GZaWw8HCl50",
        "colab_type": "code",
        "colab": {}
      },
      "source": [
        "df_india = df_india.fillna(0)\n",
        "df_india.at[24,'Deaths**'] = 0"
      ],
      "execution_count": 0,
      "outputs": []
    },
    {
      "cell_type": "code",
      "metadata": {
        "id": "P_jWOUxSv0n3",
        "colab_type": "code",
        "outputId": "48ca4a0a-2576-4668-bd0c-04c7862859cb",
        "colab": {
          "base_uri": "https://localhost:8080/",
          "height": 204
        }
      },
      "source": [
        "df_india.tail()"
      ],
      "execution_count": 48,
      "outputs": [
        {
          "output_type": "execute_result",
          "data": {
            "text/html": [
              "<div>\n",
              "<style scoped>\n",
              "    .dataframe tbody tr th:only-of-type {\n",
              "        vertical-align: middle;\n",
              "    }\n",
              "\n",
              "    .dataframe tbody tr th {\n",
              "        vertical-align: top;\n",
              "    }\n",
              "\n",
              "    .dataframe thead th {\n",
              "        text-align: right;\n",
              "    }\n",
              "</style>\n",
              "<table border=\"1\" class=\"dataframe\">\n",
              "  <thead>\n",
              "    <tr style=\"text-align: right;\">\n",
              "      <th></th>\n",
              "      <th>Name of State / UT</th>\n",
              "      <th>Total Confirmed cases*</th>\n",
              "      <th>Cured/Discharged/Migrated</th>\n",
              "      <th>Deaths**</th>\n",
              "    </tr>\n",
              "  </thead>\n",
              "  <tbody>\n",
              "    <tr>\n",
              "      <th>30</th>\n",
              "      <td>Uttarakhand</td>\n",
              "      <td>153.0</td>\n",
              "      <td>56.0</td>\n",
              "      <td>1</td>\n",
              "    </tr>\n",
              "    <tr>\n",
              "      <th>31</th>\n",
              "      <td>Uttar Pradesh</td>\n",
              "      <td>5735.0</td>\n",
              "      <td>3238.0</td>\n",
              "      <td>152</td>\n",
              "    </tr>\n",
              "    <tr>\n",
              "      <th>32</th>\n",
              "      <td>West Bengal</td>\n",
              "      <td>3332.0</td>\n",
              "      <td>1221.0</td>\n",
              "      <td>265</td>\n",
              "    </tr>\n",
              "    <tr>\n",
              "      <th>33</th>\n",
              "      <td>Cases being reassigned to states</td>\n",
              "      <td>1899.0</td>\n",
              "      <td>0.0</td>\n",
              "      <td>0</td>\n",
              "    </tr>\n",
              "    <tr>\n",
              "      <th>34</th>\n",
              "      <td>Total#</td>\n",
              "      <td>125101.0</td>\n",
              "      <td>51784.0</td>\n",
              "      <td>3720</td>\n",
              "    </tr>\n",
              "  </tbody>\n",
              "</table>\n",
              "</div>"
            ],
            "text/plain": [
              "                  Name of State / UT  ...  Deaths**\n",
              "30                       Uttarakhand  ...         1\n",
              "31                     Uttar Pradesh  ...       152\n",
              "32                       West Bengal  ...       265\n",
              "33  Cases being reassigned to states  ...         0\n",
              "34                            Total#  ...      3720\n",
              "\n",
              "[5 rows x 4 columns]"
            ]
          },
          "metadata": {
            "tags": []
          },
          "execution_count": 48
        }
      ]
    },
    {
      "cell_type": "code",
      "metadata": {
        "id": "OmvJuIfSlo3m",
        "colab_type": "code",
        "colab": {}
      },
      "source": [
        "val = df_india.tail(1)"
      ],
      "execution_count": 0,
      "outputs": []
    },
    {
      "cell_type": "code",
      "metadata": {
        "id": "zhCx77bNhfzf",
        "colab_type": "code",
        "colab": {}
      },
      "source": [
        "import numpy as np\n",
        "df_india['Total Confirmed cases*'] = df_india['Total Confirmed cases*'].astype(np.int64)\n",
        "df_india['Cured/Discharged/Migrated'] = df_india['Cured/Discharged/Migrated'].astype(np.int64)\n",
        "df_india['Deaths**'] = df_india['Deaths**'].astype(np.int64)"
      ],
      "execution_count": 0,
      "outputs": []
    },
    {
      "cell_type": "code",
      "metadata": {
        "id": "odIAaajcCl_O",
        "colab_type": "code",
        "colab": {}
      },
      "source": [
        "(df_india.head(33)).style.background_gradient(cmap='Blues')\n",
        "india = (df_india.head(33))"
      ],
      "execution_count": 0,
      "outputs": []
    },
    {
      "cell_type": "code",
      "metadata": {
        "id": "jwDwVXUeyXN3",
        "colab_type": "code",
        "outputId": "3b03d8c5-27be-4037-d265-ba8c57438c9d",
        "colab": {
          "base_uri": "https://localhost:8080/",
          "height": 733
        }
      },
      "source": [
        "india.style.background_gradient(cmap='Blues')"
      ],
      "execution_count": 52,
      "outputs": [
        {
          "output_type": "execute_result",
          "data": {
            "text/html": [
              "<style  type=\"text/css\" >\n",
              "    #T_6e99ed22_9d27_11ea_ae39_0242ac1c0002row0_col1 {\n",
              "            background-color:  #f7fbff;\n",
              "            color:  #000000;\n",
              "        }    #T_6e99ed22_9d27_11ea_ae39_0242ac1c0002row0_col2 {\n",
              "            background-color:  #f7fbff;\n",
              "            color:  #000000;\n",
              "        }    #T_6e99ed22_9d27_11ea_ae39_0242ac1c0002row0_col3 {\n",
              "            background-color:  #f7fbff;\n",
              "            color:  #000000;\n",
              "        }    #T_6e99ed22_9d27_11ea_ae39_0242ac1c0002row1_col1 {\n",
              "            background-color:  #ebf3fb;\n",
              "            color:  #000000;\n",
              "        }    #T_6e99ed22_9d27_11ea_ae39_0242ac1c0002row1_col2 {\n",
              "            background-color:  #dce9f6;\n",
              "            color:  #000000;\n",
              "        }    #T_6e99ed22_9d27_11ea_ae39_0242ac1c0002row1_col3 {\n",
              "            background-color:  #f0f6fd;\n",
              "            color:  #000000;\n",
              "        }    #T_6e99ed22_9d27_11ea_ae39_0242ac1c0002row2_col1 {\n",
              "            background-color:  #f7fbff;\n",
              "            color:  #000000;\n",
              "        }    #T_6e99ed22_9d27_11ea_ae39_0242ac1c0002row2_col2 {\n",
              "            background-color:  #f7fbff;\n",
              "            color:  #000000;\n",
              "        }    #T_6e99ed22_9d27_11ea_ae39_0242ac1c0002row2_col3 {\n",
              "            background-color:  #f7fbff;\n",
              "            color:  #000000;\n",
              "        }    #T_6e99ed22_9d27_11ea_ae39_0242ac1c0002row3_col1 {\n",
              "            background-color:  #f6faff;\n",
              "            color:  #000000;\n",
              "        }    #T_6e99ed22_9d27_11ea_ae39_0242ac1c0002row3_col2 {\n",
              "            background-color:  #f6faff;\n",
              "            color:  #000000;\n",
              "        }    #T_6e99ed22_9d27_11ea_ae39_0242ac1c0002row3_col3 {\n",
              "            background-color:  #f7fbff;\n",
              "            color:  #000000;\n",
              "        }    #T_6e99ed22_9d27_11ea_ae39_0242ac1c0002row4_col1 {\n",
              "            background-color:  #eef5fc;\n",
              "            color:  #000000;\n",
              "        }    #T_6e99ed22_9d27_11ea_ae39_0242ac1c0002row4_col2 {\n",
              "            background-color:  #eef5fc;\n",
              "            color:  #000000;\n",
              "        }    #T_6e99ed22_9d27_11ea_ae39_0242ac1c0002row4_col3 {\n",
              "            background-color:  #f6faff;\n",
              "            color:  #000000;\n",
              "        }    #T_6e99ed22_9d27_11ea_ae39_0242ac1c0002row5_col1 {\n",
              "            background-color:  #f6faff;\n",
              "            color:  #000000;\n",
              "        }    #T_6e99ed22_9d27_11ea_ae39_0242ac1c0002row5_col2 {\n",
              "            background-color:  #f5f9fe;\n",
              "            color:  #000000;\n",
              "        }    #T_6e99ed22_9d27_11ea_ae39_0242ac1c0002row5_col3 {\n",
              "            background-color:  #f7fbff;\n",
              "            color:  #000000;\n",
              "        }    #T_6e99ed22_9d27_11ea_ae39_0242ac1c0002row6_col1 {\n",
              "            background-color:  #f7fbff;\n",
              "            color:  #000000;\n",
              "        }    #T_6e99ed22_9d27_11ea_ae39_0242ac1c0002row6_col2 {\n",
              "            background-color:  #f6faff;\n",
              "            color:  #000000;\n",
              "        }    #T_6e99ed22_9d27_11ea_ae39_0242ac1c0002row6_col3 {\n",
              "            background-color:  #f7fbff;\n",
              "            color:  #000000;\n",
              "        }    #T_6e99ed22_9d27_11ea_ae39_0242ac1c0002row7_col1 {\n",
              "            background-color:  #f7fbff;\n",
              "            color:  #000000;\n",
              "        }    #T_6e99ed22_9d27_11ea_ae39_0242ac1c0002row7_col2 {\n",
              "            background-color:  #f7fbff;\n",
              "            color:  #000000;\n",
              "        }    #T_6e99ed22_9d27_11ea_ae39_0242ac1c0002row7_col3 {\n",
              "            background-color:  #f7fbff;\n",
              "            color:  #000000;\n",
              "        }    #T_6e99ed22_9d27_11ea_ae39_0242ac1c0002row8_col1 {\n",
              "            background-color:  #bed8ec;\n",
              "            color:  #000000;\n",
              "        }    #T_6e99ed22_9d27_11ea_ae39_0242ac1c0002row8_col2 {\n",
              "            background-color:  #79b5d9;\n",
              "            color:  #000000;\n",
              "        }    #T_6e99ed22_9d27_11ea_ae39_0242ac1c0002row8_col3 {\n",
              "            background-color:  #dce9f6;\n",
              "            color:  #000000;\n",
              "        }    #T_6e99ed22_9d27_11ea_ae39_0242ac1c0002row9_col1 {\n",
              "            background-color:  #f7fbff;\n",
              "            color:  #000000;\n",
              "        }    #T_6e99ed22_9d27_11ea_ae39_0242ac1c0002row9_col2 {\n",
              "            background-color:  #f7fbff;\n",
              "            color:  #000000;\n",
              "        }    #T_6e99ed22_9d27_11ea_ae39_0242ac1c0002row9_col3 {\n",
              "            background-color:  #f7fbff;\n",
              "            color:  #000000;\n",
              "        }    #T_6e99ed22_9d27_11ea_ae39_0242ac1c0002row10_col1 {\n",
              "            background-color:  #b7d4ea;\n",
              "            color:  #000000;\n",
              "        }    #T_6e99ed22_9d27_11ea_ae39_0242ac1c0002row10_col2 {\n",
              "            background-color:  #79b5d9;\n",
              "            color:  #000000;\n",
              "        }    #T_6e99ed22_9d27_11ea_ae39_0242ac1c0002row10_col3 {\n",
              "            background-color:  #61a7d2;\n",
              "            color:  #000000;\n",
              "        }    #T_6e99ed22_9d27_11ea_ae39_0242ac1c0002row11_col1 {\n",
              "            background-color:  #f2f8fd;\n",
              "            color:  #000000;\n",
              "        }    #T_6e99ed22_9d27_11ea_ae39_0242ac1c0002row11_col2 {\n",
              "            background-color:  #ecf4fb;\n",
              "            color:  #000000;\n",
              "        }    #T_6e99ed22_9d27_11ea_ae39_0242ac1c0002row11_col3 {\n",
              "            background-color:  #f5fafe;\n",
              "            color:  #000000;\n",
              "        }    #T_6e99ed22_9d27_11ea_ae39_0242ac1c0002row12_col1 {\n",
              "            background-color:  #f7fbff;\n",
              "            color:  #000000;\n",
              "        }    #T_6e99ed22_9d27_11ea_ae39_0242ac1c0002row12_col2 {\n",
              "            background-color:  #f6faff;\n",
              "            color:  #000000;\n",
              "        }    #T_6e99ed22_9d27_11ea_ae39_0242ac1c0002row12_col3 {\n",
              "            background-color:  #f7fbff;\n",
              "            color:  #000000;\n",
              "        }    #T_6e99ed22_9d27_11ea_ae39_0242ac1c0002row13_col1 {\n",
              "            background-color:  #f1f7fd;\n",
              "            color:  #000000;\n",
              "        }    #T_6e99ed22_9d27_11ea_ae39_0242ac1c0002row13_col2 {\n",
              "            background-color:  #ecf4fb;\n",
              "            color:  #000000;\n",
              "        }    #T_6e99ed22_9d27_11ea_ae39_0242ac1c0002row13_col3 {\n",
              "            background-color:  #f5f9fe;\n",
              "            color:  #000000;\n",
              "        }    #T_6e99ed22_9d27_11ea_ae39_0242ac1c0002row14_col1 {\n",
              "            background-color:  #f6faff;\n",
              "            color:  #000000;\n",
              "        }    #T_6e99ed22_9d27_11ea_ae39_0242ac1c0002row14_col2 {\n",
              "            background-color:  #f5fafe;\n",
              "            color:  #000000;\n",
              "        }    #T_6e99ed22_9d27_11ea_ae39_0242ac1c0002row14_col3 {\n",
              "            background-color:  #f7fbff;\n",
              "            color:  #000000;\n",
              "        }    #T_6e99ed22_9d27_11ea_ae39_0242ac1c0002row15_col1 {\n",
              "            background-color:  #eff6fc;\n",
              "            color:  #000000;\n",
              "        }    #T_6e99ed22_9d27_11ea_ae39_0242ac1c0002row15_col2 {\n",
              "            background-color:  #eef5fc;\n",
              "            color:  #000000;\n",
              "        }    #T_6e99ed22_9d27_11ea_ae39_0242ac1c0002row15_col3 {\n",
              "            background-color:  #f2f8fd;\n",
              "            color:  #000000;\n",
              "        }    #T_6e99ed22_9d27_11ea_ae39_0242ac1c0002row16_col1 {\n",
              "            background-color:  #f4f9fe;\n",
              "            color:  #000000;\n",
              "        }    #T_6e99ed22_9d27_11ea_ae39_0242ac1c0002row16_col2 {\n",
              "            background-color:  #eff6fc;\n",
              "            color:  #000000;\n",
              "        }    #T_6e99ed22_9d27_11ea_ae39_0242ac1c0002row16_col3 {\n",
              "            background-color:  #f7fbff;\n",
              "            color:  #000000;\n",
              "        }    #T_6e99ed22_9d27_11ea_ae39_0242ac1c0002row17_col1 {\n",
              "            background-color:  #f7fbff;\n",
              "            color:  #000000;\n",
              "        }    #T_6e99ed22_9d27_11ea_ae39_0242ac1c0002row17_col2 {\n",
              "            background-color:  #f7fbff;\n",
              "            color:  #000000;\n",
              "        }    #T_6e99ed22_9d27_11ea_ae39_0242ac1c0002row17_col3 {\n",
              "            background-color:  #f7fbff;\n",
              "            color:  #000000;\n",
              "        }    #T_6e99ed22_9d27_11ea_ae39_0242ac1c0002row18_col1 {\n",
              "            background-color:  #dce9f6;\n",
              "            color:  #000000;\n",
              "        }    #T_6e99ed22_9d27_11ea_ae39_0242ac1c0002row18_col2 {\n",
              "            background-color:  #c7dcef;\n",
              "            color:  #000000;\n",
              "        }    #T_6e99ed22_9d27_11ea_ae39_0242ac1c0002row18_col3 {\n",
              "            background-color:  #d4e4f4;\n",
              "            color:  #000000;\n",
              "        }    #T_6e99ed22_9d27_11ea_ae39_0242ac1c0002row19_col1 {\n",
              "            background-color:  #08306b;\n",
              "            color:  #f1f1f1;\n",
              "        }    #T_6e99ed22_9d27_11ea_ae39_0242ac1c0002row19_col2 {\n",
              "            background-color:  #08306b;\n",
              "            color:  #f1f1f1;\n",
              "        }    #T_6e99ed22_9d27_11ea_ae39_0242ac1c0002row19_col3 {\n",
              "            background-color:  #08306b;\n",
              "            color:  #f1f1f1;\n",
              "        }    #T_6e99ed22_9d27_11ea_ae39_0242ac1c0002row20_col1 {\n",
              "            background-color:  #f7fbff;\n",
              "            color:  #000000;\n",
              "        }    #T_6e99ed22_9d27_11ea_ae39_0242ac1c0002row20_col2 {\n",
              "            background-color:  #f7fbff;\n",
              "            color:  #000000;\n",
              "        }    #T_6e99ed22_9d27_11ea_ae39_0242ac1c0002row20_col3 {\n",
              "            background-color:  #f7fbff;\n",
              "            color:  #000000;\n",
              "        }    #T_6e99ed22_9d27_11ea_ae39_0242ac1c0002row21_col1 {\n",
              "            background-color:  #f7fbff;\n",
              "            color:  #000000;\n",
              "        }    #T_6e99ed22_9d27_11ea_ae39_0242ac1c0002row21_col2 {\n",
              "            background-color:  #f7fbff;\n",
              "            color:  #000000;\n",
              "        }    #T_6e99ed22_9d27_11ea_ae39_0242ac1c0002row21_col3 {\n",
              "            background-color:  #f7fbff;\n",
              "            color:  #000000;\n",
              "        }    #T_6e99ed22_9d27_11ea_ae39_0242ac1c0002row22_col1 {\n",
              "            background-color:  #f7fbff;\n",
              "            color:  #000000;\n",
              "        }    #T_6e99ed22_9d27_11ea_ae39_0242ac1c0002row22_col2 {\n",
              "            background-color:  #f7fbff;\n",
              "            color:  #000000;\n",
              "        }    #T_6e99ed22_9d27_11ea_ae39_0242ac1c0002row22_col3 {\n",
              "            background-color:  #f7fbff;\n",
              "            color:  #000000;\n",
              "        }    #T_6e99ed22_9d27_11ea_ae39_0242ac1c0002row23_col1 {\n",
              "            background-color:  #f2f8fd;\n",
              "            color:  #000000;\n",
              "        }    #T_6e99ed22_9d27_11ea_ae39_0242ac1c0002row23_col2 {\n",
              "            background-color:  #f1f7fd;\n",
              "            color:  #000000;\n",
              "        }    #T_6e99ed22_9d27_11ea_ae39_0242ac1c0002row23_col3 {\n",
              "            background-color:  #f6faff;\n",
              "            color:  #000000;\n",
              "        }    #T_6e99ed22_9d27_11ea_ae39_0242ac1c0002row24_col1 {\n",
              "            background-color:  #f7fbff;\n",
              "            color:  #000000;\n",
              "        }    #T_6e99ed22_9d27_11ea_ae39_0242ac1c0002row24_col2 {\n",
              "            background-color:  #f7fbff;\n",
              "            color:  #000000;\n",
              "        }    #T_6e99ed22_9d27_11ea_ae39_0242ac1c0002row24_col3 {\n",
              "            background-color:  #f7fbff;\n",
              "            color:  #000000;\n",
              "        }    #T_6e99ed22_9d27_11ea_ae39_0242ac1c0002row25_col1 {\n",
              "            background-color:  #eef5fc;\n",
              "            color:  #000000;\n",
              "        }    #T_6e99ed22_9d27_11ea_ae39_0242ac1c0002row25_col2 {\n",
              "            background-color:  #dae8f6;\n",
              "            color:  #000000;\n",
              "        }    #T_6e99ed22_9d27_11ea_ae39_0242ac1c0002row25_col3 {\n",
              "            background-color:  #f2f8fd;\n",
              "            color:  #000000;\n",
              "        }    #T_6e99ed22_9d27_11ea_ae39_0242ac1c0002row26_col1 {\n",
              "            background-color:  #dae8f6;\n",
              "            color:  #000000;\n",
              "        }    #T_6e99ed22_9d27_11ea_ae39_0242ac1c0002row26_col2 {\n",
              "            background-color:  #b9d6ea;\n",
              "            color:  #000000;\n",
              "        }    #T_6e99ed22_9d27_11ea_ae39_0242ac1c0002row26_col3 {\n",
              "            background-color:  #e3eef9;\n",
              "            color:  #000000;\n",
              "        }    #T_6e99ed22_9d27_11ea_ae39_0242ac1c0002row27_col1 {\n",
              "            background-color:  #add0e6;\n",
              "            color:  #000000;\n",
              "        }    #T_6e99ed22_9d27_11ea_ae39_0242ac1c0002row27_col2 {\n",
              "            background-color:  #549fcd;\n",
              "            color:  #000000;\n",
              "        }    #T_6e99ed22_9d27_11ea_ae39_0242ac1c0002row27_col3 {\n",
              "            background-color:  #eaf3fb;\n",
              "            color:  #000000;\n",
              "        }    #T_6e99ed22_9d27_11ea_ae39_0242ac1c0002row28_col1 {\n",
              "            background-color:  #eff6fc;\n",
              "            color:  #000000;\n",
              "        }    #T_6e99ed22_9d27_11ea_ae39_0242ac1c0002row28_col2 {\n",
              "            background-color:  #e7f0fa;\n",
              "            color:  #000000;\n",
              "        }    #T_6e99ed22_9d27_11ea_ae39_0242ac1c0002row28_col3 {\n",
              "            background-color:  #f2f7fd;\n",
              "            color:  #000000;\n",
              "        }    #T_6e99ed22_9d27_11ea_ae39_0242ac1c0002row29_col1 {\n",
              "            background-color:  #f7fbff;\n",
              "            color:  #000000;\n",
              "        }    #T_6e99ed22_9d27_11ea_ae39_0242ac1c0002row29_col2 {\n",
              "            background-color:  #f5f9fe;\n",
              "            color:  #000000;\n",
              "        }    #T_6e99ed22_9d27_11ea_ae39_0242ac1c0002row29_col3 {\n",
              "            background-color:  #f7fbff;\n",
              "            color:  #000000;\n",
              "        }    #T_6e99ed22_9d27_11ea_ae39_0242ac1c0002row30_col1 {\n",
              "            background-color:  #f7fbff;\n",
              "            color:  #000000;\n",
              "        }    #T_6e99ed22_9d27_11ea_ae39_0242ac1c0002row30_col2 {\n",
              "            background-color:  #f6faff;\n",
              "            color:  #000000;\n",
              "        }    #T_6e99ed22_9d27_11ea_ae39_0242ac1c0002row30_col3 {\n",
              "            background-color:  #f7fbff;\n",
              "            color:  #000000;\n",
              "        }    #T_6e99ed22_9d27_11ea_ae39_0242ac1c0002row31_col1 {\n",
              "            background-color:  #deebf7;\n",
              "            color:  #000000;\n",
              "        }    #T_6e99ed22_9d27_11ea_ae39_0242ac1c0002row31_col2 {\n",
              "            background-color:  #c4daee;\n",
              "            color:  #000000;\n",
              "        }    #T_6e99ed22_9d27_11ea_ae39_0242ac1c0002row31_col3 {\n",
              "            background-color:  #e3eef9;\n",
              "            color:  #000000;\n",
              "        }    #T_6e99ed22_9d27_11ea_ae39_0242ac1c0002row32_col1 {\n",
              "            background-color:  #e8f1fa;\n",
              "            color:  #000000;\n",
              "        }    #T_6e99ed22_9d27_11ea_ae39_0242ac1c0002row32_col2 {\n",
              "            background-color:  #e4eff9;\n",
              "            color:  #000000;\n",
              "        }    #T_6e99ed22_9d27_11ea_ae39_0242ac1c0002row32_col3 {\n",
              "            background-color:  #d5e5f4;\n",
              "            color:  #000000;\n",
              "        }</style><table id=\"T_6e99ed22_9d27_11ea_ae39_0242ac1c0002\" ><thead>    <tr>        <th class=\"blank level0\" ></th>        <th class=\"col_heading level0 col0\" >Name of State / UT</th>        <th class=\"col_heading level0 col1\" >Total Confirmed cases*</th>        <th class=\"col_heading level0 col2\" >Cured/Discharged/Migrated</th>        <th class=\"col_heading level0 col3\" >Deaths**</th>    </tr></thead><tbody>\n",
              "                <tr>\n",
              "                        <th id=\"T_6e99ed22_9d27_11ea_ae39_0242ac1c0002level0_row0\" class=\"row_heading level0 row0\" >0</th>\n",
              "                        <td id=\"T_6e99ed22_9d27_11ea_ae39_0242ac1c0002row0_col0\" class=\"data row0 col0\" >Andaman and Nicobar Islands</td>\n",
              "                        <td id=\"T_6e99ed22_9d27_11ea_ae39_0242ac1c0002row0_col1\" class=\"data row0 col1\" >33</td>\n",
              "                        <td id=\"T_6e99ed22_9d27_11ea_ae39_0242ac1c0002row0_col2\" class=\"data row0 col2\" >33</td>\n",
              "                        <td id=\"T_6e99ed22_9d27_11ea_ae39_0242ac1c0002row0_col3\" class=\"data row0 col3\" >0</td>\n",
              "            </tr>\n",
              "            <tr>\n",
              "                        <th id=\"T_6e99ed22_9d27_11ea_ae39_0242ac1c0002level0_row1\" class=\"row_heading level0 row1\" >1</th>\n",
              "                        <td id=\"T_6e99ed22_9d27_11ea_ae39_0242ac1c0002row1_col0\" class=\"data row1 col0\" >Andhra Pradesh</td>\n",
              "                        <td id=\"T_6e99ed22_9d27_11ea_ae39_0242ac1c0002row1_col1\" class=\"data row1 col1\" >2709</td>\n",
              "                        <td id=\"T_6e99ed22_9d27_11ea_ae39_0242ac1c0002row1_col2\" class=\"data row1 col2\" >1763</td>\n",
              "                        <td id=\"T_6e99ed22_9d27_11ea_ae39_0242ac1c0002row1_col3\" class=\"data row1 col3\" >55</td>\n",
              "            </tr>\n",
              "            <tr>\n",
              "                        <th id=\"T_6e99ed22_9d27_11ea_ae39_0242ac1c0002level0_row2\" class=\"row_heading level0 row2\" >2</th>\n",
              "                        <td id=\"T_6e99ed22_9d27_11ea_ae39_0242ac1c0002row2_col0\" class=\"data row2 col0\" >Arunachal Pradesh</td>\n",
              "                        <td id=\"T_6e99ed22_9d27_11ea_ae39_0242ac1c0002row2_col1\" class=\"data row2 col1\" >1</td>\n",
              "                        <td id=\"T_6e99ed22_9d27_11ea_ae39_0242ac1c0002row2_col2\" class=\"data row2 col2\" >1</td>\n",
              "                        <td id=\"T_6e99ed22_9d27_11ea_ae39_0242ac1c0002row2_col3\" class=\"data row2 col3\" >0</td>\n",
              "            </tr>\n",
              "            <tr>\n",
              "                        <th id=\"T_6e99ed22_9d27_11ea_ae39_0242ac1c0002level0_row3\" class=\"row_heading level0 row3\" >3</th>\n",
              "                        <td id=\"T_6e99ed22_9d27_11ea_ae39_0242ac1c0002row3_col0\" class=\"data row3 col0\" >Assam</td>\n",
              "                        <td id=\"T_6e99ed22_9d27_11ea_ae39_0242ac1c0002row3_col1\" class=\"data row3 col1\" >259</td>\n",
              "                        <td id=\"T_6e99ed22_9d27_11ea_ae39_0242ac1c0002row3_col2\" class=\"data row3 col2\" >54</td>\n",
              "                        <td id=\"T_6e99ed22_9d27_11ea_ae39_0242ac1c0002row3_col3\" class=\"data row3 col3\" >4</td>\n",
              "            </tr>\n",
              "            <tr>\n",
              "                        <th id=\"T_6e99ed22_9d27_11ea_ae39_0242ac1c0002level0_row4\" class=\"row_heading level0 row4\" >4</th>\n",
              "                        <td id=\"T_6e99ed22_9d27_11ea_ae39_0242ac1c0002row4_col0\" class=\"data row4 col0\" >Bihar</td>\n",
              "                        <td id=\"T_6e99ed22_9d27_11ea_ae39_0242ac1c0002row4_col1\" class=\"data row4 col1\" >2177</td>\n",
              "                        <td id=\"T_6e99ed22_9d27_11ea_ae39_0242ac1c0002row4_col2\" class=\"data row4 col2\" >629</td>\n",
              "                        <td id=\"T_6e99ed22_9d27_11ea_ae39_0242ac1c0002row4_col3\" class=\"data row4 col3\" >11</td>\n",
              "            </tr>\n",
              "            <tr>\n",
              "                        <th id=\"T_6e99ed22_9d27_11ea_ae39_0242ac1c0002level0_row5\" class=\"row_heading level0 row5\" >5</th>\n",
              "                        <td id=\"T_6e99ed22_9d27_11ea_ae39_0242ac1c0002row5_col0\" class=\"data row5 col0\" >Chandigarh</td>\n",
              "                        <td id=\"T_6e99ed22_9d27_11ea_ae39_0242ac1c0002row5_col1\" class=\"data row5 col1\" >218</td>\n",
              "                        <td id=\"T_6e99ed22_9d27_11ea_ae39_0242ac1c0002row5_col2\" class=\"data row5 col2\" >178</td>\n",
              "                        <td id=\"T_6e99ed22_9d27_11ea_ae39_0242ac1c0002row5_col3\" class=\"data row5 col3\" >3</td>\n",
              "            </tr>\n",
              "            <tr>\n",
              "                        <th id=\"T_6e99ed22_9d27_11ea_ae39_0242ac1c0002level0_row6\" class=\"row_heading level0 row6\" >6</th>\n",
              "                        <td id=\"T_6e99ed22_9d27_11ea_ae39_0242ac1c0002row6_col0\" class=\"data row6 col0\" >Chhattisgarh</td>\n",
              "                        <td id=\"T_6e99ed22_9d27_11ea_ae39_0242ac1c0002row6_col1\" class=\"data row6 col1\" >172</td>\n",
              "                        <td id=\"T_6e99ed22_9d27_11ea_ae39_0242ac1c0002row6_col2\" class=\"data row6 col2\" >62</td>\n",
              "                        <td id=\"T_6e99ed22_9d27_11ea_ae39_0242ac1c0002row6_col3\" class=\"data row6 col3\" >0</td>\n",
              "            </tr>\n",
              "            <tr>\n",
              "                        <th id=\"T_6e99ed22_9d27_11ea_ae39_0242ac1c0002level0_row7\" class=\"row_heading level0 row7\" >7</th>\n",
              "                        <td id=\"T_6e99ed22_9d27_11ea_ae39_0242ac1c0002row7_col0\" class=\"data row7 col0\" >Dadar Nagar Haveli</td>\n",
              "                        <td id=\"T_6e99ed22_9d27_11ea_ae39_0242ac1c0002row7_col1\" class=\"data row7 col1\" >1</td>\n",
              "                        <td id=\"T_6e99ed22_9d27_11ea_ae39_0242ac1c0002row7_col2\" class=\"data row7 col2\" >0</td>\n",
              "                        <td id=\"T_6e99ed22_9d27_11ea_ae39_0242ac1c0002row7_col3\" class=\"data row7 col3\" >0</td>\n",
              "            </tr>\n",
              "            <tr>\n",
              "                        <th id=\"T_6e99ed22_9d27_11ea_ae39_0242ac1c0002level0_row8\" class=\"row_heading level0 row8\" >8</th>\n",
              "                        <td id=\"T_6e99ed22_9d27_11ea_ae39_0242ac1c0002row8_col0\" class=\"data row8 col0\" >Delhi</td>\n",
              "                        <td id=\"T_6e99ed22_9d27_11ea_ae39_0242ac1c0002row8_col1\" class=\"data row8 col1\" >12319</td>\n",
              "                        <td id=\"T_6e99ed22_9d27_11ea_ae39_0242ac1c0002row8_col2\" class=\"data row8 col2\" >5897</td>\n",
              "                        <td id=\"T_6e99ed22_9d27_11ea_ae39_0242ac1c0002row8_col3\" class=\"data row8 col3\" >208</td>\n",
              "            </tr>\n",
              "            <tr>\n",
              "                        <th id=\"T_6e99ed22_9d27_11ea_ae39_0242ac1c0002level0_row9\" class=\"row_heading level0 row9\" >9</th>\n",
              "                        <td id=\"T_6e99ed22_9d27_11ea_ae39_0242ac1c0002row9_col0\" class=\"data row9 col0\" >Goa</td>\n",
              "                        <td id=\"T_6e99ed22_9d27_11ea_ae39_0242ac1c0002row9_col1\" class=\"data row9 col1\" >54</td>\n",
              "                        <td id=\"T_6e99ed22_9d27_11ea_ae39_0242ac1c0002row9_col2\" class=\"data row9 col2\" >16</td>\n",
              "                        <td id=\"T_6e99ed22_9d27_11ea_ae39_0242ac1c0002row9_col3\" class=\"data row9 col3\" >0</td>\n",
              "            </tr>\n",
              "            <tr>\n",
              "                        <th id=\"T_6e99ed22_9d27_11ea_ae39_0242ac1c0002level0_row10\" class=\"row_heading level0 row10\" >10</th>\n",
              "                        <td id=\"T_6e99ed22_9d27_11ea_ae39_0242ac1c0002row10_col0\" class=\"data row10 col0\" >Gujarat</td>\n",
              "                        <td id=\"T_6e99ed22_9d27_11ea_ae39_0242ac1c0002row10_col1\" class=\"data row10 col1\" >13268</td>\n",
              "                        <td id=\"T_6e99ed22_9d27_11ea_ae39_0242ac1c0002row10_col2\" class=\"data row10 col2\" >5880</td>\n",
              "                        <td id=\"T_6e99ed22_9d27_11ea_ae39_0242ac1c0002row10_col3\" class=\"data row10 col3\" >802</td>\n",
              "            </tr>\n",
              "            <tr>\n",
              "                        <th id=\"T_6e99ed22_9d27_11ea_ae39_0242ac1c0002level0_row11\" class=\"row_heading level0 row11\" >11</th>\n",
              "                        <td id=\"T_6e99ed22_9d27_11ea_ae39_0242ac1c0002row11_col0\" class=\"data row11 col0\" >Haryana</td>\n",
              "                        <td id=\"T_6e99ed22_9d27_11ea_ae39_0242ac1c0002row11_col1\" class=\"data row11 col1\" >1067</td>\n",
              "                        <td id=\"T_6e99ed22_9d27_11ea_ae39_0242ac1c0002row11_col2\" class=\"data row11 col2\" >706</td>\n",
              "                        <td id=\"T_6e99ed22_9d27_11ea_ae39_0242ac1c0002row11_col3\" class=\"data row11 col3\" >16</td>\n",
              "            </tr>\n",
              "            <tr>\n",
              "                        <th id=\"T_6e99ed22_9d27_11ea_ae39_0242ac1c0002level0_row12\" class=\"row_heading level0 row12\" >12</th>\n",
              "                        <td id=\"T_6e99ed22_9d27_11ea_ae39_0242ac1c0002row12_col0\" class=\"data row12 col0\" >Himachal Pradesh</td>\n",
              "                        <td id=\"T_6e99ed22_9d27_11ea_ae39_0242ac1c0002row12_col1\" class=\"data row12 col1\" >168</td>\n",
              "                        <td id=\"T_6e99ed22_9d27_11ea_ae39_0242ac1c0002row12_col2\" class=\"data row12 col2\" >59</td>\n",
              "                        <td id=\"T_6e99ed22_9d27_11ea_ae39_0242ac1c0002row12_col3\" class=\"data row12 col3\" >3</td>\n",
              "            </tr>\n",
              "            <tr>\n",
              "                        <th id=\"T_6e99ed22_9d27_11ea_ae39_0242ac1c0002level0_row13\" class=\"row_heading level0 row13\" >13</th>\n",
              "                        <td id=\"T_6e99ed22_9d27_11ea_ae39_0242ac1c0002row13_col0\" class=\"data row13 col0\" >Jammu and Kashmir</td>\n",
              "                        <td id=\"T_6e99ed22_9d27_11ea_ae39_0242ac1c0002row13_col1\" class=\"data row13 col1\" >1489</td>\n",
              "                        <td id=\"T_6e99ed22_9d27_11ea_ae39_0242ac1c0002row13_col2\" class=\"data row13 col2\" >720</td>\n",
              "                        <td id=\"T_6e99ed22_9d27_11ea_ae39_0242ac1c0002row13_col3\" class=\"data row13 col3\" >20</td>\n",
              "            </tr>\n",
              "            <tr>\n",
              "                        <th id=\"T_6e99ed22_9d27_11ea_ae39_0242ac1c0002level0_row14\" class=\"row_heading level0 row14\" >14</th>\n",
              "                        <td id=\"T_6e99ed22_9d27_11ea_ae39_0242ac1c0002row14_col0\" class=\"data row14 col0\" >Jharkhand</td>\n",
              "                        <td id=\"T_6e99ed22_9d27_11ea_ae39_0242ac1c0002row14_col1\" class=\"data row14 col1\" >308</td>\n",
              "                        <td id=\"T_6e99ed22_9d27_11ea_ae39_0242ac1c0002row14_col2\" class=\"data row14 col2\" >136</td>\n",
              "                        <td id=\"T_6e99ed22_9d27_11ea_ae39_0242ac1c0002row14_col3\" class=\"data row14 col3\" >3</td>\n",
              "            </tr>\n",
              "            <tr>\n",
              "                        <th id=\"T_6e99ed22_9d27_11ea_ae39_0242ac1c0002level0_row15\" class=\"row_heading level0 row15\" >15</th>\n",
              "                        <td id=\"T_6e99ed22_9d27_11ea_ae39_0242ac1c0002row15_col0\" class=\"data row15 col0\" >Karnataka</td>\n",
              "                        <td id=\"T_6e99ed22_9d27_11ea_ae39_0242ac1c0002row15_col1\" class=\"data row15 col1\" >1743</td>\n",
              "                        <td id=\"T_6e99ed22_9d27_11ea_ae39_0242ac1c0002row15_col2\" class=\"data row15 col2\" >597</td>\n",
              "                        <td id=\"T_6e99ed22_9d27_11ea_ae39_0242ac1c0002row15_col3\" class=\"data row15 col3\" >41</td>\n",
              "            </tr>\n",
              "            <tr>\n",
              "                        <th id=\"T_6e99ed22_9d27_11ea_ae39_0242ac1c0002level0_row16\" class=\"row_heading level0 row16\" >16</th>\n",
              "                        <td id=\"T_6e99ed22_9d27_11ea_ae39_0242ac1c0002row16_col0\" class=\"data row16 col0\" >Kerala</td>\n",
              "                        <td id=\"T_6e99ed22_9d27_11ea_ae39_0242ac1c0002row16_col1\" class=\"data row16 col1\" >732</td>\n",
              "                        <td id=\"T_6e99ed22_9d27_11ea_ae39_0242ac1c0002row16_col2\" class=\"data row16 col2\" >512</td>\n",
              "                        <td id=\"T_6e99ed22_9d27_11ea_ae39_0242ac1c0002row16_col3\" class=\"data row16 col3\" >4</td>\n",
              "            </tr>\n",
              "            <tr>\n",
              "                        <th id=\"T_6e99ed22_9d27_11ea_ae39_0242ac1c0002level0_row17\" class=\"row_heading level0 row17\" >17</th>\n",
              "                        <td id=\"T_6e99ed22_9d27_11ea_ae39_0242ac1c0002row17_col0\" class=\"data row17 col0\" >Ladakh</td>\n",
              "                        <td id=\"T_6e99ed22_9d27_11ea_ae39_0242ac1c0002row17_col1\" class=\"data row17 col1\" >44</td>\n",
              "                        <td id=\"T_6e99ed22_9d27_11ea_ae39_0242ac1c0002row17_col2\" class=\"data row17 col2\" >43</td>\n",
              "                        <td id=\"T_6e99ed22_9d27_11ea_ae39_0242ac1c0002row17_col3\" class=\"data row17 col3\" >0</td>\n",
              "            </tr>\n",
              "            <tr>\n",
              "                        <th id=\"T_6e99ed22_9d27_11ea_ae39_0242ac1c0002level0_row18\" class=\"row_heading level0 row18\" >18</th>\n",
              "                        <td id=\"T_6e99ed22_9d27_11ea_ae39_0242ac1c0002row18_col0\" class=\"data row18 col0\" >Madhya Pradesh</td>\n",
              "                        <td id=\"T_6e99ed22_9d27_11ea_ae39_0242ac1c0002row18_col1\" class=\"data row18 col1\" >6170</td>\n",
              "                        <td id=\"T_6e99ed22_9d27_11ea_ae39_0242ac1c0002row18_col2\" class=\"data row18 col2\" >3089</td>\n",
              "                        <td id=\"T_6e99ed22_9d27_11ea_ae39_0242ac1c0002row18_col3\" class=\"data row18 col3\" >272</td>\n",
              "            </tr>\n",
              "            <tr>\n",
              "                        <th id=\"T_6e99ed22_9d27_11ea_ae39_0242ac1c0002level0_row19\" class=\"row_heading level0 row19\" >19</th>\n",
              "                        <td id=\"T_6e99ed22_9d27_11ea_ae39_0242ac1c0002row19_col0\" class=\"data row19 col0\" >Maharashtra</td>\n",
              "                        <td id=\"T_6e99ed22_9d27_11ea_ae39_0242ac1c0002row19_col1\" class=\"data row19 col1\" >44582</td>\n",
              "                        <td id=\"T_6e99ed22_9d27_11ea_ae39_0242ac1c0002row19_col2\" class=\"data row19 col2\" >12583</td>\n",
              "                        <td id=\"T_6e99ed22_9d27_11ea_ae39_0242ac1c0002row19_col3\" class=\"data row19 col3\" >1517</td>\n",
              "            </tr>\n",
              "            <tr>\n",
              "                        <th id=\"T_6e99ed22_9d27_11ea_ae39_0242ac1c0002level0_row20\" class=\"row_heading level0 row20\" >20</th>\n",
              "                        <td id=\"T_6e99ed22_9d27_11ea_ae39_0242ac1c0002row20_col0\" class=\"data row20 col0\" >Manipur</td>\n",
              "                        <td id=\"T_6e99ed22_9d27_11ea_ae39_0242ac1c0002row20_col1\" class=\"data row20 col1\" >26</td>\n",
              "                        <td id=\"T_6e99ed22_9d27_11ea_ae39_0242ac1c0002row20_col2\" class=\"data row20 col2\" >2</td>\n",
              "                        <td id=\"T_6e99ed22_9d27_11ea_ae39_0242ac1c0002row20_col3\" class=\"data row20 col3\" >0</td>\n",
              "            </tr>\n",
              "            <tr>\n",
              "                        <th id=\"T_6e99ed22_9d27_11ea_ae39_0242ac1c0002level0_row21\" class=\"row_heading level0 row21\" >21</th>\n",
              "                        <td id=\"T_6e99ed22_9d27_11ea_ae39_0242ac1c0002row21_col0\" class=\"data row21 col0\" >Meghalaya</td>\n",
              "                        <td id=\"T_6e99ed22_9d27_11ea_ae39_0242ac1c0002row21_col1\" class=\"data row21 col1\" >14</td>\n",
              "                        <td id=\"T_6e99ed22_9d27_11ea_ae39_0242ac1c0002row21_col2\" class=\"data row21 col2\" >12</td>\n",
              "                        <td id=\"T_6e99ed22_9d27_11ea_ae39_0242ac1c0002row21_col3\" class=\"data row21 col3\" >1</td>\n",
              "            </tr>\n",
              "            <tr>\n",
              "                        <th id=\"T_6e99ed22_9d27_11ea_ae39_0242ac1c0002level0_row22\" class=\"row_heading level0 row22\" >22</th>\n",
              "                        <td id=\"T_6e99ed22_9d27_11ea_ae39_0242ac1c0002row22_col0\" class=\"data row22 col0\" >Mizoram</td>\n",
              "                        <td id=\"T_6e99ed22_9d27_11ea_ae39_0242ac1c0002row22_col1\" class=\"data row22 col1\" >1</td>\n",
              "                        <td id=\"T_6e99ed22_9d27_11ea_ae39_0242ac1c0002row22_col2\" class=\"data row22 col2\" >1</td>\n",
              "                        <td id=\"T_6e99ed22_9d27_11ea_ae39_0242ac1c0002row22_col3\" class=\"data row22 col3\" >0</td>\n",
              "            </tr>\n",
              "            <tr>\n",
              "                        <th id=\"T_6e99ed22_9d27_11ea_ae39_0242ac1c0002level0_row23\" class=\"row_heading level0 row23\" >23</th>\n",
              "                        <td id=\"T_6e99ed22_9d27_11ea_ae39_0242ac1c0002row23_col0\" class=\"data row23 col0\" >Odisha</td>\n",
              "                        <td id=\"T_6e99ed22_9d27_11ea_ae39_0242ac1c0002row23_col1\" class=\"data row23 col1\" >1189</td>\n",
              "                        <td id=\"T_6e99ed22_9d27_11ea_ae39_0242ac1c0002row23_col2\" class=\"data row23 col2\" >436</td>\n",
              "                        <td id=\"T_6e99ed22_9d27_11ea_ae39_0242ac1c0002row23_col3\" class=\"data row23 col3\" >7</td>\n",
              "            </tr>\n",
              "            <tr>\n",
              "                        <th id=\"T_6e99ed22_9d27_11ea_ae39_0242ac1c0002level0_row24\" class=\"row_heading level0 row24\" >24</th>\n",
              "                        <td id=\"T_6e99ed22_9d27_11ea_ae39_0242ac1c0002row24_col0\" class=\"data row24 col0\" >Puducherry</td>\n",
              "                        <td id=\"T_6e99ed22_9d27_11ea_ae39_0242ac1c0002row24_col1\" class=\"data row24 col1\" >26</td>\n",
              "                        <td id=\"T_6e99ed22_9d27_11ea_ae39_0242ac1c0002row24_col2\" class=\"data row24 col2\" >10</td>\n",
              "                        <td id=\"T_6e99ed22_9d27_11ea_ae39_0242ac1c0002row24_col3\" class=\"data row24 col3\" >0</td>\n",
              "            </tr>\n",
              "            <tr>\n",
              "                        <th id=\"T_6e99ed22_9d27_11ea_ae39_0242ac1c0002level0_row25\" class=\"row_heading level0 row25\" >25</th>\n",
              "                        <td id=\"T_6e99ed22_9d27_11ea_ae39_0242ac1c0002row25_col0\" class=\"data row25 col0\" >Punjab</td>\n",
              "                        <td id=\"T_6e99ed22_9d27_11ea_ae39_0242ac1c0002row25_col1\" class=\"data row25 col1\" >2029</td>\n",
              "                        <td id=\"T_6e99ed22_9d27_11ea_ae39_0242ac1c0002row25_col2\" class=\"data row25 col2\" >1847</td>\n",
              "                        <td id=\"T_6e99ed22_9d27_11ea_ae39_0242ac1c0002row25_col3\" class=\"data row25 col3\" >39</td>\n",
              "            </tr>\n",
              "            <tr>\n",
              "                        <th id=\"T_6e99ed22_9d27_11ea_ae39_0242ac1c0002level0_row26\" class=\"row_heading level0 row26\" >26</th>\n",
              "                        <td id=\"T_6e99ed22_9d27_11ea_ae39_0242ac1c0002row26_col0\" class=\"data row26 col0\" >Rajasthan</td>\n",
              "                        <td id=\"T_6e99ed22_9d27_11ea_ae39_0242ac1c0002row26_col1\" class=\"data row26 col1\" >6494</td>\n",
              "                        <td id=\"T_6e99ed22_9d27_11ea_ae39_0242ac1c0002row26_col2\" class=\"data row26 col2\" >3680</td>\n",
              "                        <td id=\"T_6e99ed22_9d27_11ea_ae39_0242ac1c0002row26_col3\" class=\"data row26 col3\" >153</td>\n",
              "            </tr>\n",
              "            <tr>\n",
              "                        <th id=\"T_6e99ed22_9d27_11ea_ae39_0242ac1c0002level0_row27\" class=\"row_heading level0 row27\" >27</th>\n",
              "                        <td id=\"T_6e99ed22_9d27_11ea_ae39_0242ac1c0002row27_col0\" class=\"data row27 col0\" >Tamil Nadu</td>\n",
              "                        <td id=\"T_6e99ed22_9d27_11ea_ae39_0242ac1c0002row27_col1\" class=\"data row27 col1\" >14753</td>\n",
              "                        <td id=\"T_6e99ed22_9d27_11ea_ae39_0242ac1c0002row27_col2\" class=\"data row27 col2\" >7128</td>\n",
              "                        <td id=\"T_6e99ed22_9d27_11ea_ae39_0242ac1c0002row27_col3\" class=\"data row27 col3\" >98</td>\n",
              "            </tr>\n",
              "            <tr>\n",
              "                        <th id=\"T_6e99ed22_9d27_11ea_ae39_0242ac1c0002level0_row28\" class=\"row_heading level0 row28\" >28</th>\n",
              "                        <td id=\"T_6e99ed22_9d27_11ea_ae39_0242ac1c0002row28_col0\" class=\"data row28 col0\" >Telengana</td>\n",
              "                        <td id=\"T_6e99ed22_9d27_11ea_ae39_0242ac1c0002row28_col1\" class=\"data row28 col1\" >1761</td>\n",
              "                        <td id=\"T_6e99ed22_9d27_11ea_ae39_0242ac1c0002row28_col2\" class=\"data row28 col2\" >1043</td>\n",
              "                        <td id=\"T_6e99ed22_9d27_11ea_ae39_0242ac1c0002row28_col3\" class=\"data row28 col3\" >45</td>\n",
              "            </tr>\n",
              "            <tr>\n",
              "                        <th id=\"T_6e99ed22_9d27_11ea_ae39_0242ac1c0002level0_row29\" class=\"row_heading level0 row29\" >29</th>\n",
              "                        <td id=\"T_6e99ed22_9d27_11ea_ae39_0242ac1c0002row29_col0\" class=\"data row29 col0\" >Tripura</td>\n",
              "                        <td id=\"T_6e99ed22_9d27_11ea_ae39_0242ac1c0002row29_col1\" class=\"data row29 col1\" >175</td>\n",
              "                        <td id=\"T_6e99ed22_9d27_11ea_ae39_0242ac1c0002row29_col2\" class=\"data row29 col2\" >152</td>\n",
              "                        <td id=\"T_6e99ed22_9d27_11ea_ae39_0242ac1c0002row29_col3\" class=\"data row29 col3\" >0</td>\n",
              "            </tr>\n",
              "            <tr>\n",
              "                        <th id=\"T_6e99ed22_9d27_11ea_ae39_0242ac1c0002level0_row30\" class=\"row_heading level0 row30\" >30</th>\n",
              "                        <td id=\"T_6e99ed22_9d27_11ea_ae39_0242ac1c0002row30_col0\" class=\"data row30 col0\" >Uttarakhand</td>\n",
              "                        <td id=\"T_6e99ed22_9d27_11ea_ae39_0242ac1c0002row30_col1\" class=\"data row30 col1\" >153</td>\n",
              "                        <td id=\"T_6e99ed22_9d27_11ea_ae39_0242ac1c0002row30_col2\" class=\"data row30 col2\" >56</td>\n",
              "                        <td id=\"T_6e99ed22_9d27_11ea_ae39_0242ac1c0002row30_col3\" class=\"data row30 col3\" >1</td>\n",
              "            </tr>\n",
              "            <tr>\n",
              "                        <th id=\"T_6e99ed22_9d27_11ea_ae39_0242ac1c0002level0_row31\" class=\"row_heading level0 row31\" >31</th>\n",
              "                        <td id=\"T_6e99ed22_9d27_11ea_ae39_0242ac1c0002row31_col0\" class=\"data row31 col0\" >Uttar Pradesh</td>\n",
              "                        <td id=\"T_6e99ed22_9d27_11ea_ae39_0242ac1c0002row31_col1\" class=\"data row31 col1\" >5735</td>\n",
              "                        <td id=\"T_6e99ed22_9d27_11ea_ae39_0242ac1c0002row31_col2\" class=\"data row31 col2\" >3238</td>\n",
              "                        <td id=\"T_6e99ed22_9d27_11ea_ae39_0242ac1c0002row31_col3\" class=\"data row31 col3\" >152</td>\n",
              "            </tr>\n",
              "            <tr>\n",
              "                        <th id=\"T_6e99ed22_9d27_11ea_ae39_0242ac1c0002level0_row32\" class=\"row_heading level0 row32\" >32</th>\n",
              "                        <td id=\"T_6e99ed22_9d27_11ea_ae39_0242ac1c0002row32_col0\" class=\"data row32 col0\" >West Bengal</td>\n",
              "                        <td id=\"T_6e99ed22_9d27_11ea_ae39_0242ac1c0002row32_col1\" class=\"data row32 col1\" >3332</td>\n",
              "                        <td id=\"T_6e99ed22_9d27_11ea_ae39_0242ac1c0002row32_col2\" class=\"data row32 col2\" >1221</td>\n",
              "                        <td id=\"T_6e99ed22_9d27_11ea_ae39_0242ac1c0002row32_col3\" class=\"data row32 col3\" >265</td>\n",
              "            </tr>\n",
              "    </tbody></table>"
            ],
            "text/plain": [
              "<pandas.io.formats.style.Styler at 0x7f754e643828>"
            ]
          },
          "metadata": {
            "tags": []
          },
          "execution_count": 52
        }
      ]
    },
    {
      "cell_type": "code",
      "metadata": {
        "id": "ARcgyuSDCmD1",
        "colab_type": "code",
        "outputId": "e424d481-ee20-4091-b262-fd402ac86598",
        "colab": {
          "base_uri": "https://localhost:8080/",
          "height": 754
        }
      },
      "source": [
        "india['total active'] = india['Total Confirmed cases*'] - india['Cured/Discharged/Migrated'] + india['Deaths**']\n",
        "Tot_Cases = india.groupby('Name of State / UT')['total active'].sum().sort_values(ascending=False).to_frame()\n",
        "Tot_Cases.style.background_gradient(cmap='Reds')"
      ],
      "execution_count": 53,
      "outputs": [
        {
          "output_type": "execute_result",
          "data": {
            "text/html": [
              "<style  type=\"text/css\" >\n",
              "    #T_6ea377b6_9d27_11ea_ae39_0242ac1c0002row0_col0 {\n",
              "            background-color:  #67000d;\n",
              "            color:  #f1f1f1;\n",
              "        }    #T_6ea377b6_9d27_11ea_ae39_0242ac1c0002row1_col0 {\n",
              "            background-color:  #fcbda4;\n",
              "            color:  #000000;\n",
              "        }    #T_6ea377b6_9d27_11ea_ae39_0242ac1c0002row2_col0 {\n",
              "            background-color:  #fcc2aa;\n",
              "            color:  #000000;\n",
              "        }    #T_6ea377b6_9d27_11ea_ae39_0242ac1c0002row3_col0 {\n",
              "            background-color:  #fdcbb6;\n",
              "            color:  #000000;\n",
              "        }    #T_6ea377b6_9d27_11ea_ae39_0242ac1c0002row4_col0 {\n",
              "            background-color:  #fee5d8;\n",
              "            color:  #000000;\n",
              "        }    #T_6ea377b6_9d27_11ea_ae39_0242ac1c0002row5_col0 {\n",
              "            background-color:  #fee7db;\n",
              "            color:  #000000;\n",
              "        }    #T_6ea377b6_9d27_11ea_ae39_0242ac1c0002row6_col0 {\n",
              "            background-color:  #fee8dd;\n",
              "            color:  #000000;\n",
              "        }    #T_6ea377b6_9d27_11ea_ae39_0242ac1c0002row7_col0 {\n",
              "            background-color:  #fee9df;\n",
              "            color:  #000000;\n",
              "        }    #T_6ea377b6_9d27_11ea_ae39_0242ac1c0002row8_col0 {\n",
              "            background-color:  #ffeee6;\n",
              "            color:  #000000;\n",
              "        }    #T_6ea377b6_9d27_11ea_ae39_0242ac1c0002row9_col0 {\n",
              "            background-color:  #ffefe8;\n",
              "            color:  #000000;\n",
              "        }    #T_6ea377b6_9d27_11ea_ae39_0242ac1c0002row10_col0 {\n",
              "            background-color:  #fff0e9;\n",
              "            color:  #000000;\n",
              "        }    #T_6ea377b6_9d27_11ea_ae39_0242ac1c0002row11_col0 {\n",
              "            background-color:  #fff1ea;\n",
              "            color:  #000000;\n",
              "        }    #T_6ea377b6_9d27_11ea_ae39_0242ac1c0002row12_col0 {\n",
              "            background-color:  #fff2eb;\n",
              "            color:  #000000;\n",
              "        }    #T_6ea377b6_9d27_11ea_ae39_0242ac1c0002row13_col0 {\n",
              "            background-color:  #fff2eb;\n",
              "            color:  #000000;\n",
              "        }    #T_6ea377b6_9d27_11ea_ae39_0242ac1c0002row14_col0 {\n",
              "            background-color:  #fff4ee;\n",
              "            color:  #000000;\n",
              "        }    #T_6ea377b6_9d27_11ea_ae39_0242ac1c0002row15_col0 {\n",
              "            background-color:  #fff4ef;\n",
              "            color:  #000000;\n",
              "        }    #T_6ea377b6_9d27_11ea_ae39_0242ac1c0002row16_col0 {\n",
              "            background-color:  #fff4ef;\n",
              "            color:  #000000;\n",
              "        }    #T_6ea377b6_9d27_11ea_ae39_0242ac1c0002row17_col0 {\n",
              "            background-color:  #fff4ef;\n",
              "            color:  #000000;\n",
              "        }    #T_6ea377b6_9d27_11ea_ae39_0242ac1c0002row18_col0 {\n",
              "            background-color:  #fff4ef;\n",
              "            color:  #000000;\n",
              "        }    #T_6ea377b6_9d27_11ea_ae39_0242ac1c0002row19_col0 {\n",
              "            background-color:  #fff5f0;\n",
              "            color:  #000000;\n",
              "        }    #T_6ea377b6_9d27_11ea_ae39_0242ac1c0002row20_col0 {\n",
              "            background-color:  #fff5f0;\n",
              "            color:  #000000;\n",
              "        }    #T_6ea377b6_9d27_11ea_ae39_0242ac1c0002row21_col0 {\n",
              "            background-color:  #fff5f0;\n",
              "            color:  #000000;\n",
              "        }    #T_6ea377b6_9d27_11ea_ae39_0242ac1c0002row22_col0 {\n",
              "            background-color:  #fff5f0;\n",
              "            color:  #000000;\n",
              "        }    #T_6ea377b6_9d27_11ea_ae39_0242ac1c0002row23_col0 {\n",
              "            background-color:  #fff5f0;\n",
              "            color:  #000000;\n",
              "        }    #T_6ea377b6_9d27_11ea_ae39_0242ac1c0002row24_col0 {\n",
              "            background-color:  #fff5f0;\n",
              "            color:  #000000;\n",
              "        }    #T_6ea377b6_9d27_11ea_ae39_0242ac1c0002row25_col0 {\n",
              "            background-color:  #fff5f0;\n",
              "            color:  #000000;\n",
              "        }    #T_6ea377b6_9d27_11ea_ae39_0242ac1c0002row26_col0 {\n",
              "            background-color:  #fff5f0;\n",
              "            color:  #000000;\n",
              "        }    #T_6ea377b6_9d27_11ea_ae39_0242ac1c0002row27_col0 {\n",
              "            background-color:  #fff5f0;\n",
              "            color:  #000000;\n",
              "        }    #T_6ea377b6_9d27_11ea_ae39_0242ac1c0002row28_col0 {\n",
              "            background-color:  #fff5f0;\n",
              "            color:  #000000;\n",
              "        }    #T_6ea377b6_9d27_11ea_ae39_0242ac1c0002row29_col0 {\n",
              "            background-color:  #fff5f0;\n",
              "            color:  #000000;\n",
              "        }    #T_6ea377b6_9d27_11ea_ae39_0242ac1c0002row30_col0 {\n",
              "            background-color:  #fff5f0;\n",
              "            color:  #000000;\n",
              "        }    #T_6ea377b6_9d27_11ea_ae39_0242ac1c0002row31_col0 {\n",
              "            background-color:  #fff5f0;\n",
              "            color:  #000000;\n",
              "        }    #T_6ea377b6_9d27_11ea_ae39_0242ac1c0002row32_col0 {\n",
              "            background-color:  #fff5f0;\n",
              "            color:  #000000;\n",
              "        }</style><table id=\"T_6ea377b6_9d27_11ea_ae39_0242ac1c0002\" ><thead>    <tr>        <th class=\"blank level0\" ></th>        <th class=\"col_heading level0 col0\" >total active</th>    </tr>    <tr>        <th class=\"index_name level0\" >Name of State / UT</th>        <th class=\"blank\" ></th>    </tr></thead><tbody>\n",
              "                <tr>\n",
              "                        <th id=\"T_6ea377b6_9d27_11ea_ae39_0242ac1c0002level0_row0\" class=\"row_heading level0 row0\" >Maharashtra</th>\n",
              "                        <td id=\"T_6ea377b6_9d27_11ea_ae39_0242ac1c0002row0_col0\" class=\"data row0 col0\" >33516</td>\n",
              "            </tr>\n",
              "            <tr>\n",
              "                        <th id=\"T_6ea377b6_9d27_11ea_ae39_0242ac1c0002level0_row1\" class=\"row_heading level0 row1\" >Gujarat</th>\n",
              "                        <td id=\"T_6ea377b6_9d27_11ea_ae39_0242ac1c0002row1_col0\" class=\"data row1 col0\" >8190</td>\n",
              "            </tr>\n",
              "            <tr>\n",
              "                        <th id=\"T_6ea377b6_9d27_11ea_ae39_0242ac1c0002level0_row2\" class=\"row_heading level0 row2\" >Tamil Nadu</th>\n",
              "                        <td id=\"T_6ea377b6_9d27_11ea_ae39_0242ac1c0002row2_col0\" class=\"data row2 col0\" >7723</td>\n",
              "            </tr>\n",
              "            <tr>\n",
              "                        <th id=\"T_6ea377b6_9d27_11ea_ae39_0242ac1c0002level0_row3\" class=\"row_heading level0 row3\" >Delhi</th>\n",
              "                        <td id=\"T_6ea377b6_9d27_11ea_ae39_0242ac1c0002row3_col0\" class=\"data row3 col0\" >6630</td>\n",
              "            </tr>\n",
              "            <tr>\n",
              "                        <th id=\"T_6ea377b6_9d27_11ea_ae39_0242ac1c0002level0_row4\" class=\"row_heading level0 row4\" >Madhya Pradesh</th>\n",
              "                        <td id=\"T_6ea377b6_9d27_11ea_ae39_0242ac1c0002row4_col0\" class=\"data row4 col0\" >3353</td>\n",
              "            </tr>\n",
              "            <tr>\n",
              "                        <th id=\"T_6ea377b6_9d27_11ea_ae39_0242ac1c0002level0_row5\" class=\"row_heading level0 row5\" >Rajasthan</th>\n",
              "                        <td id=\"T_6ea377b6_9d27_11ea_ae39_0242ac1c0002row5_col0\" class=\"data row5 col0\" >2967</td>\n",
              "            </tr>\n",
              "            <tr>\n",
              "                        <th id=\"T_6ea377b6_9d27_11ea_ae39_0242ac1c0002level0_row6\" class=\"row_heading level0 row6\" >Uttar Pradesh</th>\n",
              "                        <td id=\"T_6ea377b6_9d27_11ea_ae39_0242ac1c0002row6_col0\" class=\"data row6 col0\" >2649</td>\n",
              "            </tr>\n",
              "            <tr>\n",
              "                        <th id=\"T_6ea377b6_9d27_11ea_ae39_0242ac1c0002level0_row7\" class=\"row_heading level0 row7\" >West Bengal</th>\n",
              "                        <td id=\"T_6ea377b6_9d27_11ea_ae39_0242ac1c0002row7_col0\" class=\"data row7 col0\" >2376</td>\n",
              "            </tr>\n",
              "            <tr>\n",
              "                        <th id=\"T_6ea377b6_9d27_11ea_ae39_0242ac1c0002level0_row8\" class=\"row_heading level0 row8\" >Bihar</th>\n",
              "                        <td id=\"T_6ea377b6_9d27_11ea_ae39_0242ac1c0002row8_col0\" class=\"data row8 col0\" >1559</td>\n",
              "            </tr>\n",
              "            <tr>\n",
              "                        <th id=\"T_6ea377b6_9d27_11ea_ae39_0242ac1c0002level0_row9\" class=\"row_heading level0 row9\" >Karnataka</th>\n",
              "                        <td id=\"T_6ea377b6_9d27_11ea_ae39_0242ac1c0002row9_col0\" class=\"data row9 col0\" >1187</td>\n",
              "            </tr>\n",
              "            <tr>\n",
              "                        <th id=\"T_6ea377b6_9d27_11ea_ae39_0242ac1c0002level0_row10\" class=\"row_heading level0 row10\" >Andhra Pradesh</th>\n",
              "                        <td id=\"T_6ea377b6_9d27_11ea_ae39_0242ac1c0002row10_col0\" class=\"data row10 col0\" >1001</td>\n",
              "            </tr>\n",
              "            <tr>\n",
              "                        <th id=\"T_6ea377b6_9d27_11ea_ae39_0242ac1c0002level0_row11\" class=\"row_heading level0 row11\" >Jammu and Kashmir</th>\n",
              "                        <td id=\"T_6ea377b6_9d27_11ea_ae39_0242ac1c0002row11_col0\" class=\"data row11 col0\" >789</td>\n",
              "            </tr>\n",
              "            <tr>\n",
              "                        <th id=\"T_6ea377b6_9d27_11ea_ae39_0242ac1c0002level0_row12\" class=\"row_heading level0 row12\" >Telengana</th>\n",
              "                        <td id=\"T_6ea377b6_9d27_11ea_ae39_0242ac1c0002row12_col0\" class=\"data row12 col0\" >763</td>\n",
              "            </tr>\n",
              "            <tr>\n",
              "                        <th id=\"T_6ea377b6_9d27_11ea_ae39_0242ac1c0002level0_row13\" class=\"row_heading level0 row13\" >Odisha</th>\n",
              "                        <td id=\"T_6ea377b6_9d27_11ea_ae39_0242ac1c0002row13_col0\" class=\"data row13 col0\" >760</td>\n",
              "            </tr>\n",
              "            <tr>\n",
              "                        <th id=\"T_6ea377b6_9d27_11ea_ae39_0242ac1c0002level0_row14\" class=\"row_heading level0 row14\" >Haryana</th>\n",
              "                        <td id=\"T_6ea377b6_9d27_11ea_ae39_0242ac1c0002row14_col0\" class=\"data row14 col0\" >377</td>\n",
              "            </tr>\n",
              "            <tr>\n",
              "                        <th id=\"T_6ea377b6_9d27_11ea_ae39_0242ac1c0002level0_row15\" class=\"row_heading level0 row15\" >Kerala</th>\n",
              "                        <td id=\"T_6ea377b6_9d27_11ea_ae39_0242ac1c0002row15_col0\" class=\"data row15 col0\" >224</td>\n",
              "            </tr>\n",
              "            <tr>\n",
              "                        <th id=\"T_6ea377b6_9d27_11ea_ae39_0242ac1c0002level0_row16\" class=\"row_heading level0 row16\" >Punjab</th>\n",
              "                        <td id=\"T_6ea377b6_9d27_11ea_ae39_0242ac1c0002row16_col0\" class=\"data row16 col0\" >221</td>\n",
              "            </tr>\n",
              "            <tr>\n",
              "                        <th id=\"T_6ea377b6_9d27_11ea_ae39_0242ac1c0002level0_row17\" class=\"row_heading level0 row17\" >Assam</th>\n",
              "                        <td id=\"T_6ea377b6_9d27_11ea_ae39_0242ac1c0002row17_col0\" class=\"data row17 col0\" >209</td>\n",
              "            </tr>\n",
              "            <tr>\n",
              "                        <th id=\"T_6ea377b6_9d27_11ea_ae39_0242ac1c0002level0_row18\" class=\"row_heading level0 row18\" >Jharkhand</th>\n",
              "                        <td id=\"T_6ea377b6_9d27_11ea_ae39_0242ac1c0002row18_col0\" class=\"data row18 col0\" >175</td>\n",
              "            </tr>\n",
              "            <tr>\n",
              "                        <th id=\"T_6ea377b6_9d27_11ea_ae39_0242ac1c0002level0_row19\" class=\"row_heading level0 row19\" >Himachal Pradesh</th>\n",
              "                        <td id=\"T_6ea377b6_9d27_11ea_ae39_0242ac1c0002row19_col0\" class=\"data row19 col0\" >112</td>\n",
              "            </tr>\n",
              "            <tr>\n",
              "                        <th id=\"T_6ea377b6_9d27_11ea_ae39_0242ac1c0002level0_row20\" class=\"row_heading level0 row20\" >Chhattisgarh</th>\n",
              "                        <td id=\"T_6ea377b6_9d27_11ea_ae39_0242ac1c0002row20_col0\" class=\"data row20 col0\" >110</td>\n",
              "            </tr>\n",
              "            <tr>\n",
              "                        <th id=\"T_6ea377b6_9d27_11ea_ae39_0242ac1c0002level0_row21\" class=\"row_heading level0 row21\" >Uttarakhand</th>\n",
              "                        <td id=\"T_6ea377b6_9d27_11ea_ae39_0242ac1c0002row21_col0\" class=\"data row21 col0\" >98</td>\n",
              "            </tr>\n",
              "            <tr>\n",
              "                        <th id=\"T_6ea377b6_9d27_11ea_ae39_0242ac1c0002level0_row22\" class=\"row_heading level0 row22\" >Chandigarh</th>\n",
              "                        <td id=\"T_6ea377b6_9d27_11ea_ae39_0242ac1c0002row22_col0\" class=\"data row22 col0\" >43</td>\n",
              "            </tr>\n",
              "            <tr>\n",
              "                        <th id=\"T_6ea377b6_9d27_11ea_ae39_0242ac1c0002level0_row23\" class=\"row_heading level0 row23\" >Goa</th>\n",
              "                        <td id=\"T_6ea377b6_9d27_11ea_ae39_0242ac1c0002row23_col0\" class=\"data row23 col0\" >38</td>\n",
              "            </tr>\n",
              "            <tr>\n",
              "                        <th id=\"T_6ea377b6_9d27_11ea_ae39_0242ac1c0002level0_row24\" class=\"row_heading level0 row24\" >Manipur</th>\n",
              "                        <td id=\"T_6ea377b6_9d27_11ea_ae39_0242ac1c0002row24_col0\" class=\"data row24 col0\" >24</td>\n",
              "            </tr>\n",
              "            <tr>\n",
              "                        <th id=\"T_6ea377b6_9d27_11ea_ae39_0242ac1c0002level0_row25\" class=\"row_heading level0 row25\" >Tripura</th>\n",
              "                        <td id=\"T_6ea377b6_9d27_11ea_ae39_0242ac1c0002row25_col0\" class=\"data row25 col0\" >23</td>\n",
              "            </tr>\n",
              "            <tr>\n",
              "                        <th id=\"T_6ea377b6_9d27_11ea_ae39_0242ac1c0002level0_row26\" class=\"row_heading level0 row26\" >Puducherry</th>\n",
              "                        <td id=\"T_6ea377b6_9d27_11ea_ae39_0242ac1c0002row26_col0\" class=\"data row26 col0\" >16</td>\n",
              "            </tr>\n",
              "            <tr>\n",
              "                        <th id=\"T_6ea377b6_9d27_11ea_ae39_0242ac1c0002level0_row27\" class=\"row_heading level0 row27\" >Meghalaya</th>\n",
              "                        <td id=\"T_6ea377b6_9d27_11ea_ae39_0242ac1c0002row27_col0\" class=\"data row27 col0\" >3</td>\n",
              "            </tr>\n",
              "            <tr>\n",
              "                        <th id=\"T_6ea377b6_9d27_11ea_ae39_0242ac1c0002level0_row28\" class=\"row_heading level0 row28\" >Dadar Nagar Haveli</th>\n",
              "                        <td id=\"T_6ea377b6_9d27_11ea_ae39_0242ac1c0002row28_col0\" class=\"data row28 col0\" >1</td>\n",
              "            </tr>\n",
              "            <tr>\n",
              "                        <th id=\"T_6ea377b6_9d27_11ea_ae39_0242ac1c0002level0_row29\" class=\"row_heading level0 row29\" >Ladakh</th>\n",
              "                        <td id=\"T_6ea377b6_9d27_11ea_ae39_0242ac1c0002row29_col0\" class=\"data row29 col0\" >1</td>\n",
              "            </tr>\n",
              "            <tr>\n",
              "                        <th id=\"T_6ea377b6_9d27_11ea_ae39_0242ac1c0002level0_row30\" class=\"row_heading level0 row30\" >Mizoram</th>\n",
              "                        <td id=\"T_6ea377b6_9d27_11ea_ae39_0242ac1c0002row30_col0\" class=\"data row30 col0\" >0</td>\n",
              "            </tr>\n",
              "            <tr>\n",
              "                        <th id=\"T_6ea377b6_9d27_11ea_ae39_0242ac1c0002level0_row31\" class=\"row_heading level0 row31\" >Arunachal Pradesh</th>\n",
              "                        <td id=\"T_6ea377b6_9d27_11ea_ae39_0242ac1c0002row31_col0\" class=\"data row31 col0\" >0</td>\n",
              "            </tr>\n",
              "            <tr>\n",
              "                        <th id=\"T_6ea377b6_9d27_11ea_ae39_0242ac1c0002level0_row32\" class=\"row_heading level0 row32\" >Andaman and Nicobar Islands</th>\n",
              "                        <td id=\"T_6ea377b6_9d27_11ea_ae39_0242ac1c0002row32_col0\" class=\"data row32 col0\" >0</td>\n",
              "            </tr>\n",
              "    </tbody></table>"
            ],
            "text/plain": [
              "<pandas.io.formats.style.Styler at 0x7f754e674d30>"
            ]
          },
          "metadata": {
            "tags": []
          },
          "execution_count": 53
        }
      ]
    },
    {
      "cell_type": "markdown",
      "metadata": {
        "id": "UmgyR0nW6fp9",
        "colab_type": "text"
      },
      "source": [
        "#Comaprison of Predicted vs Real values"
      ]
    },
    {
      "cell_type": "code",
      "metadata": {
        "id": "99fe3MyMMkOu",
        "colab_type": "code",
        "colab": {
          "base_uri": "https://localhost:8080/",
          "height": 80
        },
        "outputId": "bf32fb8c-2fd3-4f48-bad0-1c65967afb05"
      },
      "source": [
        "val"
      ],
      "execution_count": 54,
      "outputs": [
        {
          "output_type": "execute_result",
          "data": {
            "text/html": [
              "<div>\n",
              "<style scoped>\n",
              "    .dataframe tbody tr th:only-of-type {\n",
              "        vertical-align: middle;\n",
              "    }\n",
              "\n",
              "    .dataframe tbody tr th {\n",
              "        vertical-align: top;\n",
              "    }\n",
              "\n",
              "    .dataframe thead th {\n",
              "        text-align: right;\n",
              "    }\n",
              "</style>\n",
              "<table border=\"1\" class=\"dataframe\">\n",
              "  <thead>\n",
              "    <tr style=\"text-align: right;\">\n",
              "      <th></th>\n",
              "      <th>Name of State / UT</th>\n",
              "      <th>Total Confirmed cases*</th>\n",
              "      <th>Cured/Discharged/Migrated</th>\n",
              "      <th>Deaths**</th>\n",
              "    </tr>\n",
              "  </thead>\n",
              "  <tbody>\n",
              "    <tr>\n",
              "      <th>34</th>\n",
              "      <td>Total#</td>\n",
              "      <td>125101.0</td>\n",
              "      <td>51784.0</td>\n",
              "      <td>3720</td>\n",
              "    </tr>\n",
              "  </tbody>\n",
              "</table>\n",
              "</div>"
            ],
            "text/plain": [
              "   Name of State / UT  ...  Deaths**\n",
              "34             Total#  ...      3720\n",
              "\n",
              "[1 rows x 4 columns]"
            ]
          },
          "metadata": {
            "tags": []
          },
          "execution_count": 54
        }
      ]
    },
    {
      "cell_type": "code",
      "metadata": {
        "id": "32FXxa7ml9eG",
        "colab_type": "code",
        "colab": {
          "base_uri": "https://localhost:8080/",
          "height": 272
        },
        "outputId": "b3503b29-f398-4f11-b730-1d793bc313c4"
      },
      "source": [
        "print(\"Confirmed Cases predicted by Prophet model\",prophet_con[['yhat']],'\\n \\n')\n",
        "print(\"Lower Boundary  of Confirmed Cases predicted by Prophet model\",prophet_con[['yhat_lower']],'\\n \\n')\n",
        "print(\"Upper Boundary of Confirmed Cases predicted by Prophet model\",prophet_con[['yhat_upper']],'\\n \\n')\n",
        "print(\"Confirmed cases predicted by SARIMAX model\",sarimax_con, '\\n \\n')"
      ],
      "execution_count": 55,
      "outputs": [
        {
          "output_type": "stream",
          "text": [
            "Confirmed Cases predicted by Prophet model yhat    110069\n",
            "Name: 114, dtype: object \n",
            " \n",
            "\n",
            "Lower Boundary  of Confirmed Cases predicted by Prophet model yhat_lower    105457\n",
            "Name: 114, dtype: object \n",
            " \n",
            "\n",
            "Upper Boundary of Confirmed Cases predicted by Prophet model yhat_upper    116003\n",
            "Name: 114, dtype: object \n",
            " \n",
            "\n",
            "Confirmed cases predicted by SARIMAX model 124818 \n",
            " \n",
            "\n"
          ],
          "name": "stdout"
        }
      ]
    },
    {
      "cell_type": "code",
      "metadata": {
        "id": "nm5TmDV6y40G",
        "colab_type": "code",
        "colab": {
          "base_uri": "https://localhost:8080/",
          "height": 272
        },
        "outputId": "a5ddbf15-ac87-4787-f287-31b172455d09"
      },
      "source": [
        "print(\"Recovered Cases predicted by Prophet model\",prophet_rec[['yhat']],'\\n \\n')\n",
        "print(\"Lower Boundary  of Recovered Cases predicted by Prophet model\",prophet_rec[['yhat_lower']],'\\n \\n')\n",
        "print(\"Upper Boundary of Recovered Cases predicted by Prophet model\",prophet_rec[['yhat_upper']],'\\n \\n')\n",
        "print(\"Recovered cases predicted by SARIMAX model\",sarimax_rec, '\\n \\n')"
      ],
      "execution_count": 56,
      "outputs": [
        {
          "output_type": "stream",
          "text": [
            "Recovered Cases predicted by Prophet model yhat    40450.9\n",
            "Name: 114, dtype: object \n",
            " \n",
            "\n",
            "Lower Boundary  of Recovered Cases predicted by Prophet model yhat_lower    37721.8\n",
            "Name: 114, dtype: object \n",
            " \n",
            "\n",
            "Upper Boundary of Recovered Cases predicted by Prophet model yhat_upper    43258\n",
            "Name: 114, dtype: object \n",
            " \n",
            "\n",
            "Recovered cases predicted by SARIMAX model 52022 \n",
            " \n",
            "\n"
          ],
          "name": "stdout"
        }
      ]
    },
    {
      "cell_type": "markdown",
      "metadata": {
        "id": "si6c04vO0s0X",
        "colab_type": "text"
      },
      "source": [
        "# Conculsion And Discussion\n",
        "\n",
        "From the above results we find that SARIMAX is able to predict much better confirmed cases and recovery cases compared to prophet. It is beacuse  an ARIMA model produces forecasts based upon prior values in the time series (AR terms) and the errors made by previous predictions (MA terms). This typically allows the model to rapidly adjust for sudden changes in trend, resulting in more accurate forecasts."
      ]
    }
  ]
}